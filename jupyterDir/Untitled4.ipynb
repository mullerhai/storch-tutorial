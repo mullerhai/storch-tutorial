{
 "cells": [
  {
   "cell_type": "code",
   "execution_count": 1,
   "id": "266828eb-0104-4fcf-a5ea-37ebd5ba1c57",
   "metadata": {},
   "outputs": [
    {
     "data": {
      "text/plain": [
       "\u001b[32mimport \u001b[39m\u001b[36m$ivy.$                                              \r\n",
       "\u001b[39m"
      ]
     },
     "execution_count": 1,
     "metadata": {},
     "output_type": "execute_result"
    }
   ],
   "source": [
    "import $ivy.`io.github.mullerhai::storch_core:0.5.7-1.15.2`"
   ]
  },
  {
   "cell_type": "code",
   "execution_count": 2,
   "id": "e343b90a-d8c9-4151-b232-977f023cc438",
   "metadata": {},
   "outputs": [
    {
     "name": "stderr",
     "output_type": "stream",
     "text": [
      "Resolving package/object name conflict in favor of package spire.compat. The object will be inaccessible.\n"
     ]
    },
    {
     "data": {
      "text/plain": [
       "\u001b[32mimport \u001b[39m\u001b[36morg.bytedeco.pytorch.global.torch as torchNative\r\n",
       "\u001b[39m\r\n",
       "\u001b[32mimport \u001b[39m\u001b[36mtorch.internal.NativeConverters.fromNative\r\n",
       "\u001b[39m\r\n",
       "\u001b[32mimport \u001b[39m\u001b[36mtorch.{---, ::, Slice}\r\n",
       "\u001b[39m"
      ]
     },
     "execution_count": 2,
     "metadata": {},
     "output_type": "execute_result"
    }
   ],
   "source": [
    "import org.bytedeco.pytorch.global.torch as torchNative\n",
    "import torch.internal.NativeConverters.fromNative\n",
    "import torch.{---, ::, Slice}"
   ]
  },
  {
   "cell_type": "code",
   "execution_count": 2,
   "id": "7019b2f5-f050-4747-9220-fc90111b236b",
   "metadata": {},
   "outputs": [
    {
     "name": "stderr",
     "output_type": "stream",
     "text": [
      "Resolving package/object name conflict in favor of package spire.compat. The object will be inaccessible.\n"
     ]
    },
    {
     "data": {
      "text/plain": [
       "\u001b[32mimport \u001b[39m\u001b[36morg.bytedeco.javacpp.{FloatPointer, PointerScope}\r\n",
       "\u001b[39m\r\n",
       "\u001b[32mimport \u001b[39m\u001b[36morg.bytedeco.pytorch.{Example, InputArchive, OutputArchive, TensorExampleVectorIterator}\r\n",
       "\u001b[39m\r\n",
       "\u001b[32mimport \u001b[39m\u001b[36mtorch.Device.{CPU, CUDA}\r\n",
       "\u001b[39m\r\n",
       "\u001b[32mimport \u001b[39m\u001b[36morg.bytedeco.pytorch.global.torch as torchNative\r\n",
       "\u001b[39m\r\n",
       "\u001b[32mimport \u001b[39m\u001b[36mtorch.internal.NativeConverters.fromNative\r\n",
       "\u001b[39m\r\n",
       "\u001b[32mimport \u001b[39m\u001b[36mtorch.{---, ::, Slice}\r\n",
       "\u001b[39m\r\n",
       "\u001b[32mimport \u001b[39m\u001b[36mtorch.nn.functional as F\r\n",
       "\u001b[39m\r\n",
       "\u001b[32mimport \u001b[39m\u001b[36mtorch.nn.modules.HasParams\r\n",
       "\u001b[39m\r\n",
       "\u001b[32mimport \u001b[39m\u001b[36mtorch.optim.Adam\r\n",
       "\u001b[39m\r\n",
       "\u001b[32mimport \u001b[39m\u001b[36mjava.nio.file.Paths\r\n",
       "//import scala.runtime.stdLibPatches.Predef.nn\r\n",
       "\u001b[39m\r\n",
       "\u001b[32mimport \u001b[39m\u001b[36mtorch.internal.NativeConverters.{fromNative, toNative}\r\n",
       "\u001b[39m\r\n",
       "\u001b[32mimport \u001b[39m\u001b[36mscala.util.{Random, Using}\r\n",
       "\u001b[39m"
      ]
     },
     "execution_count": 2,
     "metadata": {},
     "output_type": "execute_result"
    }
   ],
   "source": [
    "import org.bytedeco.javacpp.{FloatPointer, PointerScope}\n",
    "import org.bytedeco.pytorch.{Example, InputArchive, OutputArchive, TensorExampleVectorIterator}\n",
    "import torch.Device.{CPU, CUDA}\n",
    "import org.bytedeco.pytorch.global.torch as torchNative\n",
    "import torch.internal.NativeConverters.fromNative\n",
    "import torch.{---, ::, Slice}\n",
    "import torch.nn.functional as F\n",
    "import torch.nn.modules.HasParams\n",
    "import torch.optim.Adam\n",
    "import java.nio.file.Paths\n",
    "//import scala.runtime.stdLibPatches.Predef.nn\n",
    "import torch.internal.NativeConverters.{fromNative, toNative}\n",
    "import scala.util.{Random, Using}"
   ]
  },
  {
   "cell_type": "code",
   "execution_count": 3,
   "id": "e18fda52-3233-464c-b46c-462b34d2d4dd",
   "metadata": {},
   "outputs": [
    {
     "name": "stdout",
     "output_type": "stream",
     "text": [
      "12:29:00,715 |-INFO in ch.qos.logback.classic.LoggerContext[default] - This is logback-classic version 1.4.11\n",
      "12:29:00,719 |-INFO in ch.qos.logback.classic.util.ContextInitializer@34da2797 - No custom configurators were discovered as a service.\n",
      "12:29:00,719 |-INFO in ch.qos.logback.classic.util.ContextInitializer@34da2797 - Trying to configure with ch.qos.logback.classic.joran.SerializedModelConfigurator\n",
      "12:29:00,720 |-INFO in ch.qos.logback.classic.util.ContextInitializer@34da2797 - Constructed configurator of type class ch.qos.logback.classic.joran.SerializedModelConfigurator\n",
      "12:29:00,722 |-INFO in ch.qos.logback.classic.LoggerContext[default] - Could NOT find resource [logback-test.scmo]\n",
      "12:29:00,722 |-INFO in ch.qos.logback.classic.LoggerContext[default] - Could NOT find resource [logback.scmo]\n",
      "12:29:00,724 |-INFO in ch.qos.logback.classic.util.ContextInitializer@34da2797 - ch.qos.logback.classic.joran.SerializedModelConfigurator.configure() call lasted 2 milliseconds. ExecutionStatus=INVOKE_NEXT_IF_ANY\n",
      "12:29:00,724 |-INFO in ch.qos.logback.classic.util.ContextInitializer@34da2797 - Trying to configure with ch.qos.logback.classic.util.DefaultJoranConfigurator\n",
      "12:29:00,724 |-INFO in ch.qos.logback.classic.util.ContextInitializer@34da2797 - Constructed configurator of type class ch.qos.logback.classic.util.DefaultJoranConfigurator\n",
      "12:29:00,725 |-INFO in ch.qos.logback.classic.LoggerContext[default] - Could NOT find resource [logback-test.xml]\n",
      "12:29:00,726 |-INFO in ch.qos.logback.classic.LoggerContext[default] - Found resource [logback.xml] at [jar:file:/C:/Users/hai71/.ivy2/local/io.github.mullerhai/storch-pandas_3/0.1.5/jars/storch-pandas_3.jar!/logback.xml]\n",
      "12:29:00,726 |-WARN in ch.qos.logback.classic.util.DefaultJoranConfigurator@7d971df5 - Resource [logback.xml] occurs multiple times on the classpath.\n",
      "12:29:00,726 |-WARN in ch.qos.logback.classic.util.DefaultJoranConfigurator@7d971df5 - Resource [logback.xml] occurs at [jar:file:/C:/Users/hai71/.ivy2/local/io.github.mullerhai/storch-pandas_3/0.1.5/srcs/storch-pandas_3-sources.jar!/logback.xml]\n",
      "12:29:00,726 |-WARN in ch.qos.logback.classic.util.DefaultJoranConfigurator@7d971df5 - Resource [logback.xml] occurs at [jar:file:/C:/Users/hai71/.ivy2/local/io.github.mullerhai/storch-pandas_3/0.1.5/jars/storch-pandas_3.jar!/logback.xml]\n",
      "12:29:00,731 |-INFO in ch.qos.logback.core.joran.spi.ConfigurationWatchList@7e70182e - URL [jar:file:/C:/Users/hai71/.ivy2/local/io.github.mullerhai/storch-pandas_3/0.1.5/jars/storch-pandas_3.jar!/logback.xml] is not of type file\n",
      "12:29:00,806 |-INFO in ch.qos.logback.core.model.processor.AppenderModelHandler - Processing appender named [FILE]\n",
      "12:29:00,806 |-INFO in ch.qos.logback.core.model.processor.AppenderModelHandler - About to instantiate appender of type [ch.qos.logback.core.FileAppender]\n",
      "12:29:00,814 |-INFO in ch.qos.logback.core.model.processor.ImplicitModelHandler - Assuming default type [ch.qos.logback.classic.encoder.PatternLayoutEncoder] for [encoder] property\n",
      "12:29:00,839 |-INFO in ch.qos.logback.core.FileAppender[FILE] - File property is set to [application.log]\n",
      "12:29:00,841 |-INFO in ch.qos.logback.core.model.processor.AppenderModelHandler - Processing appender named [STDOUT]\n",
      "12:29:00,841 |-INFO in ch.qos.logback.core.model.processor.AppenderModelHandler - About to instantiate appender of type [ch.qos.logback.core.ConsoleAppender]\n",
      "12:29:00,843 |-INFO in ch.qos.logback.core.model.processor.ImplicitModelHandler - Assuming default type [ch.qos.logback.classic.encoder.PatternLayoutEncoder] for [encoder] property\n",
      "12:29:00,844 |-INFO in ch.qos.logback.classic.model.processor.RootLoggerModelHandler - Setting level of ROOT logger to DEBUG\n",
      "12:29:00,844 |-INFO in ch.qos.logback.core.model.processor.AppenderRefModelHandler - Attaching appender named [FILE] to Logger[ROOT]\n",
      "12:29:00,845 |-INFO in ch.qos.logback.core.model.processor.AppenderRefModelHandler - Attaching appender named [STDOUT] to Logger[ROOT]\n",
      "12:29:00,845 |-INFO in ch.qos.logback.core.model.processor.DefaultProcessor@6d07456e - End of configuration.\n",
      "12:29:00,845 |-INFO in ch.qos.logback.classic.joran.JoranConfigurator@80421c6 - Registering current configuration as safe fallback point\n",
      "12:29:00,845 |-INFO in ch.qos.logback.classic.util.ContextInitializer@34da2797 - ch.qos.logback.classic.util.DefaultJoranConfigurator.configure() call lasted 121 milliseconds. ExecutionStatus=DO_NOT_INVOKE_NEXT_IF_ANY\n",
      "\n"
     ]
    },
    {
     "name": "stderr",
     "output_type": "stream",
     "text": [
      "SLF4J(I): Connected with provider of type [ch.qos.logback.classic.spi.LogbackServiceProvider]\n"
     ]
    },
    {
     "name": "stdout",
     "output_type": "stream",
     "text": [
      "DType is f8\n",
      "clasz is double clz is int\n",
      "NDArray init state: data: 60, size: 60 itemSize: 62 ndim: 2,dtype: float64 shape:[5,12], nBytes: 496 \n",
      "2025-09-23 12:29:00 [scala-interpreter-1] DEBUG torch.numpy.matrix.NDArray$ - NDArray Reshape old size: 60 , new Size 60\n",
      "DType is f8\n",
      "clasz is double clz is int\n",
      "NDArray init state: data: 5, size: 60 itemSize: 62 ndim: 2,dtype: float64 shape:[5,12], nBytes: 496 \n",
      "DType is f8\n",
      "clasz is double clz is int\n",
      "NDArray init state: data: 1, size: 1 itemSize: 2 ndim: 1,dtype: float64 shape:[1], nBytes: 16 \n",
      "[33.34441874361731],\n",
      "[\n",
      "\t[0.6576124959775711, 0.11344848493799076, 0.03436297029959756, 0.9571529593365983, 0.9896753467749625, 0.8162698358264684, 0.08385270266772338, 0.507971600133437, 0.7776123441240776, 0.7021375850815518, 0.016194551313852612, 0.9512138369617416],\n",
      "\t[0.7964125774513123, 0.8539356419107675, 0.8207255814044391, 0.22728098256199925, 0.9314679226041401, 0.9902214438796935, 0.8281885319543183, 0.628519783170335, 0.11823637665342501, 0.3551581541791149, 0.5675059041511951, 0.7897564344529602],\n",
      "\t[0.3024749130203641, 0.42696730737549193, 0.9798091041559877, 0.7633574032308129, 0.6649693507672938, 0.5103623833816253, 0.4411690153250738, 0.28382827218728335, 0.96503960936019, 0.8653373075991172, 0.17145128347599525, 0.054500660780465116],\n",
      "\t[0.7487002035046145, 0.14284822646698636, 0.5139457796650945, 0.6476463858844129, 0.3402082496016674, 0.5473411681296001, 0.25889660337652254, 0.39939684401730124, 0.9898317151409215, 0.32674183117014066, 0.6537853086360416, 0.5021349578431933],\n",
      "\t[0.28602288513479945, 0.9024379871394992, 0.9941968194413255, 0.34956615809796143, 0.9567835868118112, 0.19494943261344355, 0.7213238847757111, 0.07346335095623557, 0.48285996285236743, 0.47539354891352315, 0.765642369280537, 0.126120825694631],\n",
      "]\n"
     ]
    },
    {
     "data": {
      "text/plain": [
       "\u001b[32mimport \u001b[39m\u001b[36mtorch.numpy.TorchNumpy\r\n",
       "\u001b[39m\r\n",
       "\u001b[32mimport \u001b[39m\u001b[36mtorch.numpy.enums.DType.Float32\r\n",
       "\u001b[39m\r\n",
       "\u001b[32mimport \u001b[39m\u001b[36mtorch.numpy.matrix.NDArray\r\n",
       "\u001b[39m\r\n",
       "\u001b[32mimport \u001b[39m\u001b[36mTorchNumpy.loadNDArrayFromCSV\r\n",
       "\u001b[39m\r\n",
       "\u001b[36mndArray\u001b[39m: \u001b[32mNDArray\u001b[39m[\u001b[32mDouble\u001b[39m] = torch.numpy.matrix.NDArray@7da59691\r\n",
       "\u001b[36msum\u001b[39m: \u001b[32mNDArray\u001b[39m[\u001b[32mDouble\u001b[39m] = torch.numpy.matrix.NDArray@53de004a"
      ]
     },
     "execution_count": 3,
     "metadata": {},
     "output_type": "execute_result"
    }
   ],
   "source": [
    "import torch.numpy.TorchNumpy\n",
    "import torch.numpy.enums.DType.Float32\n",
    "import torch.numpy.matrix.NDArray\n",
    "import TorchNumpy.loadNDArrayFromCSV\n",
    "val ndArray = TorchNumpy.rand(Array(5, 12))\n",
    "val sum = TorchNumpy.sum(ndArray)\n",
    "sum.printArray()\n",
    "ndArray.printArray()"
   ]
  },
  {
   "cell_type": "code",
   "execution_count": null,
   "id": "5596748d-57a1-4701-af61-8000edc5a9fc",
   "metadata": {},
   "outputs": [],
   "source": []
  },
  {
   "cell_type": "code",
   "execution_count": null,
   "id": "1c8c1a43-ab1b-49db-9927-e2da14d43bac",
   "metadata": {},
   "outputs": [],
   "source": []
  },
  {
   "cell_type": "code",
   "execution_count": null,
   "id": "65191e0d-3fd5-4f2b-b194-da36b6fea87f",
   "metadata": {},
   "outputs": [],
   "source": []
  },
  {
   "cell_type": "code",
   "execution_count": 4,
   "id": "48ed2e2a-a2a4-4987-9d3e-46e487c62269",
   "metadata": {},
   "outputs": [
    {
     "data": {
      "text/plain": [
       "\u001b[32mimport \u001b[39m\u001b[36mtorch.pandas.DataFrame\r\n",
       "\r\n",
       "\u001b[39m\r\n",
       "\u001b[32mimport \u001b[39m\u001b[36mscala.collection.{mutable, Set as KeySet}\r\n",
       "\u001b[39m\r\n",
       "\u001b[36mcols\u001b[39m: \u001b[32mSeq\u001b[39m[\u001b[32mString\u001b[39m] = \u001b[33mList\u001b[39m(\u001b[32m\"category\"\u001b[39m, \u001b[32m\"name\"\u001b[39m, \u001b[32m\"value\"\u001b[39m, \u001b[32m\"version\"\u001b[39m)\r\n",
       "\u001b[36mrows\u001b[39m: \u001b[32mSeq\u001b[39m[\u001b[32mString\u001b[39m] = \u001b[33mList\u001b[39m(\u001b[32m\"row1\"\u001b[39m, \u001b[32m\"row2\"\u001b[39m, \u001b[32m\"row3\"\u001b[39m, \u001b[32m\"row4\"\u001b[39m, \u001b[32m\"row5\"\u001b[39m, \u001b[32m\"row6\"\u001b[39m)\r\n",
       "\u001b[36mcol4Data\u001b[39m: \u001b[32mSeq\u001b[39m[\u001b[32mString\u001b[39m] = \u001b[33mList\u001b[39m(\r\n",
       "  \u001b[32m\"test\"\u001b[39m,\r\n",
       "  \u001b[32m\"release\"\u001b[39m,\r\n",
       "  \u001b[32m\"alpha\"\u001b[39m,\r\n",
       "  \u001b[32m\"beta\"\u001b[39m,\r\n",
       "  \u001b[32m\"gama\"\u001b[39m,\r\n",
       "  \u001b[32m\"peter\"\u001b[39m\r\n",
       ")\r\n",
       "\u001b[36mcol5Data\u001b[39m: \u001b[32mSeq\u001b[39m[\u001b[32mString\u001b[39m] = \u001b[33mList\u001b[39m(\u001b[32m\"one\"\u001b[39m, \u001b[32m\"two\"\u001b[39m, \u001b[32m\"three\"\u001b[39m, \u001b[32m\"four\"\u001b[39m, \u001b[32m\"five\"\u001b[39m, \u001b[32m\"six\"\u001b[39m)\r\n",
       "\u001b[36mcol1Data\u001b[39m: \u001b[32mSeq\u001b[39m[\u001b[32mFloat\u001b[39m] = \u001b[33mList\u001b[39m(\u001b[32m14.0F\u001b[39m, \u001b[32m25.0F\u001b[39m, \u001b[32mNaNF\u001b[39m, \u001b[32m48.0F\u001b[39m, \u001b[32m52.0F\u001b[39m, \u001b[32m67.0F\u001b[39m)\r\n",
       "\u001b[36mcol2Data\u001b[39m: \u001b[32mSeq\u001b[39m[\u001b[32mFloat\u001b[39m] = \u001b[33mList\u001b[39m(\u001b[32m3.0F\u001b[39m, \u001b[32m5.0F\u001b[39m, \u001b[32mNaNF\u001b[39m, \u001b[32m0.0F\u001b[39m, \u001b[32m9.0F\u001b[39m, \u001b[32m10.0F\u001b[39m)\r\n",
       "\u001b[36mcol3Data\u001b[39m: \u001b[32mSeq\u001b[39m[\u001b[32mInt\u001b[39m] = \u001b[33mList\u001b[39m(\u001b[32m10\u001b[39m, \u001b[32m25\u001b[39m, \u001b[32m32\u001b[39m, \u001b[32m45\u001b[39m, \u001b[32m53\u001b[39m, \u001b[32m60\u001b[39m)\r\n",
       "\u001b[36mdata\u001b[39m: \u001b[32mList\u001b[39m[\u001b[32mSeq\u001b[39m[scala.collection.immutable.List[scala.collection.immutable.Seq[scala.Float | java.lang.String]]]] = \u001b[33mList\u001b[39m(\r\n",
       "  \u001b[33mList\u001b[39m(\u001b[32m14.0F\u001b[39m, \u001b[32m25.0F\u001b[39m, \u001b[32mNaNF\u001b[39m, \u001b[32m48.0F\u001b[39m, \u001b[32m52.0F\u001b[39m, \u001b[32m67.0F\u001b[39m),\r\n",
       "  \u001b[33mList\u001b[39m(\u001b[32m3.0F\u001b[39m, \u001b[32m5.0F\u001b[39m, \u001b[32mNaNF\u001b[39m, \u001b[32m0.0F\u001b[39m, \u001b[32m9.0F\u001b[39m, \u001b[32m10.0F\u001b[39m),\r\n",
       "  \u001b[33mList\u001b[39m(\u001b[32m\"test\"\u001b[39m, \u001b[32m\"release\"\u001b[39m, \u001b[32m\"alpha\"\u001b[39m, \u001b[32m\"beta\"\u001b[39m, \u001b[32m\"gama\"\u001b[39m, \u001b[32m\"peter\"\u001b[39m),\r\n",
       "  \u001b[33mList\u001b[39m(\u001b[32m\"one\"\u001b[39m, \u001b[32m\"two\"\u001b[39m, \u001b[32m\"three\"\u001b[39m, \u001b[32m\"four\"\u001b[39m, \u001b[32m\"five\"\u001b[39m, \u001b[32m\"six\"\u001b[39m)\r\n",
       ")\r\n",
       "\u001b[36mdf\u001b[39m: \u001b[32mDataFrame\u001b[39m[torch.pandas.DataFrame[scala.Float | java.lang.String]] = \u001b[33mIterable\u001b[39m(\r\n",
       "  \u001b[33mList\u001b[39m(\u001b[32m14.0F\u001b[39m, \u001b[32m3.0F\u001b[39m, \u001b[32m\"test\"\u001b[39m, \u001b[32m\"one\"\u001b[39m),\r\n",
       "  \u001b[33mList\u001b[39m(\u001b[32m25.0F\u001b[39m, \u001b[32m5.0F\u001b[39m, \u001b[32m\"release\"\u001b[39m, \u001b[32m\"two\"\u001b[39m),\r\n",
       "  \u001b[33mList\u001b[39m(\u001b[32mNaNF\u001b[39m, \u001b[32mNaNF\u001b[39m, \u001b[32m\"alpha\"\u001b[39m, \u001b[32m\"three\"\u001b[39m),\r\n",
       "  \u001b[33mList\u001b[39m(\u001b[32m48.0F\u001b[39m, \u001b[32m0.0F\u001b[39m, \u001b[32m\"beta\"\u001b[39m, \u001b[32m\"four\"\u001b[39m),\r\n",
       "  \u001b[33mList\u001b[39m(\u001b[32m52.0F\u001b[39m, \u001b[32m9.0F\u001b[39m, \u001b[32m\"gama\"\u001b[39m, \u001b[32m\"five\"\u001b[39m),\r\n",
       "  \u001b[33mList\u001b[39m(\u001b[32m67.0F\u001b[39m, \u001b[32m10.0F\u001b[39m, \u001b[32m\"peter\"\u001b[39m, \u001b[32m\"six\"\u001b[39m)\r\n",
       ")"
      ]
     },
     "execution_count": 4,
     "metadata": {},
     "output_type": "execute_result"
    }
   ],
   "source": [
    "import torch.pandas.DataFrame\n",
    "\n",
    "import scala.collection.{mutable, Set as KeySet}\n",
    "val cols = Seq(\"category\", \"name\", \"value\",\"version\")\n",
    "val rows= Seq(\"row1\", \"row2\", \"row3\", \"row4\", \"row5\", \"row6\")\n",
    "val col4Data = Seq(\"test\", \"release\", \"alpha\", \"beta\", \"gama\", \"peter\")\n",
    "val col5Data = Seq(\"one\", \"two\", \"three\", \"four\", \"five\", \"six\")\n",
    "    //  val col6Data = Seq(Float.NaN,Float.NaN,Float.NaN,Float.NaN,Float.NaN,Float.NaN)// Float.NaN, 48, 52, 67)\n",
    "val col1Data = Seq(14, 25,Float.NaN, 48, 52, 67)\n",
    "val col2Data = Seq(3, 5, Float.NaN, 0, 9, 10)\n",
    "val col3Data = Seq(10, 25, 32, 45, 53, 60)\n",
    "val data = List(col1Data, col2Data, col4Data, col5Data)\n",
    "    // this(index: KeySet[Any], columns: mutable.Set[Any], data: List[Seq[V]])\n",
    "var df = new DataFrame(rows, cols, data)\n",
    "df.show()"
   ]
  },
  {
   "cell_type": "code",
   "execution_count": 5,
   "id": "ab7b5dbf-f87a-4588-924b-0360f11d9304",
   "metadata": {},
   "outputs": [
    {
     "data": {
      "text/plain": [
       "\u001b[36mnpFile\u001b[39m: \u001b[32mString\u001b[39m = \u001b[32m\"D:\\\\data\\\\git\\\\testNumpy\\\\src\\\\main\\\\resources\\\\npy_dir\\\\random_float32_array.npy\"\u001b[39m\r\n",
       "\u001b[36mcsvPath\u001b[39m: \u001b[32mString\u001b[39m = \u001b[32m\"D:\\\\data\\\\git\\\\testNumpy\\\\src\\\\main\\\\resources\\\\avazu\\\\test.csv\"\u001b[39m\r\n",
       "\u001b[36mcsvPath2\u001b[39m: \u001b[32mString\u001b[39m = \u001b[32m\"D:\\\\code\\\\data\\\\llm\\\\手撕LLM速成班-试听课-小冬瓜AIGC-20231211\\\\data\\\\avazu\\\\test.csv\"\u001b[39m\r\n",
       "\u001b[36mpicklePath\u001b[39m: \u001b[32mString\u001b[39m = \u001b[32m\"D:\\\\data\\\\git\\\\storch-pandas-old-use\\\\src\\\\test\\\\resources\\\\newOnlyNumpyArray.pkl\"\u001b[39m\r\n",
       "\u001b[36mxlsfile\u001b[39m: \u001b[32mString\u001b[39m = \u001b[32m\"src/main/resources/sample_new2.xls\"\u001b[39m\r\n",
       "\u001b[36mxlsxfile\u001b[39m: \u001b[32mString\u001b[39m = \u001b[32m\"src/main/resources/sample_new.xlsx\"\u001b[39m\r\n",
       "\u001b[36mparquetPath\u001b[39m: \u001b[32mString\u001b[39m = \u001b[32m\"src/test/resources/data.parquet\"\u001b[39m\r\n",
       "\u001b[36mipcPath\u001b[39m: \u001b[32mString\u001b[39m = \u001b[32m\"src/test/resources/data.ipc\"\u001b[39m\r\n",
       "\u001b[36miPCfullPath\u001b[39m: \u001b[32mString\u001b[39m = \u001b[32m\"D:\\\\data\\\\git\\\\storch-pandas-old-use\\\\src\\\\test\\\\resources\\\\data.ipc\"\u001b[39m\r\n",
       "\u001b[36mjsonLinePath\u001b[39m: \u001b[32mString\u001b[39m = \u001b[32m\"src/test/resources/data.json\"\u001b[39m\r\n",
       "\u001b[36mjsonPath\u001b[39m: \u001b[32mString\u001b[39m = \u001b[32m\"src/test/resources/random_data.json\"\u001b[39m\r\n",
       "\u001b[36mjsonAmazonPath\u001b[39m: \u001b[32mString\u001b[39m = \u001b[32m\"D:\\\\data\\\\git\\\\testNumpy\\\\src\\\\main\\\\resources\\\\amzon\\\\reviews_Electronics_5.json\"\u001b[39m\r\n",
       "\u001b[36mhdf5path\u001b[39m: \u001b[32mString\u001b[39m = \u001b[32m\"D:\\\\data\\\\git\\\\testNumpy\\\\src\\\\main\\\\resources\\\\example.h5\"\u001b[39m\r\n",
       "\u001b[36msqlExec\u001b[39m: \u001b[32mString\u001b[39m = \u001b[32m\"select name, age ,tall, weight from person limit 500\"\u001b[39m"
      ]
     },
     "execution_count": 5,
     "metadata": {},
     "output_type": "execute_result"
    }
   ],
   "source": [
    "  val npFile = \"D:\\\\data\\\\git\\\\testNumpy\\\\src\\\\main\\\\resources\\\\npy_dir\\\\random_float32_array.npy\"\n",
    "  //    val npFile =\"D:\\\\data\\\\git\\\\testNumpy\\\\src\\\\main\\\\resources\\\\npy_dir\\\\random_bool_array.npy\"\n",
    "  val csvPath = \"D:\\\\data\\\\git\\\\testNumpy\\\\src\\\\main\\\\resources\\\\avazu\\\\test.csv\"\n",
    "\n",
    "  val csvPath2 = \"D:\\\\code\\\\data\\\\llm\\\\手撕LLM速成班-试听课-小冬瓜AIGC-20231211\\\\data\\\\avazu\\\\test.csv\"\n",
    "  val picklePath = \"D:\\\\data\\\\git\\\\storch-pandas-old-use\\\\src\\\\test\\\\resources\\\\newOnlyNumpyArray.pkl\"\n",
    "//  val picklePath = \"\"\n",
    "  val xlsfile = \"src/main/resources/sample_new2.xls\"\n",
    "  val xlsxfile = \"src/main/resources/sample_new.xlsx\"\n",
    "\n",
    "  val parquetPath = \"src/test/resources/data.parquet\"\n",
    "  val ipcPath = \"src/test/resources/data.ipc\"\n",
    "  val iPCfullPath = \"D:\\\\data\\\\git\\\\storch-pandas-old-use\\\\src\\\\test\\\\resources\\\\data.ipc\"\n",
    "  val jsonLinePath = \"src/test/resources/data.json\"\n",
    "  val jsonPath = \"src/test/resources/random_data.json\"\n",
    "  val jsonAmazonPath = \"D:\\\\data\\\\git\\\\testNumpy\\\\src\\\\main\\\\resources\\\\amzon\\\\reviews_Electronics_5.json\"\n",
    "\n",
    "  val hdf5path =\"D:\\\\data\\\\git\\\\testNumpy\\\\src\\\\main\\\\resources\\\\example.h5\" //\"src/test/resources/norm.hdf5\"\n",
    "  val sqlExec = \"select name, age ,tall, weight from person limit 500\""
   ]
  },
  {
   "cell_type": "code",
   "execution_count": 2,
   "id": "01a2c6c7-0d5c-44f2-89b9-5d58a2d84f47",
   "metadata": {},
   "outputs": [],
   "source": [
    "    // val df = DataFrame.readJsonLine(jsonAmazonPath)\n",
    "    // df.show()\n",
    "    // println(df.getShape)\n",
    "    // println(df.getColumns.mkString(\",\"))"
   ]
  },
  {
   "cell_type": "code",
   "execution_count": 5,
   "id": "c4da6354-e75b-433b-ab16-dae3cd1c5b8c",
   "metadata": {},
   "outputs": [
    {
     "name": "stderr",
     "output_type": "stream",
     "text": [
      "Resolving package/object name conflict in favor of package spire.compat. The object will be inaccessible.\n"
     ]
    },
    {
     "data": {
      "text/plain": [
       "\u001b[36mtensor\u001b[39m: \u001b[32mTensor\u001b[39m[\u001b[32mInt32\u001b[39m] = tensor dtype=int32, shape=[4, 4], device=CPU \r\n",
       "[[0, 1, 2, 3],\r\n",
       " [4, 5, 6, 7],\r\n",
       " [8, 9, 10, 11],\r\n",
       " [12, 13, 14, 15]]"
      ]
     },
     "execution_count": 5,
     "metadata": {},
     "output_type": "execute_result"
    }
   ],
   "source": [
    "val tensor = torch.arange(0, 16).reshape(4, 4)"
   ]
  },
  {
   "cell_type": "code",
   "execution_count": 14,
   "id": "4b68da20-fb6f-4a67-aba2-ed94c634f3e2",
   "metadata": {},
   "outputs": [
    {
     "name": "stderr",
     "output_type": "stream",
     "text": [
      "Resolving package/object name conflict in favor of package spire.compat. The object will be inaccessible.\n"
     ]
    },
    {
     "ename": "java.lang.UnsupportedOperationException",
     "evalue": "Unsupported dtype for numpy conversion: float32",
     "output_type": "error",
     "traceback": [
      "\u001b[31mjava.lang.UnsupportedOperationException: Unsupported dtype for numpy conversion: float32\u001b[39m",
      "  torch.Tensor.scalarClassTag(\u001b[32mTensor.scala\u001b[39m:\u001b[32m1119\u001b[39m)",
      "  torch.Tensor.numpy$default$1(\u001b[32mTensor.scala\u001b[39m:\u001b[32m1096\u001b[39m)",
      "  ammonite.$sess.cmd14$Helper.<init>(\u001b[32mcmd14.sc\u001b[39m:\u001b[32m1\u001b[39m)",
      "  ammonite.$sess.cmd14$.<clinit>(\u001b[32mcmd14.sc\u001b[39m:\u001b[32m65316\u001b[39m)"
     ]
    }
   ],
   "source": [
    "a.numpy()"
   ]
  },
  {
   "cell_type": "code",
   "execution_count": 6,
   "id": "5777cdbf-a901-4978-a406-a038a31621a9",
   "metadata": {},
   "outputs": [
    {
     "name": "stderr",
     "output_type": "stream",
     "text": [
      "Resolving package/object name conflict in favor of package spire.compat. The object will be inaccessible.\n"
     ]
    },
    {
     "name": "stdout",
     "output_type": "stream",
     "text": [
      "aa shape ArraySeq(2, 3, 28, 28) , torch.Size([2, 3, 28, 28])\n"
     ]
    },
    {
     "data": {
      "text/plain": [
       "\u001b[36ma\u001b[39m: \u001b[32mTensor\u001b[39m[\u001b[32mFloat32\u001b[39m] = tensor dtype=float32, shape=[4, 3, 28, 28], device=CPU \r\n",
       "[[[[0.7759, 0.5083, 0.7197, ..., 0.1716, 0.2218, 0.9200],\r\n",
       "   [0.6293, 0.5432, 0.8805, ..., 0.6054, 0.5347, 0.6302],\r\n",
       "   [0.4776, 0.1214, 0.5212, ..., 0.5024, 0.8465, 0.8526],\r\n",
       "   ...,\r\n",
       "   [0.5767, 0.5223, 0.3010, ..., 0.9301, 0.1174, 0.6266],\r\n",
       "   [0.0396, 0.3917, 0.0278, ..., 0.6908, 0.5699, 0.9038],\r\n",
       "   [0.2965, 0.3652, 0.7763, ..., 0.6619, 0.5650, 0.3575]],\r\n",
       "\r\n",
       "  [[0.3668, 0.0777, 0.8303, ..., 0.1659, 0.7684, 0.8718],\r\n",
       "   [0.4742, 0.8344, 0.2660, ..., 0.0176, 0.2963, 0.9410],\r\n",
       "   [0.8787, 0.6426, 0.7541, ..., 0.0739, 0.7689, 0.1335],\r\n",
       "   ...,\r\n",
       "   [0.8343, 0.8665, 0.1949, ..., 0.6644, 0.4262, 0.5609],\r\n",
       "   [0.5464, 0.7969, 0.2619, ..., 0.5687, 0.0431, 0.1262],\r\n",
       "   [0.0014, 0.0540, 0.0106, ..., 0.1872, 0.6443, 0.8080]],\r\n",
       "\r\n",
       "  [[0.8134, 0.6738, 0.9546, ..., 0.9293, 0.5982, 0.8648],\r\n",
       "   [0.8212, 0.3255, 0.5161, ..., 0.7717, 0.6287, 0.1571],\r\n",
       "   [0.9301, 0.7471, 0.9046, ..., 0.1710, 0.1375, 0.0879],\r\n",
       "   ...,\r\n",
       "   [0.0892, 0.8553, 0.4990, ..., 0.6519, 0.0351, 0.2628],\r\n",
       "   [0.1884, 0.1422, 0.4108, ..., 0.1286, 0.0737, 0.6482],\r\n",
       "   [0.7776, 0.2000, 0.5487, ..., 0.2905, 0.3533, 0.1640]]],\r\n",
       "\r\n",
       " [[[0.3023, 0.2534, 0.9714, ..., 0.4762, 0.6277, 0.9029],\r\n",
       "   [0.4975, 0.4817, 0.7309, ..., 0.0581, 0.0913, 0.6500],\r\n",
       "   [0.2482, 0.5541, 0.0071, ..., 0.7669, 0.6442, 0.0673],\r\n",
       "   ...,\r\n",
       "   [0.8848, 0.5074, 0.3176, ..., 0.2239, 0.9514, 0.7516],\r\n",
       "   [0.8938, 0.6680, 0.5779, ..., 0.8862, 0.7751, 0.5523],\r\n",
       "   [0.7601, 0.2608, 0.0182, ..., 0.8461, 0.5473, 0.5545]],\r\n",
       "\r\n",
       "  [[0.4252, 0.9617, 0.8637, ..., 0.7641, 0.9254, 0.5427],\r\n",
       "   [0.2399, 0.3109, 0.4422, ..., 0.5787, 0.7426, 0.2399],\r\n",
       "   [0.8900, 0.4869, 0.0123, ..., 0.6508, 0.0028, 0.0803],\r\n",
       "   ...,\r\n",
       "   [0.6924, 0.1538, 0.8045, ..., 0.1149, 0.9469, 0.6093],\r\n",
       "   [0.5436, 0.3197, 0.8505, ..., 0.2802, 0.8537, 0.4626],\r\n",
       "...\r\n",
       "\u001b[36maa\u001b[39m: \u001b[32mSeq\u001b[39m[\u001b[32mInt\u001b[39m] = \u001b[33mArraySeq\u001b[39m(\u001b[32m2\u001b[39m, \u001b[32m3\u001b[39m, \u001b[32m28\u001b[39m, \u001b[32m28\u001b[39m)"
      ]
     },
     "execution_count": 6,
     "metadata": {},
     "output_type": "execute_result"
    }
   ],
   "source": [
    "val a = torch.rand(Seq(4, 3, 28, 28))\n",
    "val aa = a.index_select(0, torch.tensor(Seq(0, 2))).shape\n",
    "println(s\"aa shape ${aa} , torch.Size([2, 3, 28, 28])\")"
   ]
  },
  {
   "cell_type": "code",
   "execution_count": 19,
   "id": "2c02e736-6fee-436c-846a-13aca5c7bab8",
   "metadata": {},
   "outputs": [
    {
     "name": "stderr",
     "output_type": "stream",
     "text": [
      "Resolving package/object name conflict in favor of package spire.compat. The object will be inaccessible.\n"
     ]
    },
    {
     "name": "stdout",
     "output_type": "stream",
     "text": [
      "DType is f4\n",
      "clasz is float clz is int\n",
      "NDArray init state: data: 9408, size: 9408 itemSize: 9412 ndim: 4,dtype: float32 shape:[4,3,28,28], nBytes: 37648 \n",
      "2025-09-23 12:41:29 [scala-interpreter-1] DEBUG torch.numpy.matrix.NDArray$ - NDArray Reshape old size: 9408 , new Size 9408\n",
      "DType is f4\n",
      "clasz is float clz is int\n",
      "NDArray init state: data: 4, size: 9408 itemSize: 9412 ndim: 4,dtype: float32 shape:[4,3,28,28], nBytes: 37648 \n",
      "[\n",
      "\t[\n",
      "\t\t[\n",
      "\t\t\t[0.49084628, 0.8990544, 0.06910038, 0.43869865, 0.31008542, 0.89356214, 0.49825078, 0.20377702, 0.90293115, 0.6860319, 0.5289434, 0.36087185, 0.7486381, 0.40656006, 0.0012562871, 0.84137726, 0.15136302, 0.1868751, 0.14368099, 0.35609114, 0.24767804, 0.6249737, 0.880696, 0.08005977, 0.15034556, 0.24076527, 0.25920808, 0.87945557],\n",
      "\t\t\t[0.7829896, 0.16127604, 0.093803465, 0.63212687, 0.2122308, 0.2647987, 0.50576776, 0.93635124, 0.5177136, 0.5218572, 0.9739795, 0.4988978, 0.32316375, 0.8488339, 0.7867555, 0.18037003, 0.8592811, 0.9052476, 0.58162594, 0.33518827, 0.8092664, 0.054367423, 0.27188325, 0.05737537, 0.82409364, 0.9249684, 0.5234937, 0.06453788],\n",
      "\t\t\t[0.9638586, 0.9704956, 0.08047831, 0.33817285, 0.35490632, 0.7540706, 0.94377184, 0.20169133, 0.38332736, 0.9886309, 0.7024812, 0.83122665, 0.3888849, 0.065602064, 0.086622655, 0.5761519, 0.3062774, 0.19421488, 0.76131815, 0.12441349, 0.542044, 0.39418364, 0.9622259, 0.66020364, 0.7314843, 0.7033142, 0.0053485036, 0.73512757],\n",
      "\t\t\t[0.2919336, 0.31525916, 0.32856697, 0.43794858, 0.11286032, 0.5502829, 0.03827679, 0.87822664, 0.7569568, 0.66910064, 0.9760547, 0.5214949, 0.20516002, 0.7652791, 0.8207165, 0.91854966, 0.27731925, 0.47079217, 0.7713139, 0.36381018, 0.8600709, 0.21912307, 0.49214047, 0.20384574, 0.32713777, 0.72644997, 0.18106538, 0.7227365],\n",
      "\t\t\t[0.66123945, 0.48041558, 0.5029584, 0.45155072, 0.8444529, 0.71440655, 0.3136021, 0.96152836, 0.9557493, 0.579133, 0.64704645, 0.509497, 0.8751294, 0.108805835, 0.8642959, 0.9078571, 0.85601157, 0.20218211, 0.78013813, 0.5435699, 0.5763586, 0.25960714, 0.8787702, 0.99809074, 0.7056551, 0.2979949, 0.65431905, 0.787025],\n",
      "\t\t\t[0.69566476, 0.91112906, 0.074931026, 0.2805999, 0.6940251, 0.9902919, 0.99889505, 0.76796234, 0.6345227, 0.8858996, 0.78897595, 0.3468724, 0.2795384, 0.43805867, 0.23638463, 0.701393, 0.5813343, 0.67558306, 0.8756575, 0.27374965, 0.5513268, 0.6952786, 0.99474895, 0.29942894, 0.61748, 0.22741562, 0.18917, 0.32197505],\n",
      "\t\t\t[0.5720755, 0.94686353, 0.8879855, 0.56462336, 0.07158172, 0.86795557, 0.56784785, 0.12288892, 0.31513053, 0.6176761, 0.15703589, 0.037713766, 0.051157236, 0.5082816, 0.13260573, 0.42838323, 0.8937071, 0.67628425, 0.6958699, 0.66156775, 0.2449848, 0.3595034, 0.90622604, 0.6625164, 0.2663955, 0.021362185, 0.0256809, 0.43283862],\n",
      "\t\t\t[0.361404, 0.8483852, 0.63394326, 0.33810443, 0.39547694, 0.43208468, 0.6246948, 0.058983922, 0.21606922, 0.24395359, 0.8766089, 0.5811083, 0.14382768, 0.19931895, 0.80979866, 0.39918703, 0.77181906, 0.36327893, 0.2991237, 0.6625803, 0.6580894, 0.011381745, 0.024873376, 0.18028164, 0.65144026, 0.009460747, 0.24582332, 0.654227],\n",
      "\t\t\t[0.7369603, 0.07907766, 0.6040942, 0.6765907, 0.6776404, 0.90629655, 0.041742325, 0.6919988, 0.042544484, 0.4786566, 0.9829423, 0.8921816, 0.5157858, 0.0587734, 0.12989473, 0.80929524, 0.9138062, 0.15026677, 0.90961784, 0.2471379, 0.3285479, 0.5436817, 0.29846573, 0.7547794, 0.010637045, 0.52662057, 0.68476164, 0.4302562],\n",
      "\t\t\t[0.97911847, 0.22721869, 0.074156165, 0.6074208, 0.03824818, 0.85224473, 0.37996668, 0.26891243, 0.44050318, 0.29478276, 0.36264586, 0.47174627, 0.28791666, 0.23404366, 0.77063894, 0.09426421, 0.38293064, 0.79967207, 0.3620324, 0.33803928, 0.8184721, 0.22213888, 0.44115418, 0.31619817, 0.01744175, 0.6518191, 0.735914, 0.16600245],\n",
      "\t\t\t[0.46713984, 0.9451009, 0.54569554, 0.86248845, 0.5199827, 0.2606123, 0.5912791, 0.48723608, 0.47054046, 0.274877, 0.9596581, 0.12720215, 0.4545561, 0.3639232, 0.12508416, 0.52615976, 0.57553464, 0.79874766, 0.5811179, 0.3422107, 0.12312466, 0.66674143, 0.40760905, 0.7725083, 0.0924747, 0.9232925, 0.39703566, 0.575183],\n",
      "\t\t\t[0.5520577, 0.25066227, 0.08795583, 0.8046523, 0.986605, 0.5562056, 0.94539034, 0.9318397, 0.5135668, 0.38332754, 0.010730982, 0.562234, 0.7751378, 0.5430595, 0.955862, 0.98264366, 0.07728028, 0.49403733, 0.72193944, 0.29043758, 0.839993, 0.9006448, 0.24584633, 0.46715826, 0.8333368, 0.77466077, 0.44893056, 0.11625248],\n",
      "\t\t\t[0.3771323, 0.13698018, 0.9830361, 0.22471261, 0.0015084147, 0.13928121, 0.3785317, 0.88539135, 0.36991245, 0.11663228, 0.34564996, 0.8742969, 0.62940377, 0.932246, 0.45267743, 0.6536482, 0.39057916, 0.27508742, 0.6122121, 0.05586487, 0.29725134, 0.8743977, 0.83643705, 0.13006526, 0.62406784, 0.4754352, 0.90146273, 0.39748096],\n",
      "\t\t\t[0.2122432, 0.3864764, 0.9325141, 0.81403303, 0.73356485, 0.62283367, 0.14160347, 0.7661015, 0.8283181, 0.41713226, 0.50963664, 0.8362316, 0.62085974, 0.3816626, 0.1735506, 0.64135057, 0.48520398, 0.34075832, 0.6842417, 0.5778721, 0.2615258, 0.24240118, 0.83089674, 0.43349117, 0.5440605, 0.90086603, 0.5938483, 0.97113377],\n",
      "\t\t\t[0.47978967, 0.25019616, 0.29646266, 0.7516976, 0.6793899, 0.40826243, 0.83352244, 0.5130515, 0.85086954, 0.85810786, 0.4298833, 0.49020672, 0.73282933, 0.38424814, 0.6739035, 0.9393957, 0.9207196, 0.24395162, 0.62611216, 0.5093473, 0.9085762, 0.2755636, 0.7080132, 0.7704559, 0.8276838, 0.13258785, 0.05740857, 0.031977057],\n",
      "\t\t\t[0.28674757, 0.4292946, 0.72638774, 0.77860576, 0.87357986, 0.045457006, 0.16978568, 0.4825276, 0.37164277, 0.56636626, 0.18328136, 0.6485878, 0.9245853, 0.051636875, 0.9610488, 0.91197973, 0.24777591, 0.39962846, 0.36447817, 0.32184082, 0.7864856, 0.43101948, 0.5612233, 0.08475733, 0.4711452, 0.40199822, 0.70207864, 0.30705184],\n",
      "\t\t\t[0.07563752, 0.3298388, 0.85795504, 0.85119605, 0.82025814, 0.8899124, 0.39148682, 0.5291785, 0.35946596, 0.606075, 0.77454937, 0.43866962, 0.68150866, 0.67936826, 0.9845848, 0.9920803, 0.26366687, 0.9040932, 0.45997298, 0.89740777, 0.25158602, 0.8703057, 0.09161508, 0.0075849295, 0.63152504, 0.076318085, 0.6471237, 0.27871615],\n",
      "\t\t\t[0.256342, 0.049256504, 0.15078169, 0.5363104, 0.48869026, 0.8084747, 0.926988, 0.19707239, 0.7189054, 0.9049237, 0.8821061, 0.6023771, 0.8477612, 0.7705379, 0.83443373, 0.682031, 0.20445096, 0.93436486, 0.21196538, 0.31471896, 0.03500378, 0.017164052, 0.09419036, 0.4316187, 0.02882117, 0.6805415, 0.05603808, 0.21880394],\n",
      "\t\t\t[0.085832715, 0.48651558, 0.9883427, 0.61765975, 0.4381463, 0.78272533, 0.9239731, 0.9091399, 0.53924716, 0.28925538, 0.27882445, 0.7208965, 0.46088904, 0.3884101, 0.62516564, 0.6107575, 0.3100574, 0.60369873, 0.5188662, 0.5685935, 0.48792112, 0.10562146, 0.97166514, 0.010251224, 0.52180195, 0.49872118, 0.8468428, 0.0041244626],\n",
      "\t\t\t[0.24863201, 0.40826625, 0.5424716, 0.48318923, 0.023754716, 0.2244519, 0.25123668, 0.28743982, 0.9979375, 0.034508705, 0.3940552, 0.66911644, 0.039224267, 0.62480354, 0.5811439, 0.97685075, 0.3364402, 0.16639805, 0.8950737, 0.57198775, 0.16451788, 0.46478236, 0.92632127, 0.65582967, 0.94848716, 0.25936097, 0.9637052, 0.5929537],\n",
      "\t\t\t[0.9672584, 0.92648214, 0.3719895, 0.66220474, 0.6618068, 0.8327746, 0.8298911, 0.9412509, 0.86055523, 0.3917526, 0.6845876, 0.02320522, 0.78787154, 0.07753396, 0.67861515, 0.95216066, 0.6641286, 0.32071114, 0.37318248, 0.25449103, 0.87387085, 0.7510581, 0.92462623, 0.19539064, 0.290461, 0.19113636, 0.884586, 0.8817942],\n",
      "\t\t\t[0.85232806, 0.21883881, 0.74585575, 0.6493763, 0.21457398, 0.49664265, 0.9314003, 0.24078494, 0.23840898, 0.20570248, 0.656693, 0.45119292, 0.9371126, 0.5345043, 0.15270501, 0.45058775, 0.7216356, 0.4783461, 0.4609838, 0.53457105, 0.5896816, 0.78815764, 0.4988411, 0.66889656, 0.4879833, 0.29082, 0.3838843, 0.080652535],\n",
      "\t\t\t[0.84359664, 0.7089125, 0.13870496, 0.70587814, 0.89077055, 0.5121607, 0.47894925, 0.6642988, 0.32507032, 0.4722516, 0.4268614, 0.8341172, 0.7088874, 0.0058831573, 0.6330297, 0.044284523, 0.40583456, 0.5710166, 0.021437109, 0.09439826, 0.69720423, 0.1976912, 0.9744927, 0.09378809, 0.5012419, 0.83595115, 0.4454643, 0.67882043],\n",
      "\t\t\t[0.9434267, 0.11712265, 0.5012169, 0.49569392, 0.2805062, 0.36821645, 0.64249563, 0.124685645, 0.72956866, 0.38158292, 0.5208462, 0.65886354, 0.6376634, 0.057262957, 0.864762, 0.07603508, 0.19944108, 0.29865927, 0.63524806, 0.57779074, 0.61301607, 0.525518, 0.3306461, 0.38399, 0.8647111, 0.4980017, 0.38080668, 0.9299707],\n",
      "\t\t\t[0.442724, 0.013672948, 0.87883055, 0.76542056, 0.09520733, 0.992309, 0.51394933, 0.16216135, 0.7340426, 0.7445008, 0.3592351, 0.5732072, 0.75570667, 0.04845041, 0.15910065, 0.3286509, 0.80556333, 0.35183245, 0.10934591, 0.67045027, 0.3406114, 0.049934685, 0.019517839, 0.948889, 0.42393017, 0.04223436, 0.80682033, 0.7421019],\n",
      "\t\t\t[0.0069046617, 0.34315848, 0.21696025, 0.51698685, 0.66889703, 0.14526957, 0.33588618, 0.6737961, 0.67773867, 0.59715766, 0.42054868, 0.034152746, 0.0042322874, 0.90314794, 0.2140373, 0.16125453, 0.10999894, 0.40453464, 0.9045929, 0.3448727, 0.032641113, 0.70148003, 0.11499852, 0.5363646, 0.5721929, 0.39938498, 0.25133777, 0.31309605],\n",
      "\t\t\t[0.6213423, 0.6572967, 0.20353425, 0.031328738, 0.41948766, 0.5810885, 0.83603275, 0.76667523, 0.19162768, 0.2865792, 0.40081847, 0.5649971, 0.5464024, 0.5560426, 0.33351874, 0.05316049, 0.44316536, 0.74890727, 0.26507038, 0.44842786, 0.6480768, 0.2588405, 0.4288475, 0.68571717, 0.22305864, 0.47955394, 0.7747307, 0.7501591],\n",
      "\t\t\t[0.29050368, 0.64948756, 0.19523704, 0.27894688, 0.10056329, 0.93093085, 0.4163972, 0.63080585, 0.09975213, 0.578934, 0.364551, 0.23173779, 0.6334519, 0.5671866, 0.23554975, 0.35913616, 0.30794716, 0.58950824, 0.6511269, 0.3178954, 0.64469874, 0.6363931, 0.72763634, 0.5828273, 0.06578773, 0.8888565, 0.24202919, 0.8065939],\n",
      "\t\t]\n",
      "\t\t[\n",
      "\t\t\t[0.9723854, 0.19450587, 0.8041076, 0.17222059, 0.06654185, 0.5617441, 0.65414774, 0.04304236, 0.90438837, 0.5282591, 0.56975627, 0.55240965, 0.1289162, 0.035049677, 0.084912896, 0.86557853, 0.5807297, 0.49221045, 0.74162626, 0.3847044, 0.36748576, 0.107151926, 0.84002596, 0.043592334, 0.16318393, 0.13069952, 0.012236536, 0.3733409],\n",
      "\t\t\t[0.015176892, 0.3563589, 0.38214767, 0.53518766, 0.7806922, 0.8248857, 0.5026976, 0.328439, 0.1558165, 0.9246645, 0.9442318, 0.3967204, 0.7018019, 0.5670984, 0.88345796, 0.36321962, 0.7111144, 0.7917821, 0.94714993, 0.73412573, 0.82467896, 0.09151423, 0.26126617, 0.5753144, 0.7010023, 0.78355634, 0.69752425, 0.8672072],\n",
      "\t\t\t[0.081005394, 0.114727736, 0.9463887, 0.36239052, 0.5964972, 0.04984498, 0.42340434, 0.616453, 0.9494189, 0.16935062, 0.03252113, 0.51982194, 0.31980383, 0.6971195, 0.5758911, 0.7425136, 0.91828233, 0.36265665, 0.23011416, 0.7723138, 0.13019192, 0.16596824, 0.5707866, 0.5715654, 0.8513476, 0.51553214, 0.21719193, 0.9914934],\n",
      "\t\t\t[0.3139019, 0.71774495, 0.4491095, 0.47845358, 0.74784255, 0.7828261, 0.5757628, 0.15503544, 0.21829957, 0.94884044, 0.3737008, 0.055654407, 0.73805404, 0.9554025, 0.8013845, 0.65439075, 0.20857042, 0.70661336, 0.35387152, 0.92271906, 0.6524486, 0.334278, 0.08248007, 0.4822023, 0.49105793, 0.53092873, 0.1439842, 0.7844903],\n",
      "\t\t\t[0.17356616, 0.03963691, 0.8300536, 0.8239129, 0.13410234, 0.9708436, 0.45026463, 0.90868837, 0.36835623, 0.56803894, 0.29181564, 0.5077941, 0.2317298, 0.6669365, 0.92232203, 0.3104263, 0.88198936, 0.6088253, 0.15815765, 0.012044787, 0.78939617, 0.62303483, 0.9584786, 0.2163974, 0.9970658, 0.91968423, 0.73074454, 0.024338067],\n",
      "\t\t\t[0.20431161, 0.58278257, 0.54243976, 0.09225422, 0.088565946, 0.56684303, 0.32353204, 0.41091806, 0.30343884, 0.14391315, 0.62279147, 0.6016293, 0.14458048, 0.4932868, 0.69077736, 0.4074375, 0.8423975, 0.7229279, 0.23924536, 0.6856774, 0.609225, 0.3031023, 0.41652507, 0.19336444, 0.21996945, 0.33976197, 0.06516218, 0.33806533],\n",
      "\t\t\t[0.16148204, 0.18001866, 0.63379073, 0.13950872, 0.22992092, 0.17610478, 0.39854836, 0.6477376, 0.7704214, 0.4246282, 0.19026828, 0.30091769, 0.17073119, 0.4705745, 0.2413454, 0.30734962, 0.30849183, 0.0036397576, 0.52474034, 0.38338834, 0.5859033, 0.04137653, 0.16231334, 0.9887138, 0.34605455, 0.6172887, 0.2614407, 0.089696944],\n",
      "\t\t\t[0.6682873, 0.6979265, 0.4391359, 0.48699528, 0.56467223, 0.6070814, 0.36624825, 0.3046645, 0.5870324, 0.17508227, 0.49024427, 0.20778769, 0.47653472, 0.886143, 0.08144069, 0.93509257, 0.10574889, 0.2950248, 0.8943071, 0.5972454, 0.61281526, 0.7681191, 0.5918685, 0.94327986, 0.6652713, 0.3536867, 0.8880441, 0.92164874],\n",
      "\t\t\t[0.5621322, 0.60132027, 0.48621285, 0.9201027, 0.34876204, 0.79443336, 0.5750071, 0.17137647, 0.49920744, 0.12282616, 0.4041319, 0.17059988, 0.23849958, 0.0014314055, 0.4966746, 0.31357205, 0.22945213, 0.88108444, 0.5628439, 0.19008976, 0.23258007, 0.030019462, 0.061501443, 0.46724123, 0.9995359, 0.8474654, 0.64623153, 0.93907875],\n",
      "\t\t\t[0.2539423, 0.693183, 0.1667617, 0.21773094, 0.12743658, 0.51664096, 0.64043796, 0.27880275, 0.6489667, 0.54614925, 0.6740403, 0.9533853, 0.38607895, 0.8039269, 0.7673745, 0.04136628, 0.7816262, 0.46214187, 0.88973427, 0.3492518, 0.75123507, 0.27406293, 0.17462319, 0.87246674, 0.08011967, 0.16747802, 0.21514088, 0.44181132],\n",
      "\t\t\t[0.8580996, 0.5527886, 0.75018996, 0.3889491, 0.39911002, 0.6706065, 0.46232718, 0.97472215, 0.65786207, 0.3399104, 0.61961466, 0.028023243, 0.9147865, 0.8979996, 0.07834715, 0.834459, 0.3227173, 0.08812559, 0.39820844, 7.714629E-4, 0.87238014, 0.5696634, 0.40598065, 0.6466673, 0.6304646, 0.49885762, 0.94671553, 0.33626848],\n",
      "\t\t\t[0.39649802, 0.93669426, 0.61626774, 0.058770776, 0.19645756, 0.35618174, 0.3911181, 0.01727122, 0.9672721, 0.56171674, 0.9555756, 0.7290645, 0.15447235, 0.15744877, 0.2620468, 0.8642872, 0.24388349, 0.65222293, 0.2952956, 0.7442812, 0.29818958, 0.910198, 0.36876118, 0.38504136, 0.33711284, 0.60288435, 0.85542685, 0.92980313],\n",
      "\t\t\t[0.564508, 0.473697, 0.09520739, 0.8607736, 0.5891496, 0.8391788, 0.5845055, 0.47466356, 0.7042868, 0.22619659, 0.634847, 0.24641246, 0.68436515, 0.93524283, 0.104917645, 0.97768074, 0.333425, 0.14171374, 0.28606564, 0.7104047, 0.039104342, 0.7339831, 0.8143399, 0.23974544, 0.19973075, 0.4035145, 0.77867275, 0.42645717],\n",
      "\t\t\t[0.25122333, 0.706419, 0.89431745, 0.43429583, 0.431629, 0.030812562, 0.048097193, 0.9230284, 0.7451533, 0.06123233, 0.2882833, 0.081763744, 0.1253919, 0.031107068, 0.4652146, 0.19751608, 0.23555863, 0.10189438, 0.7285486, 0.86971205, 0.11688447, 0.3420316, 0.18173236, 0.986218, 0.52718556, 0.041191578, 0.056490183, 0.35636103],\n",
      "\t\t\t[0.21413702, 0.08098596, 0.55467236, 0.18042916, 0.37866753, 0.1423465, 0.98946506, 0.2143184, 0.86319363, 0.048805594, 0.56680834, 0.28360498, 0.8891337, 0.10449046, 0.82803583, 0.08938515, 0.060030937, 0.8753416, 0.5732142, 0.103506505, 0.04373616, 0.73786, 0.5539168, 0.6474505, 0.1756947, 0.16101098, 0.13374746, 0.8969014],\n",
      "\t\t\t[0.29616416, 0.07992941, 0.81962353, 0.14282513, 0.68863434, 0.91038615, 0.018942833, 0.68028015, 0.22058618, 0.65388113, 0.31250995, 0.8828251, 0.80414313, 0.4866063, 0.35265613, 0.99584854, 0.06842673, 0.68496287, 0.9619376, 0.03931439, 0.13818729, 0.4211554, 0.69658154, 0.17411631, 0.69539815, 0.21284825, 0.54824203, 0.84339595],\n",
      "\t\t\t[0.5139318, 0.03443426, 0.2155214, 0.7612422, 0.71187186, 0.22482258, 0.288334, 0.98432845, 0.49016446, 0.93995684, 0.51375955, 0.4206249, 0.70126396, 0.36364198, 0.0073803663, 0.93386835, 0.53514993, 0.31277245, 0.19000018, 0.42894888, 0.030730665, 0.46209675, 0.23150295, 0.84122527, 0.48117906, 0.95205367, 0.71797097, 0.75747025],\n",
      "\t\t\t[0.8809264, 0.3149796, 0.3028019, 0.5629794, 0.36091816, 0.47115934, 0.21710378, 0.5660725, 0.27436537, 0.4512154, 0.03726846, 0.006956935, 0.53395724, 0.8400349, 0.49279332, 0.20025784, 0.61271495, 0.64649904, 0.66933316, 0.22600102, 0.018205523, 0.102666855, 0.30563134, 0.65085644, 0.31547827, 0.09725076, 0.7110399, 0.36291832],\n",
      "\t\t\t[0.8828459, 0.743594, 0.04874289, 0.47855437, 0.0967679, 0.40598965, 0.5780609, 0.34798938, 0.38119578, 0.3427226, 0.84462506, 0.6045838, 0.53916246, 0.014909267, 0.86087453, 0.5699921, 0.7198873, 0.42116266, 0.24630356, 0.35683054, 0.13281417, 0.28140944, 0.32072318, 0.6450707, 0.34252286, 0.6218362, 0.12440485, 0.91912216],\n",
      "\t\t\t[0.50219333, 0.71535, 0.5670879, 0.21284944, 0.49896193, 0.83490664, 0.6813983, 0.24622542, 0.49616516, 0.3275242, 0.32024664, 0.6539106, 0.93433034, 0.60654604, 0.9077321, 0.6932175, 0.86979854, 0.6865461, 0.025114298, 0.48392248, 0.3901412, 0.61484855, 0.2429322, 0.06301123, 0.42285454, 0.76976407, 0.08043754, 0.31419098],\n",
      "\t\t\t[0.03672999, 0.34692657, 0.37082392, 0.96766925, 0.87637824, 0.65308106, 0.46496397, 0.7595292, 0.3490619, 0.81535107, 0.58556384, 0.71849513, 0.60243875, 0.2425288, 0.93143874, 0.339765, 0.15689862, 0.3359046, 0.32119763, 0.037844777, 0.4463516, 0.31916302, 0.780538, 0.24912792, 0.81543565, 0.6510688, 0.9102265, 0.38078362],\n",
      "\t\t\t[0.7385852, 0.47557652, 0.80887675, 0.47240126, 0.38354808, 0.17289531, 0.030183673, 0.9430872, 0.28433383, 0.26192296, 0.99159926, 0.8107859, 0.72651494, 0.4888634, 0.5494535, 0.10928053, 0.3447082, 0.44407076, 0.5452003, 0.7429517, 0.48844433, 0.42621112, 0.061344683, 0.9742382, 0.37395972, 0.25180274, 0.87618065, 0.54014635],\n",
      "\t\t\t[0.49407744, 0.008428574, 0.19367433, 0.30239302, 0.43452173, 0.29085565, 0.23134035, 0.81905603, 0.7899279, 0.07370615, 0.53895634, 0.23979813, 0.8698516, 0.048877, 0.35724032, 0.830908, 0.25620377, 0.067465544, 0.67224795, 0.41811126, 0.18413848, 0.2833439, 0.4482823, 0.2704935, 0.84896815, 0.23441654, 0.6156052, 0.9390339],\n",
      "\t\t\t[0.08185667, 0.9396181, 0.8713239, 0.60951304, 0.28131056, 0.0135627985, 0.9262797, 0.9824593, 0.9109454, 0.47417188, 0.8678582, 0.037614524, 0.049910188, 0.42836308, 0.30345446, 0.5678851, 0.40252882, 0.043988764, 0.7748194, 0.60666245, 0.96240956, 0.5714841, 0.63879496, 0.98036546, 0.5668261, 0.52483255, 0.2514969, 0.8556137],\n",
      "\t\t\t[0.93509823, 0.46115935, 0.30512804, 0.24517679, 0.3680702, 0.56706136, 0.0656175, 0.079606295, 0.37706965, 0.58423895, 0.042456865, 0.7491038, 0.084557116, 0.5718118, 0.8178768, 0.58420324, 0.50432914, 0.5352537, 0.7245, 0.89580643, 0.05064231, 0.92014855, 0.2449162, 0.5334877, 0.06701106, 0.051571608, 0.43786806, 0.57820284],\n",
      "\t\t\t[0.1794554, 0.23273909, 0.11209065, 0.1567626, 0.48681867, 0.26546973, 0.7661634, 0.7997125, 0.38327068, 0.9804975, 0.73599404, 0.29001403, 0.6310302, 0.77799726, 0.2552591, 0.7572677, 0.07809609, 0.36343116, 0.09795171, 0.12047541, 0.59663045, 0.17293727, 0.6749038, 0.4696946, 0.27427953, 0.81067944, 0.5587283, 0.8819781],\n",
      "\t\t\t[0.3979081, 0.40567142, 0.0043755174, 0.13326228, 0.20383924, 0.3238222, 0.2135418, 0.45380908, 0.61782765, 0.9454472, 0.2177605, 0.35456288, 0.9544801, 0.6921349, 0.056054473, 0.29503363, 0.32032955, 0.2636789, 0.68336594, 0.9768985, 0.7383531, 0.7024775, 0.50481635, 0.092140794, 0.19051188, 0.064484835, 0.8278928, 0.694349],\n",
      "\t\t\t[0.89406765, 0.100767374, 0.55465704, 0.65318406, 0.65799, 0.48617744, 0.2032575, 0.40551913, 0.105505824, 0.6386861, 0.10125673, 0.60442907, 0.15642142, 0.021038413, 0.95544815, 0.7500529, 0.8604765, 0.099579155, 0.19771755, 0.710109, 0.029966116, 0.9094565, 0.81188494, 0.2177679, 0.7569246, 0.7089799, 0.45591986, 0.51047987],\n",
      "\t\t]\n",
      "\t\t[\n",
      "\t\t\t[0.034509063, 0.18694091, 0.96355766, 0.14113009, 0.874433, 0.82924294, 0.24844629, 0.31829083, 0.8325339, 0.65144193, 0.8044745, 0.21425664, 0.2137636, 0.7331432, 0.52786666, 0.73537433, 0.5346756, 0.3373105, 0.6861811, 0.58499414, 0.83289284, 0.04740256, 0.06253904, 0.37823033, 0.7877336, 0.48796606, 0.6886826, 0.29489237],\n",
      "\t\t\t[0.6676523, 0.3025599, 0.7555024, 0.8189329, 0.17880756, 0.08827543, 0.9403969, 0.41504067, 0.46784967, 0.4695776, 0.69527817, 0.6743545, 0.32793504, 0.4765892, 0.83534163, 0.8895401, 0.64517856, 0.5776566, 0.76609176, 0.3772484, 0.21994364, 0.60018724, 0.9528259, 0.12951297, 0.9236366, 0.19018155, 0.5618822, 0.094104946],\n",
      "\t\t\t[0.16184789, 0.949427, 0.6480212, 0.41610485, 0.21577245, 0.3574016, 0.3527435, 0.994091, 0.34421408, 0.5694319, 0.5245083, 0.7108936, 0.08661544, 0.15084541, 0.8352926, 0.34044945, 0.82125497, 0.778595, 0.8666779, 0.42638737, 0.3206765, 0.8849452, 0.5067834, 0.9875732, 0.08747584, 0.9001862, 0.4678716, 0.4899341],\n",
      "\t\t\t[0.48482972, 0.68273246, 0.1091764, 0.39430702, 0.65077025, 0.9875983, 0.08726376, 0.868785, 0.4814188, 0.17537338, 0.74263906, 0.7191276, 0.2014764, 0.75353, 0.7693294, 0.17420202, 0.7568607, 0.9132324, 0.6226378, 0.61869586, 0.35429806, 0.062063634, 0.6260019, 0.4516809, 0.9716588, 0.8917911, 0.62143904, 0.42519486],\n",
      "\t\t\t[0.23280126, 0.8354682, 0.6557098, 0.33530235, 0.89022684, 0.9971752, 0.696665, 0.112987936, 0.26277566, 0.6046207, 0.2658739, 0.7109791, 0.84041053, 0.34591335, 0.0105294585, 0.9974973, 0.8586553, 0.40089792, 0.60087717, 0.3681624, 0.2683531, 0.9007443, 0.89261276, 0.879302, 0.20798421, 0.051832795, 0.9533133, 0.863869],\n",
      "\t\t\t[0.58738005, 0.79675776, 0.9616547, 0.9967896, 0.6923555, 0.22443569, 0.61690986, 0.4863463, 0.53712535, 0.34532022, 0.86416036, 0.0082166195, 0.47765332, 0.07006627, 0.55442554, 0.41308433, 0.22182745, 0.8747151, 0.8511391, 0.22783595, 0.50217247, 0.1685915, 0.6496635, 0.21755558, 0.9378657, 0.09562898, 0.71316135, 0.84712],\n",
      "\t\t\t[0.9288188, 0.54180163, 0.61512005, 0.24772024, 0.857555, 0.18170118, 0.04690206, 0.8389187, 0.1096614, 0.67323685, 0.8861574, 0.13989073, 0.6041629, 0.730355, 0.030717194, 0.117783606, 0.8521685, 0.49083692, 0.40309608, 0.5884283, 0.14865273, 0.572812, 0.37486255, 0.34498048, 0.9457436, 0.99138635, 0.9728249, 0.6214332],\n",
      "\t\t\t[0.6643565, 0.23615897, 0.33130395, 0.12842983, 0.30424362, 0.80604774, 0.4640568, 0.5100053, 0.13521147, 0.48868364, 0.8907503, 0.46602285, 0.653929, 0.976412, 0.77148604, 0.8493724, 0.97480094, 0.31013393, 0.37224585, 0.09020144, 0.4264145, 0.43478012, 0.34497958, 0.044307232, 0.544618, 0.85796875, 0.4002931, 0.6219915],\n",
      "\t\t\t[0.42129856, 0.94488233, 0.2248112, 0.57686526, 0.8718002, 0.034692466, 0.6758866, 0.2053144, 0.0017802715, 0.9569706, 0.8433763, 0.020927668, 0.44758022, 0.27588582, 0.8956845, 0.959749, 0.5178229, 0.19090217, 0.58139795, 0.9753482, 0.27971292, 0.92423284, 0.39235705, 0.6122606, 0.15662712, 0.6243974, 0.78172725, 0.89142454],\n",
      "\t\t\t[0.98870206, 0.8889157, 0.101727486, 0.2740153, 0.66657346, 0.5677457, 0.0015404224, 0.14005107, 0.09407711, 0.67550766, 0.45472336, 0.98466736, 0.7546243, 0.68651575, 0.88780373, 0.82674986, 0.14240515, 0.6083637, 0.92656475, 0.8364282, 0.66155595, 0.63615954, 0.73305535, 0.9620394, 0.40476996, 0.46984804, 0.61867404, 0.07234329],\n",
      "\t\t\t[0.7261629, 0.6163428, 0.64974546, 0.8606639, 0.7786265, 0.2688824, 0.17746472, 0.49417084, 0.38123494, 0.44794452, 0.08588159, 0.6836147, 0.78249973, 0.11169833, 0.91017616, 0.05396378, 0.5477401, 0.3169986, 0.8238463, 0.22090793, 0.030258715, 0.04684359, 0.14024591, 0.6384447, 0.60887504, 0.3796819, 0.06324786, 0.8770117],\n",
      "\t\t\t[0.45501018, 0.32211506, 0.4542774, 0.61700416, 0.6885997, 0.11463845, 0.9932304, 0.4256966, 0.8809158, 0.42791426, 0.38517302, 0.9684631, 0.71291727, 0.07911414, 0.91160446, 0.3422758, 0.5298292, 0.50405693, 0.9032347, 0.29452628, 0.3904044, 0.3749693, 0.15390915, 0.039857388, 0.74971277, 0.88442326, 0.5260804, 0.52231896],\n",
      "\t\t\t[0.67869973, 0.18708801, 0.26192898, 0.46857184, 0.20209229, 0.05268234, 0.32827526, 0.52078986, 0.25916755, 0.016797662, 0.6056712, 0.016818166, 0.08150971, 0.11631882, 0.8724084, 0.78464365, 0.73276573, 0.06393176, 0.7692628, 0.46689087, 0.27698433, 0.8987746, 0.5712898, 0.7740965, 0.58009136, 0.6255581, 0.8882397, 0.23731929],\n",
      "\t\t\t[0.7227263, 0.029460728, 0.8198623, 0.16445994, 0.26078206, 0.80459327, 0.08622545, 0.0070359707, 0.846949, 0.40351987, 0.4678337, 0.8544065, 0.63882565, 0.5201636, 0.8621614, 0.8889658, 0.60374904, 0.48061115, 0.31819963, 0.852675, 0.707942, 0.03804928, 0.7676567, 0.96977824, 0.6627175, 0.7324737, 0.47282273, 0.1471278],\n",
      "\t\t\t[0.9266257, 0.6103266, 0.44365424, 0.8819583, 0.60870117, 0.9274041, 0.46254593, 0.28466058, 0.66085505, 0.8450899, 0.017791092, 0.618556, 0.023975253, 0.26409203, 0.35707748, 0.60145605, 0.46133804, 0.7354741, 0.28260404, 0.77040035, 0.8801591, 0.27879864, 0.35192525, 9.740591E-4, 0.5979983, 0.11752963, 0.97211003, 0.84203357],\n",
      "\t\t\t[0.20911568, 0.8273747, 0.96081054, 0.48593473, 0.16825306, 0.22018224, 0.7336025, 0.21068168, 0.9468382, 0.29746032, 0.10945803, 0.6458343, 0.29540354, 0.55120337, 0.27145624, 0.54357404, 0.14094812, 0.19581074, 0.6227634, 0.07917327, 0.9141395, 0.9524429, 0.64574146, 0.60492474, 0.03300768, 0.09696454, 0.022364557, 0.42512655],\n",
      "\t\t\t[0.124926805, 0.73322, 0.18648261, 0.97926843, 0.36286342, 0.46964163, 0.10599798, 0.030737996, 0.64893204, 0.1954897, 0.49382728, 0.8750701, 0.6293612, 0.8992218, 0.9717038, 0.5576803, 0.9644116, 0.6725957, 1.4793873E-4, 0.7402093, 0.78712, 0.66596735, 0.38004202, 0.59594697, 0.7739749, 0.9628016, 0.54054064, 0.70200807],\n",
      "\t\t\t[0.5697034, 0.3608892, 0.2931559, 0.18956953, 0.14481115, 0.026506543, 0.47779918, 0.77115583, 0.34283483, 0.14707637, 0.022129, 0.85142493, 0.2940563, 0.6699213, 0.26579732, 0.80389863, 0.44986802, 0.9300781, 0.85651296, 0.6864732, 0.3294447, 0.7355035, 0.44537246, 0.035833716, 0.879414, 0.8854009, 0.6301101, 0.06160122],\n",
      "\t\t\t[0.52959573, 0.3368823, 0.8077527, 0.29453063, 0.9915234, 0.8283101, 0.9184708, 0.84575886, 0.16664183, 0.6124186, 0.041106522, 0.21873945, 0.35204417, 0.30311424, 0.59907305, 0.21142417, 0.51716995, 0.01802677, 0.5086863, 0.11535168, 0.980683, 0.121317744, 0.84589213, 0.71842426, 0.40286314, 0.01327306, 0.6002735, 0.97330844],\n",
      "\t\t\t[0.04331529, 0.42524672, 0.16528213, 0.1865812, 0.6581298, 0.18073374, 0.534613, 0.55048734, 0.10777193, 0.1980722, 0.57606953, 0.7976845, 0.6937631, 0.737741, 0.25200063, 0.8090767, 0.8310135, 0.6650564, 0.6406985, 0.23198134, 0.75751317, 0.89191157, 0.7323508, 0.5969898, 0.25076818, 0.8757516, 0.5229938, 0.2751757],\n",
      "\t\t\t[0.9004165, 0.3431937, 0.7996575, 0.86116874, 0.1785779, 0.36337185, 0.23000127, 0.7953042, 0.74946195, 0.35740012, 0.9984828, 0.13421196, 0.2501545, 0.071002424, 0.23445272, 0.1335563, 0.8626951, 0.67566687, 0.87777853, 0.6875245, 0.8821983, 0.49507213, 0.27279735, 0.6248856, 0.121064484, 0.3885677, 0.753012, 0.02534622],\n",
      "\t\t\t[0.89321876, 0.17694598, 0.819376, 0.29090858, 0.7433711, 0.52770543, 0.5003941, 0.9208605, 0.22381204, 0.604245, 0.6716043, 0.7549987, 0.18112332, 0.50917184, 0.20099026, 0.038812816, 0.6866641, 0.4219346, 0.8472185, 0.97463316, 0.22960508, 0.726044, 0.71996814, 0.15797353, 0.8094259, 0.6950122, 0.01841259, 0.113984585],\n",
      "\t\t\t[0.67724264, 0.9418203, 0.895066, 0.052737236, 0.49019432, 0.24432153, 0.98574805, 0.2471121, 0.58568656, 0.2535348, 0.21408188, 0.30783492, 0.17138463, 0.9330172, 0.9532628, 0.47821677, 0.43138003, 0.64016604, 0.8772581, 0.6057266, 0.9527826, 0.0101392865, 0.72897977, 0.4795478, 0.020105243, 0.3262096, 0.8326062, 0.17297256],\n",
      "\t\t\t[0.6093962, 0.6353554, 0.86139435, 0.5909461, 0.04982567, 0.08193779, 0.01723373, 0.43002552, 0.9956482, 0.7066478, 0.21596795, 0.5700041, 0.84353715, 0.55881155, 0.55295783, 0.21974349, 0.9566467, 0.58852065, 0.28954417, 0.10801017, 0.9458957, 0.6621005, 0.6452499, 0.63896155, 0.89662105, 0.51707524, 0.9042634, 0.08087951],\n",
      "\t\t\t[0.96811897, 0.1894216, 0.23374945, 0.398848, 0.19531995, 0.34452808, 0.89738387, 0.2390011, 0.9072637, 0.83491445, 0.34131324, 0.64165926, 0.32899952, 0.34744352, 0.59742445, 0.67926055, 0.4377821, 0.56572586, 0.20976049, 0.654643, 0.26661122, 0.89581716, 0.31140447, 0.5055056, 0.4999501, 0.11281049, 0.39065105, 0.1005097],\n",
      "\t\t\t[0.031992614, 0.61744905, 0.16949755, 0.1031754, 0.43423086, 0.20601666, 0.6596627, 0.48002332, 0.4026509, 0.51530546, 0.5309893, 0.044765234, 0.43029732, 0.42788994, 0.5953278, 0.7977085, 0.9619068, 0.92086136, 0.74064404, 0.48232996, 0.703304, 0.8288817, 0.46116728, 0.7822039, 0.060195982, 0.48881048, 0.44998014, 0.9377677],\n",
      "\t\t\t[0.8598327, 0.8619358, 0.7015266, 0.8627595, 0.10636246, 0.334998, 0.47983915, 0.69373757, 0.83957505, 0.6384375, 0.3960086, 0.3401087, 0.2333045, 0.5521008, 0.14882672, 0.9423213, 0.4273911, 0.06686735, 0.6170605, 0.9859294, 0.080334365, 0.34312242, 0.05341506, 0.9191546, 0.8785388, 0.710156, 0.96475494, 0.6444644],\n",
      "\t\t\t[0.06465691, 0.91893846, 0.61748374, 0.103456914, 0.4595968, 0.70941097, 0.7388737, 0.061357796, 0.5686807, 0.37956494, 0.3126464, 0.07407516, 0.15478086, 0.77316153, 0.6373063, 0.68102103, 0.4909243, 0.29660624, 0.9730561, 0.0772751, 0.74417555, 0.22067285, 0.9473617, 0.8046103, 0.99370474, 0.53347677, 0.4233929, 0.57132983],\n",
      "\t\t]\n",
      "\t],\n",
      "\t[\n",
      "\t\t[\n",
      "\t\t\t[0.118365824, 0.34157616, 0.8950873, 0.8564444, 0.5148172, 0.3591265, 0.06800717, 0.78521377, 0.05420667, 0.26998234, 0.23735529, 0.06766611, 0.08593655, 0.96505135, 0.44358063, 0.5778005, 0.16313773, 0.59995073, 0.2436412, 0.019907892, 0.078267515, 0.8683165, 0.47846806, 0.53531146, 0.21852148, 0.06828797, 0.7920222, 0.482714],\n",
      "\t\t\t[0.7722412, 0.81050026, 0.8590994, 0.58225006, 0.98613405, 0.26249295, 0.53733444, 0.64816153, 0.6264238, 0.78992313, 0.13595492, 0.9849812, 0.09683454, 0.112100065, 0.6679421, 0.52635205, 0.63794845, 0.021690011, 0.29822153, 0.4662614, 0.10315049, 0.04476273, 0.3819546, 0.812081, 0.3918764, 0.7838079, 0.111967266, 0.17913222],\n",
      "\t\t\t[0.25788516, 0.32324815, 0.8494738, 0.96072257, 0.54334664, 0.8400785, 0.7566081, 0.560385, 0.16511387, 0.34380758, 0.48436582, 0.7328177, 0.8008393, 0.48664564, 0.41681218, 0.68543833, 0.34081346, 0.28446555, 0.3287512, 0.15980464, 0.6424383, 0.66052586, 0.42004645, 0.49327755, 0.48803514, 0.21353179, 0.15100771, 0.6090328],\n",
      "\t\t\t[0.1365239, 0.7235141, 0.70279866, 0.64647985, 0.30515373, 0.21904927, 0.039277434, 0.16448951, 0.6842908, 0.46101338, 0.18026638, 0.16779959, 0.89517194, 0.6653261, 0.46830267, 0.089205146, 0.31541657, 0.003475666, 0.580623, 0.86292934, 0.29541004, 0.8286141, 0.32272714, 0.05282396, 0.7045084, 0.6708514, 0.7804038, 0.5663114],\n",
      "\t\t\t[0.106763184, 0.30913305, 0.60276854, 0.80295074, 0.19512093, 0.5193755, 0.5187759, 0.023466468, 0.30792582, 0.6913117, 0.12574846, 0.51626474, 0.72038954, 0.52585536, 0.008679569, 0.9460021, 0.22589147, 0.9536093, 0.7714465, 0.16947943, 0.55311275, 0.82741684, 0.65930635, 0.7026042, 0.057533205, 0.82435864, 0.4582289, 0.9316384],\n",
      "\t\t\t[0.8848539, 0.4154119, 0.9585781, 0.087069035, 0.63411546, 0.25919962, 0.20617872, 0.7683512, 0.94102716, 0.44165576, 0.37632585, 0.4150465, 0.09236294, 0.64047146, 0.28788674, 0.980646, 0.40265417, 0.30047882, 0.9646688, 0.9821384, 0.6606293, 0.63620937, 0.1330241, 0.59205925, 0.20034832, 0.666818, 0.7588281, 0.87744826],\n",
      "\t\t\t[0.20857245, 0.24186862, 0.22361684, 0.2569633, 0.13371378, 0.8667649, 0.99208677, 0.13839734, 0.6261724, 0.66258687, 0.9418124, 0.064361215, 0.011625648, 0.81987476, 0.5601165, 0.41552603, 0.78604925, 0.17379332, 0.20763683, 0.0018950105, 0.010890365, 0.71558046, 0.3995278, 0.58443934, 0.29823446, 0.26489085, 0.38424146, 0.67054605],\n",
      "\t\t\t[0.8383847, 0.6859939, 0.25919425, 0.08918613, 0.42716318, 0.49621493, 0.9289464, 0.064961374, 0.161206, 0.6028376, 0.85756034, 0.639582, 0.21019447, 0.09067941, 0.6980128, 0.87541246, 0.27145076, 0.46173346, 0.9236106, 0.20097506, 0.16785395, 0.9026512, 0.046409547, 0.05553782, 0.86532736, 0.26992124, 0.7907537, 0.5064696],\n",
      "\t\t\t[0.94582343, 0.9492792, 0.88828456, 0.7762236, 0.44131118, 0.06768787, 0.16312003, 0.19114083, 0.798777, 0.46619773, 0.7004039, 0.93078977, 0.5237861, 0.09646237, 0.46982956, 0.15473783, 0.44658524, 0.42481214, 0.024135292, 0.9070875, 0.24408686, 0.094840586, 0.76511276, 0.50137115, 0.86927074, 0.6758785, 0.8554474, 0.5737452],\n",
      "\t\t\t[0.07403314, 0.48574567, 0.5503933, 0.62596357, 0.62662864, 0.2817893, 0.24313062, 0.015271902, 0.5513472, 0.19013107, 0.80904067, 0.7419126, 0.553058, 0.5236625, 0.47970027, 0.35909212, 0.81864375, 0.48587072, 0.54261106, 0.31749362, 0.4947248, 0.3015982, 0.20870143, 0.23078966, 0.40591937, 0.29616743, 0.24746537, 0.44528317],\n",
      "\t\t\t[0.20808631, 0.33568406, 0.62513214, 0.6550623, 0.49082142, 0.50337386, 0.047303915, 0.4176963, 0.5968037, 0.25144756, 0.84560233, 0.6936767, 0.34232068, 0.7645753, 0.44414252, 0.6735815, 0.39878893, 0.2794711, 0.4033757, 0.017433882, 0.95033765, 0.86697316, 0.9702592, 0.6999546, 0.9010436, 0.7276658, 0.030865908, 0.6170224],\n",
      "\t\t\t[0.2989772, 0.35685092, 0.8095589, 0.4209221, 0.23837006, 0.39210123, 0.3792894, 0.073970854, 0.33636206, 0.3779797, 0.08049464, 0.099671006, 0.54185855, 0.46642774, 0.47749102, 0.13594466, 0.04652369, 0.52298003, 0.15519178, 0.88323796, 0.25058496, 0.87162226, 0.8163169, 0.4314403, 0.85605216, 0.18315917, 0.63670456, 0.5487337],\n",
      "\t\t\t[0.077213764, 0.17640883, 0.698259, 0.09927386, 0.31428063, 0.7570454, 0.63898, 0.7164464, 0.9099702, 0.32078618, 0.9405973, 0.74478036, 0.3345545, 0.86378413, 0.7874126, 0.16692722, 0.776532, 0.84326863, 0.71221226, 0.8041873, 0.102763414, 0.11207086, 0.71920496, 0.814438, 0.5898683, 0.95870024, 0.84209377, 0.32927436],\n",
      "\t\t\t[0.48657346, 0.64237994, 0.77192235, 0.6355377, 0.97293544, 0.13888389, 0.8543317, 0.2478056, 0.67982113, 0.18962777, 0.06790912, 0.5910351, 0.18605095, 0.6137138, 0.4946879, 0.4264276, 0.013475001, 0.8702703, 0.35242134, 0.20194823, 0.8220956, 0.47709876, 0.66306794, 0.29159623, 0.82116026, 0.98572093, 0.45095992, 0.14822263],\n",
      "\t\t\t[0.8964095, 0.39466023, 0.014706671, 0.18953401, 0.19527268, 0.99801505, 0.0055273175, 0.16047227, 0.0041497946, 0.5874081, 0.9813123, 0.84935, 0.44478267, 0.5092017, 0.82406354, 0.20539731, 0.37751526, 0.95152503, 0.16261172, 0.864412, 0.78618383, 0.3582235, 0.98580295, 0.963268, 0.51858854, 0.7351409, 0.15985519, 0.7518874],\n",
      "\t\t\t[0.2288754, 0.37495655, 0.68480074, 0.09182501, 0.6834087, 0.73975724, 0.9031444, 0.07969934, 0.60667694, 0.5855648, "
     ]
    },
    {
     "name": "stderr",
     "output_type": "stream",
     "text": [
      "IOPub message rate exceeded.\n",
      "The Jupyter server will temporarily stop sending output\n",
      "to the client in order to avoid crashing it.\n",
      "To change this limit, set the config variable\n",
      "`--ServerApp.iopub_msg_rate_limit`.\n",
      "\n",
      "Current values:\n",
      "ServerApp.iopub_msg_rate_limit=1000.0 (msgs/sec)\n",
      "ServerApp.rate_limit_window=3.0 (secs)\n",
      "\n"
     ]
    }
   ],
   "source": [
    "import torch.Float32\n",
    "val a = torch.rand(4, 3, 28, 28)\n",
    "val b=a.numpy[Float32]()\n",
    "b.printArray()"
   ]
  },
  {
   "cell_type": "code",
   "execution_count": 9,
   "id": "e358a2d6-1c8e-4493-9d2b-8cf31fb8bc6a",
   "metadata": {},
   "outputs": [
    {
     "name": "stderr",
     "output_type": "stream",
     "text": [
      "Resolving package/object name conflict in favor of package spire.compat. The object will be inaccessible.\n"
     ]
    },
    {
     "name": "stdout",
     "output_type": "stream",
     "text": [
      "a[:2].shape ArraySeq(2, 3, 28, 28)  torch.Size([2, 3, 28, 28])\n"
     ]
    },
    {
     "data": {
      "text/plain": [
       "\u001b[36ma\u001b[39m: \u001b[32mTensor\u001b[39m[\u001b[32mFloat32\u001b[39m] = tensor dtype=float32, shape=[4, 3, 28, 28], device=CPU \r\n",
       "[[[[0.3576, 0.1029, 0.7340, ..., 0.1539, 0.2570, 0.9061],\r\n",
       "   [0.4536, 0.7629, 0.4712, ..., 0.8143, 0.2777, 0.2396],\r\n",
       "   [0.6955, 0.3352, 0.6350, ..., 0.7933, 0.6593, 0.3724],\r\n",
       "   ...,\r\n",
       "   [0.4838, 0.9746, 0.8646, ..., 0.5763, 0.0294, 0.9614],\r\n",
       "   [0.3911, 0.6317, 0.8119, ..., 0.7525, 0.9284, 0.9590],\r\n",
       "   [0.9393, 0.3317, 0.3382, ..., 0.9059, 0.4342, 0.6582]],\r\n",
       "\r\n",
       "  [[0.3047, 0.8094, 0.2958, ..., 0.3682, 0.4110, 0.4230],\r\n",
       "   [0.4207, 0.9332, 0.9586, ..., 0.2469, 0.8180, 0.6843],\r\n",
       "   [0.9573, 0.6616, 0.7545, ..., 0.6207, 0.6088, 0.4362],\r\n",
       "   ...,\r\n",
       "   [0.2278, 0.2913, 0.1295, ..., 0.1484, 0.5690, 0.8185],\r\n",
       "   [0.9789, 0.7324, 0.3442, ..., 0.3552, 0.9436, 0.0621],\r\n",
       "   [0.8034, 0.8563, 0.7924, ..., 0.1762, 0.1612, 0.6783]],\r\n",
       "\r\n",
       "  [[0.7646, 0.8491, 0.9171, ..., 0.3208, 0.6886, 0.4664],\r\n",
       "   [0.8861, 0.7606, 0.3651, ..., 0.2378, 0.4857, 0.4319],\r\n",
       "   [0.5053, 0.5689, 0.9489, ..., 0.8400, 0.0700, 0.5144],\r\n",
       "   ...,\r\n",
       "   [0.1370, 0.5292, 0.4862, ..., 0.9000, 0.7085, 0.1485],\r\n",
       "   [0.2314, 0.1975, 0.9480, ..., 0.2831, 0.8709, 0.7811],\r\n",
       "   [0.6339, 0.9422, 0.7579, ..., 0.7849, 0.6026, 0.1746]]],\r\n",
       "\r\n",
       " [[[0.8015, 0.4028, 0.1647, ..., 0.7090, 0.4203, 0.9090],\r\n",
       "   [0.1337, 0.9238, 0.2940, ..., 0.2627, 0.8342, 0.4027],\r\n",
       "   [0.1446, 0.6156, 0.9193, ..., 0.1359, 0.8748, 0.5374],\r\n",
       "   ...,\r\n",
       "   [0.5060, 0.7983, 0.3312, ..., 0.8045, 0.6831, 0.9906],\r\n",
       "   [0.2720, 0.8139, 0.8277, ..., 0.2964, 0.3325, 0.4136],\r\n",
       "   [0.1150, 0.6405, 0.9574, ..., 0.6576, 0.1832, 0.8038]],\r\n",
       "\r\n",
       "  [[0.9272, 0.5158, 0.9410, ..., 0.3047, 0.2512, 0.1556],\r\n",
       "   [0.7582, 0.6749, 0.4746, ..., 0.3423, 0.5364, 0.3627],\r\n",
       "   [0.8617, 0.8369, 0.6974, ..., 0.9476, 0.8313, 0.4515],\r\n",
       "   ...,\r\n",
       "   [0.8114, 0.4911, 0.8609, ..., 0.6214, 0.0843, 0.6450],\r\n",
       "   [0.3468, 0.5678, 0.5416, ..., 0.3357, 0.4639, 0.6343],\r\n",
       "..."
      ]
     },
     "execution_count": 9,
     "metadata": {},
     "output_type": "execute_result"
    }
   ],
   "source": [
    "val a = torch.rand(Seq(4, 3, 28, 28))\n",
    "    // print(a[:2].shape) # torch.Size([2, 3, 28, 28])\n",
    "    //print(a[:2, :1, :, :].shape) #torch.Size([2, 1, 28, 28])\n",
    "    //print(a[:2, 1:, :, :].shape) # torch.Size([2, 2, 28, 28])\n",
    "    //print(a[:2, -2:, :, :].shape) # torch.Size([2, 2, 28, 28])\n",
    "    //print(a[:, :, 0:28:2, 0:28:2].shape) #torch.Size([4, 3, 14, 14])\n",
    "    //print(a[:, :, ::2, ::2].shape) #torch.Size([4, 3, 14, 14])\n",
    "println(s\"a[:2].shape ${a(Seq(0, 1)).shape}  torch.Size([2, 3, 28, 28])\")"
   ]
  },
  {
   "cell_type": "code",
   "execution_count": 10,
   "id": "8f5cf2ae-ce21-451d-b7c4-bf1cee74ca21",
   "metadata": {},
   "outputs": [
    {
     "name": "stderr",
     "output_type": "stream",
     "text": [
      "Resolving package/object name conflict in favor of package spire.compat. The object will be inaccessible.\n",
      "-- [E029] Pattern Match Exhaustivity Warning: cmd10.sc:5:16 --------------------\n",
      "5 |val res = index.dtype match\n",
      "  |          ^^^^^^^^^^^\n",
      "  |          match may not be exhaustive.\n",
      "  |\n",
      "  |          It would fail on pattern case: int32\n",
      "  |\n",
      "  | longer explanation available when compiling with `-explain`\n",
      "-- [E030] Match case Unreachable Warning: cmd10.sc:6:17 ------------------------\n",
      "6 |      case torch.int64 => fromNative(torchNative.take(input.native, index.native))\n",
      "  |           ^^^^^^^^^^^\n",
      "  |           Unreachable case\n"
     ]
    },
    {
     "name": "stdout",
     "output_type": "stream",
     "text": [
      "tensor dtype=int32, shape=[2, 3], device=CPU \n",
      "[[3, 7, 2],\n",
      " [2, 8, 13]]\n",
      "index dtype  int32\n",
      "take index dtype: int32\n",
      "tensor dtype=int32, shape=[3], device=CPU \n",
      "[3, 2, 8]\n"
     ]
    },
    {
     "data": {
      "text/plain": [
       "\u001b[36minput\u001b[39m: \u001b[32mTensor\u001b[39m[\u001b[32mInt32\u001b[39m] = tensor dtype=int32, shape=[2, 3], device=CPU \r\n",
       "[[3, 7, 2],\r\n",
       " [2, 8, 13]]\r\n",
       "\u001b[36mindex\u001b[39m: \u001b[32mTensor\u001b[39m[\u001b[32mInt32\u001b[39m] = tensor dtype=int32, shape=[3], device=CPU \r\n",
       "[0, 2, 4]\r\n",
       "\u001b[36mres\u001b[39m: \u001b[32mTensor\u001b[39m[\u001b[32mDType\u001b[39m] = tensor dtype=int32, shape=[3], device=CPU \r\n",
       "[3, 2, 8]\r\n",
       "\u001b[36mb\u001b[39m: \u001b[32mTensor\u001b[39m[\u001b[32mInt32\u001b[39m] = tensor dtype=int32, shape=[3], device=CPU \r\n",
       "[3, 2, 8]"
      ]
     },
     "execution_count": 10,
     "metadata": {},
     "output_type": "execute_result"
    }
   ],
   "source": [
    "val input = torch.tensor(Seq(Seq(3, 7, 2), Seq(2, 8, 13)))\n",
    "println(input)\n",
    "val index = torch.Tensor(Seq(0, 2, 4)).to(dtype = torch.int32)\n",
    "println(s\"index dtype  ${index.dtype}\")\n",
    "val res = index.dtype match\n",
    "      case torch.int64 => fromNative(torchNative.take(input.native, index.native))\n",
    "      case torch.int32 => fromNative(torchNative.take(input.native, index.to(dtype = torch.int64).native))\n",
    "val b = torch.take(input, index)\n",
    "println(res)"
   ]
  },
  {
   "cell_type": "code",
   "execution_count": 11,
   "id": "3f06117f-e7d9-4b2e-bf9c-909b2baff53f",
   "metadata": {},
   "outputs": [
    {
     "name": "stderr",
     "output_type": "stream",
     "text": [
      "Resolving package/object name conflict in favor of package spire.compat. The object will be inaccessible.\n"
     ]
    },
    {
     "name": "stdout",
     "output_type": "stream",
     "text": [
      "t1 shape ArraySeq(1, 3, 4) t1 shape ArraySeq(1, 3, 4)\n",
      "t1 tensor dtype=int32, shape=[1, 3, 4], device=CPU \n",
      "[[[244, 245, 246, 247],\n",
      "  [268, 269, 270, 271],\n",
      "  [292, 293, 294, 295]]]\n",
      "t2 shape ArraySeq(1, 10, 8) t2 shape ArraySeq(1, 10, 8)\n",
      "t2 tensor dtype=int32, shape=[1, 10, 8], device=CPU \n",
      "[[[240, 241, 242, ..., 245, 246, 247],\n",
      "  [248, 249, 250, ..., 253, 254, 255],\n",
      "  [256, 257, 258, ..., 261, 262, 263],\n",
      "  ...,\n",
      "  [296, 297, 298, ..., 301, 302, 303],\n",
      "  [304, 305, 306, ..., 309, 310, 311],\n",
      "  [312, 313, 314, ..., 317, 318, 319]]]\n"
     ]
    },
    {
     "data": {
      "text/plain": [
       "\u001b[32mimport \u001b[39m\u001b[36mtorch.{---, ::,&&, Slice}\r\n",
       "\u001b[39m\r\n",
       "\u001b[36mtensor\u001b[39m: \u001b[32mTensor\u001b[39m[\u001b[32mInt32\u001b[39m] = tensor dtype=int32, shape=[4, 10, 8], device=CPU \r\n",
       "[[[0, 1, 2, ..., 5, 6, 7],\r\n",
       "  [8, 9, 10, ..., 13, 14, 15],\r\n",
       "  [16, 17, 18, ..., 21, 22, 23],\r\n",
       "  ...,\r\n",
       "  [56, 57, 58, ..., 61, 62, 63],\r\n",
       "  [64, 65, 66, ..., 69, 70, 71],\r\n",
       "  [72, 73, 74, ..., 77, 78, 79]],\r\n",
       "\r\n",
       " [[80, 81, 82, ..., 85, 86, 87],\r\n",
       "  [88, 89, 90, ..., 93, 94, 95],\r\n",
       "  [96, 97, 98, ..., 101, 102, 103],\r\n",
       "  ...,\r\n",
       "  [136, 137, 138, ..., 141, 142, 143],\r\n",
       "  [144, 145, 146, ..., 149, 150, 151],\r\n",
       "  [152, 153, 154, ..., 157, 158, 159]],\r\n",
       "\r\n",
       " [[160, 161, 162, ..., 165, 166, 167],\r\n",
       "  [168, 169, 170, ..., 173, 174, 175],\r\n",
       "  [176, 177, 178, ..., 181, 182, 183],\r\n",
       "  ...,\r\n",
       "  [216, 217, 218, ..., 221, 222, 223],\r\n",
       "  [224, 225, 226, ..., 229, 230, 231],\r\n",
       "  [232, 233, 234, ..., 237, 238, 239]],\r\n",
       "\r\n",
       " [[240, 241, 242, ..., 245, 246, 247],\r\n",
       "  [248, 249, 250, ..., 253, 254, 255],\r\n",
       "  [256, 257, 258, ..., 261, 262, 263],\r\n",
       "  ...,\r\n",
       "  [296, 297, 298, ..., 301, 302, 303],\r\n",
       "  [304, 305, 306, ..., 309, 310, 311],\r\n",
       "  [312, 313, 314, ..., 317, 318, 319]]]\r\n",
       "\u001b[36mt1\u001b[39m: \u001b[32mTensor\u001b[39m[\u001b[32mInt32\u001b[39m] = tensor dtype=int32, shape=[1, 3, 4], device=CPU \r\n",
       "[[[244, 245, 246, 247],\r\n",
       "  [268, 269, 270, 271],\r\n",
       "  [292, 293, 294, 295]]]\r\n",
       "\u001b[36mt2\u001b[39m: \u001b[32mTensor\u001b[39m[\u001b[32mInt32\u001b[39m] = tensor dtype=int32, shape=[1, 10, 8], device=CPU \r\n",
       "[[[240, 241, 242, ..., 245, 246, 247],\r\n",
       "  [248, 249, 250, ..., 253, 254, 255],\r\n",
       "  [256, 257, 258, ..., 261, 262, 263],\r\n",
       "  ...,\r\n",
       "  [296, 297, 298, ..., 301, 302, 303],\r\n",
       "  [304, 305, 306, ..., 309, 310, 311],\r\n",
       "  [312, 313, 314, ..., 317, 318, 319]]]"
      ]
     },
     "execution_count": 11,
     "metadata": {},
     "output_type": "execute_result"
    }
   ],
   "source": [
    "import torch.{---, ::,&&, Slice}\n",
    "val tensor = torch.arange(0, 320).reshape(4, 10, 8)\n",
    "val t1 = tensor(3.&&(6), Slice(0, 8, 3), -4.::) //tensor( 3:6, :8:3,-4:)\n",
    "println(s\"t1 shape ${t1.shape} t1 shape ArraySeq(1, 3, 4)\")\n",
    "println(s\"t1 ${t1}\")\n",
    "val t2 = tensor(3.&&(6))\n",
    "println(s\"t2 shape ${t2.shape} t2 shape ArraySeq(1, 10, 8)\")\n",
    "println(s\"t2 ${t2}\")"
   ]
  },
  {
   "cell_type": "code",
   "execution_count": 12,
   "id": "3866b3b9-52df-4385-99f8-1cce25d1aad3",
   "metadata": {},
   "outputs": [
    {
     "name": "stderr",
     "output_type": "stream",
     "text": [
      "Resolving package/object name conflict in favor of package spire.compat. The object will be inaccessible.\n"
     ]
    },
    {
     "data": {
      "text/plain": [
       "\u001b[32mimport \u001b[39m\u001b[36mtorch.{ BFloat16 ,Float32 , Int64,Default, Tensor }\r\n",
       "\u001b[39m\r\n",
       "\u001b[32mimport \u001b[39m\u001b[36mtorch.nn.functional as F\r\n",
       "\u001b[39m\r\n",
       "\u001b[32mimport \u001b[39m\u001b[36mtorch.nn.modules.HasParams\r\n",
       "\u001b[39m\r\n",
       "\u001b[32mimport \u001b[39m\u001b[36mtorch.nn as nn\r\n",
       "\u001b[39m\r\n",
       "\u001b[32mimport \u001b[39m\u001b[36mtorch.optim.Adam\r\n",
       "\u001b[39m\r\n",
       "\u001b[32mimport \u001b[39m\u001b[36mjava.nio.file.Paths\r\n",
       "\u001b[39m\r\n",
       "defined \u001b[32mclass\u001b[39m \u001b[36mLstmNet\u001b[39m\r\n",
       "defined \u001b[32mclass\u001b[39m \u001b[36mRnnNet\u001b[39m\r\n",
       "defined \u001b[32mclass\u001b[39m \u001b[36mGruNet\u001b[39m"
      ]
     },
     "execution_count": 12,
     "metadata": {},
     "output_type": "execute_result"
    }
   ],
   "source": [
    "import torch.{ BFloat16 ,Float32 , Int64,Default, Tensor }\n",
    "import torch.nn.functional as F\n",
    "import torch.nn.modules.HasParams\n",
    "import torch.nn as nn\n",
    "import torch.optim.Adam\n",
    "import java.nio.file.Paths\n",
    "class LstmNet[D <: BFloat16 | Float32 : Default](\n",
    "                                                  inputSize: Int = 28,\n",
    "                                                  hiddenSize: Int = 128,\n",
    "                                                  numLayers: Int = 2,\n",
    "                                                  numClasses: Int = 10\n",
    "                                                ) extends HasParams[D] {\n",
    "\n",
    "  val lstm = register(nn.LSTM(inputSize, hiddenSize, numLayers, batch_first = true))\n",
    "  val fc = register(nn.Linear(hiddenSize, numClasses))\n",
    "\n",
    "  def apply(i: Tensor[D]): Tensor[D] =\n",
    "    val arr = Seq(numLayers, i.size.head, hiddenSize.toInt)\n",
    "    val h0 = torch.zeros(size = arr, dtype = i.dtype)\n",
    "    val c0 = torch.zeros(size = arr, dtype = i.dtype)\n",
    "    val outTuple3 = lstm(i, Some(h0), Some(c0))\n",
    "    var out: Tensor[D] = outTuple3._1\n",
    "    out = out.index(torch.indexing.::, -1, ::)\n",
    "    F.logSoftmax(fc(out), dim = 1)\n",
    "\n",
    "}\n",
    "// import torch.*\n",
    "class RnnNet[D <: BFloat16 | Float32 : Default](\n",
    "                                                 inputSize: Int = 28,\n",
    "                                                 hiddenSize: Int = 128,\n",
    "                                                 numLayers: Int = 2,\n",
    "                                                 numClasses: Int = 10\n",
    "                                               ) extends HasParams[D] {\n",
    "\n",
    "  val rnn = register(nn.RNN(inputSize, hiddenSize, numLayers, batch_first = true))\n",
    "  val fc = register(nn.Linear(hiddenSize, numClasses))\n",
    "\n",
    "  def apply(i: Tensor[D]): Tensor[D] =\n",
    "    val arr = Seq(numLayers, i.size.head, hiddenSize.toInt)\n",
    "    val h0 = torch.zeros(size = arr, dtype = i.dtype)\n",
    "    val c0 = torch.zeros(size = arr, dtype = i.dtype)\n",
    "    val outTuple2 = rnn(i, Some(h0))\n",
    "    var out: Tensor[D] = outTuple2._1\n",
    "    out = out.index(torch.indexing.::, -1, ::)\n",
    "    F.logSoftmax(fc(out), dim = 1)\n",
    "}\n",
    "class GruNet[D <: BFloat16 | Float32 : Default](\n",
    "                                                 inputSize: Int = 28,\n",
    "                                                 hiddenSize: Int = 128,\n",
    "                                                 numLayers: Int = 2,\n",
    "                                                 numClasses: Int = 10\n",
    "                                               ) extends HasParams[D] {\n",
    "\n",
    "  val gru = register(nn.GRU(inputSize, hiddenSize, numLayers, batch_first = true))\n",
    "  val fc = register(nn.Linear(hiddenSize, numClasses))\n",
    "\n",
    "  def apply(i: Tensor[D]): Tensor[D] =\n",
    "    val arr = Seq(numLayers, i.size.head, hiddenSize.toInt)\n",
    "    val h0 = torch.zeros(size = arr, dtype = i.dtype)\n",
    "    val c0 = torch.zeros(size = arr, dtype = i.dtype)\n",
    "    val outTuple2 = gru(i, Some(h0))\n",
    "    var out: Tensor[D] = outTuple2._1\n",
    "    out = out.index(torch.indexing.::, -1, ::)\n",
    "    F.logSoftmax(fc(out), dim = 1)\n",
    "}"
   ]
  },
  {
   "cell_type": "code",
   "execution_count": 14,
   "id": "dfaf9ccc-b86c-4b57-9570-7041dd8443af",
   "metadata": {},
   "outputs": [
    {
     "name": "stderr",
     "output_type": "stream",
     "text": [
      "Resolving package/object name conflict in favor of package spire.compat. The object will be inaccessible.\n"
     ]
    },
    {
     "data": {
      "text/plain": [
       "defined \u001b[32mclass\u001b[39m \u001b[36mRnnNet\u001b[39m"
      ]
     },
     "execution_count": 14,
     "metadata": {},
     "output_type": "execute_result"
    }
   ],
   "source": []
  },
  {
   "cell_type": "code",
   "execution_count": 15,
   "id": "7cee69c5-a4b1-488a-a5ff-a6362d94fc96",
   "metadata": {},
   "outputs": [
    {
     "name": "stderr",
     "output_type": "stream",
     "text": [
      "Resolving package/object name conflict in favor of package spire.compat. The object will be inaccessible.\n"
     ]
    },
    {
     "data": {
      "text/plain": [
       "defined \u001b[32mclass\u001b[39m \u001b[36mGruNet\u001b[39m"
      ]
     },
     "execution_count": 15,
     "metadata": {},
     "output_type": "execute_result"
    }
   ],
   "source": []
  },
  {
   "cell_type": "code",
   "execution_count": 6,
   "id": "45d84200-ac31-4a3c-afbe-24c23b96ddf6",
   "metadata": {},
   "outputs": [
    {
     "name": "stderr",
     "output_type": "stream",
     "text": [
      "Resolving package/object name conflict in favor of package spire.compat. The object will be inaccessible.\n"
     ]
    },
    {
     "data": {
      "text/plain": [
       "\u001b[32mimport \u001b[39m\u001b[36morg.bytedeco.pytorch\r\n",
       "\u001b[39m\r\n",
       "\u001b[32mimport \u001b[39m\u001b[36mtorch.utils.data.NormalTensorDataset\r\n",
       "\u001b[39m\r\n",
       "\u001b[32mimport \u001b[39m\u001b[36mjava.nio.file.Path\r\n",
       "\u001b[39m\r\n",
       "\u001b[32mimport \u001b[39m\u001b[36mscala.util.Using\r\n",
       "\u001b[39m\r\n",
       "\u001b[32mimport \u001b[39m\u001b[36mjava.net.URL\r\n",
       "\u001b[39m\r\n",
       "\u001b[32mimport \u001b[39m\u001b[36mjava.nio.file.Files\r\n",
       "\u001b[39m\r\n",
       "\u001b[32mimport \u001b[39m\u001b[36mjava.util.zip.GZIPInputStream\r\n",
       "\u001b[39m\r\n",
       "\u001b[32mimport \u001b[39m\u001b[36mscala.util.Try\r\n",
       "\u001b[39m\r\n",
       "\u001b[32mimport \u001b[39m\u001b[36mscala.util.Success\r\n",
       "\u001b[39m\r\n",
       "\u001b[32mimport \u001b[39m\u001b[36mscala.util.Failure\r\n",
       "\u001b[39m\r\n",
       "\u001b[32mimport \u001b[39m\u001b[36mtorch.Tensor.fromNative\r\n",
       "\r\n",
       "\u001b[39m"
      ]
     },
     "execution_count": 6,
     "metadata": {},
     "output_type": "execute_result"
    }
   ],
   "source": [
    "import org.bytedeco.pytorch\n",
    "import torch.utils.data.NormalTensorDataset\n",
    "import java.nio.file.Path\n",
    "import scala.util.Using\n",
    "import java.net.URL\n",
    "import java.nio.file.Files\n",
    "import java.util.zip.GZIPInputStream\n",
    "import scala.util.Try\n",
    "import scala.util.Success\n",
    "import scala.util.Failure\n",
    "import torch.Tensor.fromNative\n"
   ]
  },
  {
   "cell_type": "code",
   "execution_count": 13,
   "id": "1a9ac2fd-1393-43fa-bda1-9fc711994cd2",
   "metadata": {},
   "outputs": [
    {
     "name": "stderr",
     "output_type": "stream",
     "text": [
      "Resolving package/object name conflict in favor of package spire.compat. The object will be inaccessible.\n",
      "-- Warning: cmd13.sc:36:42 -----------------------------------------------------\n",
      "36 |            Try(downloadAndExtractArchive(URL(s\"$mirror$filename\"), finalPath))\n",
      "   |                                          ^^^\n",
      "   |constructor URL in class URL is deprecated: see corresponding Javadoc for more information.\n"
     ]
    },
    {
     "name": "stdout",
     "output_type": "stream",
     "text": [
      "Using device: Device(CPU,-1)\n"
     ]
    },
    {
     "data": {
      "text/plain": [
       "\u001b[32mimport \u001b[39m\u001b[36morg.bytedeco.pytorch\r\n",
       "\u001b[39m\r\n",
       "\u001b[32mimport \u001b[39m\u001b[36mtorch.utils.data.NormalTensorDataset\r\n",
       "\u001b[39m\r\n",
       "\u001b[32mimport \u001b[39m\u001b[36mjava.nio.file.Path\r\n",
       "\u001b[39m\r\n",
       "\u001b[32mimport \u001b[39m\u001b[36mscala.util.Using\r\n",
       "\u001b[39m\r\n",
       "\u001b[32mimport \u001b[39m\u001b[36mjava.net.URL\r\n",
       "\u001b[39m\r\n",
       "\u001b[32mimport \u001b[39m\u001b[36mjava.nio.file.Files\r\n",
       "\u001b[39m\r\n",
       "\u001b[32mimport \u001b[39m\u001b[36mjava.util.zip.GZIPInputStream\r\n",
       "\u001b[39m\r\n",
       "\u001b[32mimport \u001b[39m\u001b[36mscala.util.Try\r\n",
       "\u001b[39m\r\n",
       "\u001b[32mimport \u001b[39m\u001b[36mscala.util.Success\r\n",
       "\u001b[39m\r\n",
       "\u001b[32mimport \u001b[39m\u001b[36mscala.util.Failure\r\n",
       "\u001b[39m\r\n",
       "\u001b[32mimport \u001b[39m\u001b[36mtorch.Tensor.fromNative\r\n",
       "\u001b[39m\r\n",
       "\u001b[32mimport \u001b[39m\u001b[36mtorch.Int64\r\n",
       "\u001b[39m\r\n",
       "defined \u001b[32mtrait\u001b[39m \u001b[36mMNISTBase\u001b[39m\r\n",
       "defined \u001b[32mclass\u001b[39m \u001b[36mFashionMNIST\u001b[39m\r\n",
       "\u001b[36mdevice\u001b[39m: \u001b[32mDevice\u001b[39m = \u001b[33mDevice\u001b[39m(device = CPU, index = \u001b[32m-1\u001b[39m)\r\n",
       "\u001b[36mmodelPahth\u001b[39m: \u001b[32mString\u001b[39m = \u001b[32m\"D:\\\\data\\\\git\\\\storch-tutorial\\\\lstm-nets.pt\"\u001b[39m"
      ]
     },
     "execution_count": 13,
     "metadata": {},
     "output_type": "execute_result"
    }
   ],
   "source": [
    "import org.bytedeco.pytorch\n",
    "import torch.utils.data.NormalTensorDataset\n",
    "import java.nio.file.Path\n",
    "import scala.util.Using\n",
    "import java.net.URL\n",
    "import java.nio.file.Files\n",
    "import java.util.zip.GZIPInputStream\n",
    "import scala.util.Try\n",
    "import scala.util.Success\n",
    "import scala.util.Failure\n",
    "import torch.Tensor.fromNative\n",
    "import torch.Int64\n",
    "trait MNISTBase(\n",
    "    val mirrors: Seq[String],\n",
    "    val resources: Seq[(String, String)],\n",
    "    val classes: Seq[String],\n",
    "    val root: Path,\n",
    "    val train: Boolean,\n",
    "    val download: Boolean\n",
    ") extends NormalTensorDataset[Float32, Int64] {\n",
    "\n",
    "  private def downloadAndExtractArchive(url: URL, target: Path): Unit =\n",
    "    println(s\"downloading from $url\")\n",
    "    Using.resource(url.openStream()) { inputStream =>\n",
    "      val _ = Files.copy(GZIPInputStream(inputStream), target)\n",
    "    }\n",
    "\n",
    "  if download then {\n",
    "    Files.createDirectories(root)\n",
    "    for (filename, md5) <- resources do\n",
    "      val finalPath = root.resolve(filename.stripSuffix(\".gz\"))\n",
    "      if !Files.exists(finalPath) then\n",
    "        println(s\"$finalPath not found\")\n",
    "        val _ = mirrors.iterator\n",
    "          .map { mirror =>\n",
    "            Try(downloadAndExtractArchive(URL(s\"$mirror$filename\"), finalPath))\n",
    "          }\n",
    "          .tapEach {\n",
    "            case Failure(exception) => println(exception)\n",
    "            case Success(_)         =>\n",
    "          }\n",
    "          .collectFirst { case Success(_) => }\n",
    "  }\n",
    "\n",
    "  private val mode =\n",
    "    if train then pytorch.MNIST.Mode.kTrain.intern().value\n",
    "    else pytorch.MNIST.Mode.kTest.intern().value\n",
    "\n",
    "  private val native = pytorch.MNIST(root.toString(), mode)\n",
    "\n",
    "  private val ds =\n",
    "    NormalTensorDataset(\n",
    "      fromNative[Float32](native.images().clone()),\n",
    "      fromNative[Int64](native.targets().clone())\n",
    "    )\n",
    "  export ds.{apply, length, features, targets}\n",
    "\n",
    "  override def toString(): String = ds.toString()\n",
    "}\n",
    "\n",
    "class FashionMNIST(root: Path, train: Boolean = true, download: Boolean = false)\n",
    "    extends MNISTBase(\n",
    "      mirrors = List(\n",
    "        \"http://fashion-mnist.s3-website.eu-central-1.amazonaws.com/\"\n",
    "      ),\n",
    "      resources = List(\n",
    "        (\"train-images-idx3-ubyte.gz\", \"8d4fb7e6c68d591d4c3dfef9ec88bf0d\"),\n",
    "        (\"train-labels-idx1-ubyte.gz\", \"25c81989df183df01b3e8a0aad5dffbe\"),\n",
    "        (\"t10k-images-idx3-ubyte.gz\", \"bef4ecab320f06d8554ea6380940ec79\"),\n",
    "        (\"t10k-labels-idx1-ubyte.gz\", \"bb300cfdad3c16e7a12a480ee83cd310\")\n",
    "      ),\n",
    "      classes = Seq(\n",
    "        \"T-shirt/top\",\n",
    "        \"Trouser\",\n",
    "        \"Pullover\",\n",
    "        \"Dress\",\n",
    "        \"Coat\",\n",
    "        \"Sandal\",\n",
    "        \"Shirt\",\n",
    "        \"Sneaker\",\n",
    "        \"Bag\",\n",
    "        \"Ankle boot\"\n",
    "      ),\n",
    "      root,\n",
    "      train,\n",
    "      download\n",
    "    )\n",
    "\n",
    "val device = if torch.cuda.isAvailable then CUDA else CPU\n",
    "println(s\"Using device: $device\")\n",
    "//  val model  = GruNet().to(device)\n",
    "  //  val model = LstmNet().to(device)\n",
    "//  val model = RnnNet().to(device)\n",
    "val modelPahth =\"D:\\\\data\\\\git\\\\storch-tutorial\\\\lstm-nets.pt\""
   ]
  },
  {
   "cell_type": "code",
   "execution_count": 17,
   "id": "2cd9c83e-720e-4b9e-a122-28db7172a4fd",
   "metadata": {},
   "outputs": [
    {
     "data": {
      "text/plain": [
       "defined \u001b[32mclass\u001b[39m \u001b[36mFashionMNIST\u001b[39m"
      ]
     },
     "execution_count": 17,
     "metadata": {},
     "output_type": "execute_result"
    }
   ],
   "source": []
  },
  {
   "cell_type": "code",
   "execution_count": 18,
   "id": "1caf38ce-b74a-4d71-9209-803fdadf1a7b",
   "metadata": {},
   "outputs": [
    {
     "name": "stdout",
     "output_type": "stream",
     "text": [
      "Using device: Device(CPU,-1)\n"
     ]
    },
    {
     "data": {
      "text/plain": [
       "\u001b[36mdevice\u001b[39m: \u001b[32mDevice\u001b[39m = \u001b[33mDevice\u001b[39m(device = CPU, index = \u001b[32m-1\u001b[39m)\r\n",
       "\u001b[36mmodelPahth\u001b[39m: \u001b[32mString\u001b[39m = \u001b[32m\"D:\\\\data\\\\git\\\\storch-tutorial\\\\lstm-nets.pt\"\u001b[39m"
      ]
     },
     "execution_count": 18,
     "metadata": {},
     "output_type": "execute_result"
    }
   ],
   "source": [
    "\n"
   ]
  },
  {
   "cell_type": "code",
   "execution_count": 5,
   "id": "03061ece-3bab-4353-b28d-ac14d5a3e2a6",
   "metadata": {},
   "outputs": [
    {
     "data": {
      "text/plain": [
       "\u001b[36mmodel\u001b[39m: \u001b[32mLstmNet\u001b[39m[\u001b[32mFloat32\u001b[39m] = LstmNet"
      ]
     },
     "execution_count": 5,
     "metadata": {},
     "output_type": "execute_result"
    }
   ],
   "source": []
  },
  {
   "cell_type": "code",
   "execution_count": 14,
   "id": "828aa4f7-d988-431c-a736-e772880ad860",
   "metadata": {},
   "outputs": [
    {
     "data": {
      "text/plain": [
       "\u001b[36mdataPath\u001b[39m: \u001b[32mPath\u001b[39m = D:\\data\\FashionMNIST\r\n",
       "\u001b[36mmnistTrain\u001b[39m: \u001b[32mFashionMNIST\u001b[39m = \u001b[33mIndexedSeq\u001b[39m(\r\n",
       "  (\r\n",
       "    tensor dtype=float32, shape=[1, 28, 28], device=CPU \r\n",
       "[[[0.0000, 0.0000, 0.0000, ..., 0.0000, 0.0000, 0.0000],\r\n",
       "  [0.0000, 0.0000, 0.0000, ..., 0.0000, 0.0000, 0.0000],\r\n",
       "  [0.0000, 0.0000, 0.0000, ..., 0.0000, 0.0000, 0.0000],\r\n",
       "  ...,\r\n",
       "  [0.0000, 0.0000, 0.0000, ..., 0.0000, 0.0000, 0.0000],\r\n",
       "  [0.0000, 0.0000, 0.0000, ..., 0.0000, 0.0000, 0.0000],\r\n",
       "  [0.0000, 0.0000, 0.0000, ..., 0.0000, 0.0000, 0.0000]]],\r\n",
       "    tensor dtype=int64, shape=[], device=CPU \r\n",
       "9\r\n",
       "  ),\r\n",
       "  (\r\n",
       "    tensor dtype=float32, shape=[1, 28, 28], device=CPU \r\n",
       "[[[0.0000, 0.0000, 0.0000, ..., 0.0000, 0.0000, 0.0000],\r\n",
       "  [0.0000, 0.0000, 0.0000, ..., 0.0000, 0.0000, 0.0000],\r\n",
       "  [0.0000, 0.0000, 0.0000, ..., 0.0000, 0.0000, 0.0000],\r\n",
       "  ...,\r\n",
       "  [0.0000, 0.0000, 0.0000, ..., 0.0000, 0.0000, 0.0000],\r\n",
       "  [0.0000, 0.0000, 0.0000, ..., 0.0000, 0.0000, 0.0000],\r\n",
       "  [0.0000, 0.0000, 0.0000, ..., 0.0000, 0.0000, 0.0000]]],\r\n",
       "    tensor dtype=int64, shape=[], device=CPU \r\n",
       "0\r\n",
       "  ),\r\n",
       "  (\r\n",
       "    tensor dtype=float32, shape=[1, 28, 28], device=CPU \r\n",
       "[[[0.0000, 0.0000, 0.0000, ..., 0.0000, 0.0000, 0.0000],\r\n",
       "  [0.0000, 0.0000, 0.0000, ..., 0.0000, 0.0000, 0.0000],\r\n",
       "  [0.0000, 0.0000, 0.0000, ..., 0.0000, 0.0000, 0.0000],\r\n",
       "  ...,\r\n",
       "  [0.0000, 0.0000, 0.0000, ..., 0.0000, 0.0000, 0.0000],\r\n",
       "  [0.0000, 0.0000, 0.0000, ..., 0.0000, 0.0000, 0.0000],\r\n",
       "  [0.0000, 0.0000, 0.0000, ..., 0.0000, 0.0000, 0.0000]]],\r\n",
       "    tensor dtype=int64, shape=[], device=CPU \r\n",
       "0\r\n",
       "  ),\r\n",
       "  (\r\n",
       "    tensor dtype=float32, shape=[1, 28, 28], device=CPU \r\n",
       "...\r\n",
       "\u001b[36mmnistEval\u001b[39m: \u001b[32mFashionMNIST\u001b[39m = \u001b[33mIndexedSeq\u001b[39m(\r\n",
       "  (\r\n",
       "    tensor dtype=float32, shape=[1, 28, 28], device=CPU \r\n",
       "[[[0.0000, 0.0000, 0.0000, ..., 0.0000, 0.0000, 0.0000],\r\n",
       "  [0.0000, 0.0000, 0.0000, ..., 0.0000, 0.0000, 0.0000],\r\n",
       "  [0.0000, 0.0000, 0.0000, ..., 0.0000, 0.0000, 0.0000],\r\n",
       "  ...,\r\n",
       "  [0.0000, 0.0000, 0.0000, ..., 0.0000, 0.0000, 0.0000],\r\n",
       "  [0.0000, 0.0000, 0.0000, ..., 0.0000, 0.0000, 0.0000],\r\n",
       "  [0.0000, 0.0000, 0.0000, ..., 0.0000, 0.0000, 0.0000]]],\r\n",
       "    tensor dtype=int64, shape=[], device=CPU \r\n",
       "9\r\n",
       "  ),\r\n",
       "  (\r\n",
       "    tensor dtype=float32, shape=[1, 28, 28], device=CPU \r\n",
       "[[[0.0000, 0.0000, 0.0000, ..., 0.0000, 0.0000, 0.0000],\r\n",
       "  [0.0000, 0.0000, 0.0000, ..., 0.0000, 0.0000, 0.0000],\r\n",
       "  [0.0000, 0.0000, 0.0000, ..., 0.0000, 0.0000, 0.0000],\r\n",
       "  ...,\r\n",
       "  [0.0000, 0.0000, 0.0000, ..., 0.0000, 0.0000, 0.0000],\r\n",
       "  [0.0000, 0.0000, 0.0000, ..., 0.0000, 0.0000, 0.0000],\r\n",
       "  [0.0000, 0.0000, 0.0000, ..., 0.0000, 0.0000, 0.0000]]],\r\n",
       "    tensor dtype=int64, shape=[], device=CPU \r\n",
       "2\r\n",
       "  ),\r\n",
       "  (\r\n",
       "    tensor dtype=float32, shape=[1, 28, 28], device=CPU \r\n",
       "[[[0.0000, 0.0000, 0.0000, ..., 0.0000, 0.0000, 0.0000],\r\n",
       "  [0.0000, 0.0000, 0.0000, ..., 0.0000, 0.0000, 0.0000],\r\n",
       "  [0.0000, 0.0000, 0.0000, ..., 0.0000, 0.0000, 0.0000],\r\n",
       "  ...,\r\n",
       "  [0.0000, 0.0000, 0.0000, ..., 0.0000, 0.0000, 0.0000],\r\n",
       "  [0.0000, 0.0000, 0.0000, ..., 0.0000, 0.0000, 0.0000],\r\n",
       "  [0.0000, 0.0000, 0.0000, ..., 0.0000, 0.0000, 0.0000]]],\r\n",
       "    tensor dtype=int64, shape=[], device=CPU \r\n",
       "1\r\n",
       "  ),\r\n",
       "  (\r\n",
       "    tensor dtype=float32, shape=[1, 28, 28], device=CPU \r\n",
       "...\r\n",
       "\u001b[36mevalFeatures\u001b[39m: \u001b[32mTensor\u001b[39m[\u001b[32mFloat32\u001b[39m] = tensor dtype=float32, shape=[10000, 1, 28, 28], device=CPU \r\n",
       "[[[[0.0000, 0.0000, 0.0000, ..., 0.0000, 0.0000, 0.0000],\r\n",
       "   [0.0000, 0.0000, 0.0000, ..., 0.0000, 0.0000, 0.0000],\r\n",
       "   [0.0000, 0.0000, 0.0000, ..., 0.0000, 0.0000, 0.0000],\r\n",
       "   ...,\r\n",
       "   [0.0000, 0.0000, 0.0000, ..., 0.0000, 0.0000, 0.0000],\r\n",
       "   [0.0000, 0.0000, 0.0000, ..., 0.0000, 0.0000, 0.0000],\r\n",
       "   [0.0000, 0.0000, 0.0000, ..., 0.0000, 0.0000, 0.0000]]],\r\n",
       "\r\n",
       " [[[0.0000, 0.0000, 0.0000, ..., 0.0000, 0.0000, 0.0000],\r\n",
       "   [0.0000, 0.0000, 0.0000, ..., 0.0000, 0.0000, 0.0000],\r\n",
       "   [0.0000, 0.0000, 0.0000, ..., 0.0000, 0.0000, 0.0000],\r\n",
       "   ...,\r\n",
       "   [0.0000, 0.0000, 0.0000, ..., 0.0000, 0.0000, 0.0000],\r\n",
       "   [0.0000, 0.0000, 0.0000, ..., 0.0000, 0.0000, 0.0000],\r\n",
       "   [0.0000, 0.0000, 0.0000, ..., 0.0000, 0.0000, 0.0000]]],\r\n",
       "\r\n",
       " [[[0.0000, 0.0000, 0.0000, ..., 0.0000, 0.0000, 0.0000],\r\n",
       "   [0.0000, 0.0000, 0.0000, ..., 0.0000, 0.0000, 0.0000],\r\n",
       "   [0.0000, 0.0000, 0.0000, ..., 0.0000, 0.0000, 0.0000],\r\n",
       "   ...,\r\n",
       "   [0.0000, 0.0000, 0.0000, ..., 0.0000, 0.0000, 0.0000],\r\n",
       "   [0.0000, 0.0000, 0.0000, ..., 0.0000, 0.0000, 0.0000],\r\n",
       "   [0.0000, 0.0000, 0.0000, ..., 0.0000, 0.0000, 0.0000]]],\r\n",
       "\r\n",
       " ...,\r\n",
       "\r\n",
       " [[[0.0000, 0.0000, 0.0000, ..., 0.0000, 0.0000, 0.0000],\r\n",
       "   [0.0000, 0.0000, 0.0000, ..., 0.0000, 0.0000, 0.0000],\r\n",
       "   [0.0000, 0.0000, 0.0000, ..., 0.0000, 0.0000, 0.0000],\r\n",
       "   ...,\r\n",
       "   [0.0000, 0.0000, 0.0000, ..., 0.0000, 0.0000, 0.0000],\r\n",
       "   [0.0000, 0.0000, 0.0000, ..., 0.0000, 0.0000, 0.0000],\r\n",
       "   [0.0000, 0.0000, 0.0000, ..., 0.0000, 0.0000, 0.0000]]],\r\n",
       "\r\n",
       " [[[0.0000, 0.0000, 0.0000, ..., 0.0000, 0.0000, 0.0000],\r\n",
       "   [0.0000, 0.0000, 0.0000, ..., 0.0000, 0.0000, 0.0000],\r\n",
       "   [0.0000, 0.0000, 0.0000, ..., 0.0000, 0.0000, 0.0000],\r\n",
       "   ...,\r\n",
       "...\r\n",
       "\u001b[36mevalTargets\u001b[39m: \u001b[32mTensor\u001b[39m[\u001b[32mInt64\u001b[39m] = tensor dtype=int64, shape=[10000], device=CPU \r\n",
       "[9, 2, 1, ..., 8, 1, 5]"
      ]
     },
     "execution_count": 14,
     "metadata": {},
     "output_type": "execute_result"
    }
   ],
   "source": [
    "val dataPath = Paths.get(\"D:\\\\data\\\\FashionMNIST\")\n",
    "val mnistTrain = FashionMNIST(dataPath, train = true, download = true)\n",
    "val mnistEval = FashionMNIST(dataPath, train = false)\n",
    "\n",
    "val evalFeatures = mnistEval.features.to(device)\n",
    "val evalTargets = mnistEval.targets.to(device)"
   ]
  },
  {
   "cell_type": "code",
   "execution_count": 23,
   "id": "e85f8684-b80f-4937-8458-5af41e78ce41",
   "metadata": {},
   "outputs": [
    {
     "data": {
      "text/plain": [
       "\u001b[36mevalFeatures\u001b[39m: \u001b[32mTensor\u001b[39m[\u001b[32mFloat32\u001b[39m] = tensor dtype=float32, shape=[10000, 1, 28, 28], device=CPU \r\n",
       "[[[[0.0000, 0.0000, 0.0000, ..., 0.0000, 0.0000, 0.0000],\r\n",
       "   [0.0000, 0.0000, 0.0000, ..., 0.0000, 0.0000, 0.0000],\r\n",
       "   [0.0000, 0.0000, 0.0000, ..., 0.0000, 0.0000, 0.0000],\r\n",
       "   ...,\r\n",
       "   [0.0000, 0.0000, 0.0000, ..., 0.0000, 0.0000, 0.0000],\r\n",
       "   [0.0000, 0.0000, 0.0000, ..., 0.0000, 0.0000, 0.0000],\r\n",
       "   [0.0000, 0.0000, 0.0000, ..., 0.0000, 0.0000, 0.0000]]],\r\n",
       "\r\n",
       " [[[0.0000, 0.0000, 0.0000, ..., 0.0000, 0.0000, 0.0000],\r\n",
       "   [0.0000, 0.0000, 0.0000, ..., 0.0000, 0.0000, 0.0000],\r\n",
       "   [0.0000, 0.0000, 0.0000, ..., 0.0000, 0.0000, 0.0000],\r\n",
       "   ...,\r\n",
       "   [0.0000, 0.0000, 0.0000, ..., 0.0000, 0.0000, 0.0000],\r\n",
       "   [0.0000, 0.0000, 0.0000, ..., 0.0000, 0.0000, 0.0000],\r\n",
       "   [0.0000, 0.0000, 0.0000, ..., 0.0000, 0.0000, 0.0000]]],\r\n",
       "\r\n",
       " [[[0.0000, 0.0000, 0.0000, ..., 0.0000, 0.0000, 0.0000],\r\n",
       "   [0.0000, 0.0000, 0.0000, ..., 0.0000, 0.0000, 0.0000],\r\n",
       "   [0.0000, 0.0000, 0.0000, ..., 0.0000, 0.0000, 0.0000],\r\n",
       "   ...,\r\n",
       "   [0.0000, 0.0000, 0.0000, ..., 0.0000, 0.0000, 0.0000],\r\n",
       "   [0.0000, 0.0000, 0.0000, ..., 0.0000, 0.0000, 0.0000],\r\n",
       "   [0.0000, 0.0000, 0.0000, ..., 0.0000, 0.0000, 0.0000]]],\r\n",
       "\r\n",
       " ...,\r\n",
       "\r\n",
       " [[[0.0000, 0.0000, 0.0000, ..., 0.0000, 0.0000, 0.0000],\r\n",
       "   [0.0000, 0.0000, 0.0000, ..., 0.0000, 0.0000, 0.0000],\r\n",
       "   [0.0000, 0.0000, 0.0000, ..., 0.0000, 0.0000, 0.0000],\r\n",
       "   ...,\r\n",
       "   [0.0000, 0.0000, 0.0000, ..., 0.0000, 0.0000, 0.0000],\r\n",
       "   [0.0000, 0.0000, 0.0000, ..., 0.0000, 0.0000, 0.0000],\r\n",
       "   [0.0000, 0.0000, 0.0000, ..., 0.0000, 0.0000, 0.0000]]],\r\n",
       "\r\n",
       " [[[0.0000, 0.0000, 0.0000, ..., 0.0000, 0.0000, 0.0000],\r\n",
       "   [0.0000, 0.0000, 0.0000, ..., 0.0000, 0.0000, 0.0000],\r\n",
       "   [0.0000, 0.0000, 0.0000, ..., 0.0000, 0.0000, 0.0000],\r\n",
       "   ...,\r\n",
       "..."
      ]
     },
     "execution_count": 23,
     "metadata": {},
     "output_type": "execute_result"
    }
   ],
   "source": [
    "val evalFeatures = mnistEval.features.to(device)"
   ]
  },
  {
   "cell_type": "code",
   "execution_count": 15,
   "id": "824dfab1-ce6f-4e50-ba1c-ec57a2324136",
   "metadata": {},
   "outputs": [
    {
     "data": {
      "text/plain": [
       "\u001b[36mevalFeatures\u001b[39m: \u001b[32mTensor\u001b[39m[\u001b[32mFloat32\u001b[39m] = tensor dtype=float32, shape=[10000, 1, 28, 28], device=CPU \r\n",
       "[[[[0.0000, 0.0000, 0.0000, ..., 0.0000, 0.0000, 0.0000],\r\n",
       "   [0.0000, 0.0000, 0.0000, ..., 0.0000, 0.0000, 0.0000],\r\n",
       "   [0.0000, 0.0000, 0.0000, ..., 0.0000, 0.0000, 0.0000],\r\n",
       "   ...,\r\n",
       "   [0.0000, 0.0000, 0.0000, ..., 0.0000, 0.0000, 0.0000],\r\n",
       "   [0.0000, 0.0000, 0.0000, ..., 0.0000, 0.0000, 0.0000],\r\n",
       "   [0.0000, 0.0000, 0.0000, ..., 0.0000, 0.0000, 0.0000]]],\r\n",
       "\r\n",
       " [[[0.0000, 0.0000, 0.0000, ..., 0.0000, 0.0000, 0.0000],\r\n",
       "   [0.0000, 0.0000, 0.0000, ..., 0.0000, 0.0000, 0.0000],\r\n",
       "   [0.0000, 0.0000, 0.0000, ..., 0.0000, 0.0000, 0.0000],\r\n",
       "   ...,\r\n",
       "   [0.0000, 0.0000, 0.0000, ..., 0.0000, 0.0000, 0.0000],\r\n",
       "   [0.0000, 0.0000, 0.0000, ..., 0.0000, 0.0000, 0.0000],\r\n",
       "   [0.0000, 0.0000, 0.0000, ..., 0.0000, 0.0000, 0.0000]]],\r\n",
       "\r\n",
       " [[[0.0000, 0.0000, 0.0000, ..., 0.0000, 0.0000, 0.0000],\r\n",
       "   [0.0000, 0.0000, 0.0000, ..., 0.0000, 0.0000, 0.0000],\r\n",
       "   [0.0000, 0.0000, 0.0000, ..., 0.0000, 0.0000, 0.0000],\r\n",
       "   ...,\r\n",
       "   [0.0000, 0.0000, 0.0000, ..., 0.0000, 0.0000, 0.0000],\r\n",
       "   [0.0000, 0.0000, 0.0000, ..., 0.0000, 0.0000, 0.0000],\r\n",
       "   [0.0000, 0.0000, 0.0000, ..., 0.0000, 0.0000, 0.0000]]],\r\n",
       "\r\n",
       " ...,\r\n",
       "\r\n",
       " [[[0.0000, 0.0000, 0.0000, ..., 0.0000, 0.0000, 0.0000],\r\n",
       "   [0.0000, 0.0000, 0.0000, ..., 0.0000, 0.0000, 0.0000],\r\n",
       "   [0.0000, 0.0000, 0.0000, ..., 0.0000, 0.0000, 0.0000],\r\n",
       "   ...,\r\n",
       "   [0.0000, 0.0000, 0.0000, ..., 0.0000, 0.0000, 0.0000],\r\n",
       "   [0.0000, 0.0000, 0.0000, ..., 0.0000, 0.0000, 0.0000],\r\n",
       "   [0.0000, 0.0000, 0.0000, ..., 0.0000, 0.0000, 0.0000]]],\r\n",
       "\r\n",
       " [[[0.0000, 0.0000, 0.0000, ..., 0.0000, 0.0000, 0.0000],\r\n",
       "   [0.0000, 0.0000, 0.0000, ..., 0.0000, 0.0000, 0.0000],\r\n",
       "   [0.0000, 0.0000, 0.0000, ..., 0.0000, 0.0000, 0.0000],\r\n",
       "   ...,\r\n",
       "...\r\n",
       "\u001b[36mevalTargets\u001b[39m: \u001b[32mTensor\u001b[39m[\u001b[32mInt64\u001b[39m] = tensor dtype=int64, shape=[10000], device=CPU \r\n",
       "[9, 2, 1, ..., 8, 1, 5]\r\n",
       "\u001b[36mr\u001b[39m: \u001b[32mRandom\u001b[39m = scala.util.Random@e56b638\r\n",
       "\u001b[36mexampleSeq\u001b[39m: \u001b[32mIndexedSeq\u001b[39m[\u001b[32mExample\u001b[39m] = \u001b[33mVector\u001b[39m(\r\n",
       "  org.bytedeco.pytorch.Example[address=0x1e5ff7cb130,position=0,limit=1,capacity=1,deallocator=org.bytedeco.javacpp.Pointer$NativeDeallocator[ownerAddress=0x1e5ff7cb130,deallocatorAddress=0x7ffd1f83f430]],\r\n",
       "  org.bytedeco.pytorch.Example[address=0x1e5ff7cb6d0,position=0,limit=1,capacity=1,deallocator=org.bytedeco.javacpp.Pointer$NativeDeallocator[ownerAddress=0x1e5ff7cb6d0,deallocatorAddress=0x7ffd1f83f430]],\r\n",
       "  org.bytedeco.pytorch.Example[address=0x1e5ff7cb190,position=0,limit=1,capacity=1,deallocator=org.bytedeco.javacpp.Pointer$NativeDeallocator[ownerAddress=0x1e5ff7cb190,deallocatorAddress=0x7ffd1f83f430]],\r\n",
       "  org.bytedeco.pytorch.Example[address=0x1e5ff7cb150,position=0,limit=1,capacity=1,deallocator=org.bytedeco.javacpp.Pointer$NativeDeallocator[ownerAddress=0x1e5ff7cb150,deallocatorAddress=0x7ffd1f83f430]],\r\n",
       "  org.bytedeco.pytorch.Example[address=0x1e5ff7cb4b0,position=0,limit=1,capacity=1,deallocator=org.bytedeco.javacpp.Pointer$NativeDeallocator[ownerAddress=0x1e5ff7cb4b0,deallocatorAddress=0x7ffd1f83f430]],\r\n",
       "  org.bytedeco.pytorch.Example[address=0x1e5ff7cafb0,position=0,limit=1,capacity=1,deallocator=org.bytedeco.javacpp.Pointer$NativeDeallocator[ownerAddress=0x1e5ff7cafb0,deallocatorAddress=0x7ffd1f83f430]],\r\n",
       "  org.bytedeco.pytorch.Example[address=0x1e5ff7cb630,position=0,limit=1,capacity=1,deallocator=org.bytedeco.javacpp.Pointer$NativeDeallocator[ownerAddress=0x1e5ff7cb630,deallocatorAddress=0x7ffd1f83f430]],\r\n",
       "  org.bytedeco.pytorch.Example[address=0x1e5ff7cb0d0,position=0,limit=1,capacity=1,deallocator=org.bytedeco.javacpp.Pointer$NativeDeallocator[ownerAddress=0x1e5ff7cb0d0,deallocatorAddress=0x7ffd1f83f430]],\r\n",
       "  org.bytedeco.pytorch.Example[address=0x1e5ff7cb070,position=0,limit=1,capacity=1,deallocator=org.bytedeco.javacpp.Pointer$NativeDeallocator[ownerAddress=0x1e5ff7cb070,deallocatorAddress=0x7ffd1f83f430]],\r\n",
       "  org.bytedeco.pytorch.Example[address=0x1e5ff7cb1b0,position=0,limit=1,capacity=1,deallocator=org.bytedeco.javacpp.Pointer$NativeDeallocator[ownerAddress=0x1e5ff7cb1b0,deallocatorAddress=0x7ffd1f83f430]],\r\n",
       "  org.bytedeco.pytorch.Example[address=0x1e5ff7cb250,position=0,limit=1,capacity=1,deallocator=org.bytedeco.javacpp.Pointer$NativeDeallocator[ownerAddress=0x1e5ff7cb250,deallocatorAddress=0x7ffd1f83f430]],\r\n",
       "  org.bytedeco.pytorch.Example[address=0x1e5ff7cb650,position=0,limit=1,capacity=1,deallocator=org.bytedeco.javacpp.Pointer$NativeDeallocator[ownerAddress=0x1e5ff7cb650,deallocatorAddress=0x7ffd1f83f430]],\r\n",
       "  org.bytedeco.pytorch.Example[address=0x1e5ff7cb8b0,position=0,limit=1,capacity=1,deallocator=org.bytedeco.javacpp.Pointer$NativeDeallocator[ownerAddress=0x1e5..."
      ]
     },
     "execution_count": 15,
     "metadata": {},
     "output_type": "execute_result"
    }
   ],
   "source": [
    "val evalFeatures = mnistEval.features.to(device)\n",
    "val evalTargets = mnistEval.targets.to(device)\n",
    "val r = Random(seed = 0)\n",
    "val exampleSeq = mnistTrain.map(x => new Example(x._1.native, x._2.native))\n"
   ]
  },
  {
   "cell_type": "code",
   "execution_count": 13,
   "id": "169794c4-12a5-4907-a246-72e380ea8e1c",
   "metadata": {},
   "outputs": [
    {
     "data": {
      "text/plain": [
       "\u001b[36mlossFn\u001b[39m: \u001b[32mCrossEntropyLoss\u001b[39m = torch.nn.loss.CrossEntropyLoss"
      ]
     },
     "execution_count": 13,
     "metadata": {},
     "output_type": "execute_result"
    }
   ],
   "source": [
    "val lossFn = torch.nn.loss.CrossEntropyLoss()\n",
    "  // enable AMSGrad to avoid convergence issues\n"
   ]
  },
  {
   "cell_type": "code",
   "execution_count": 16,
   "id": "dde7de16-3ec0-4806-9d7d-09798248190e",
   "metadata": {},
   "outputs": [
    {
     "data": {
      "text/plain": [
       "\u001b[32mimport \u001b[39m\u001b[36morg.bytedeco.pytorch.{ChunkDatasetOptions, Example, ExampleIterator, ExampleStack, ExampleVector, RandomSampler}\r\n",
       "\u001b[39m\r\n",
       "\u001b[36mlossFn\u001b[39m: \u001b[32mCrossEntropyLoss\u001b[39m = torch.nn.loss.CrossEntropyLoss\r\n",
       "\u001b[36mmodel\u001b[39m: \u001b[32mRnnNet\u001b[39m[\u001b[32mFloat32\u001b[39m] = RnnNet\r\n",
       "\u001b[36moptimizer\u001b[39m: \u001b[32mAdam\u001b[39m = torch.optim.Adam[address=0x0,position=0,limit=0,capacity=0,deallocator=null]\r\n",
       "\u001b[36moptimizerCopy\u001b[39m: \u001b[32mAdam\u001b[39m = torch.optim.Adam[address=0x0,position=0,limit=0,capacity=0,deallocator=null]"
      ]
     },
     "execution_count": 16,
     "metadata": {},
     "output_type": "execute_result"
    }
   ],
   "source": [
    "\n",
    "import org.bytedeco.pytorch.{ChunkDatasetOptions, Example, ExampleIterator, ExampleStack, ExampleVector, RandomSampler}\n",
    "val lossFn = torch.nn.loss.CrossEntropyLoss()\n",
    "val model = new  RnnNet[Float32]().to(device)\n",
    "val optimizer = Adam(model.parameters, lr = 1e-3, amsgrad = true)\n",
    "val optimizerCopy = Adam(model.parameters, lr = 1e-3, amsgrad = true)"
   ]
  },
  {
   "cell_type": "code",
   "execution_count": 15,
   "id": "fec2bb44-f94e-4d44-8813-7e581a5501b0",
   "metadata": {},
   "outputs": [
    {
     "data": {
      "text/plain": [
       "\u001b[32mimport \u001b[39m\u001b[36morg.bytedeco.pytorch.{ChunkDatasetOptions, Example, ExampleIterator, ExampleStack, ExampleVector, RandomSampler}\r\n",
       "\u001b[39m"
      ]
     },
     "execution_count": 15,
     "metadata": {},
     "output_type": "execute_result"
    }
   ],
   "source": [
    "val model = new  LstmNet() //.to(device)\n",
    "  "
   ]
  },
  {
   "cell_type": "code",
   "execution_count": 17,
   "id": "37ca275d-2587-42c9-a086-21535ac78767",
   "metadata": {},
   "outputs": [
    {
     "data": {
      "text/plain": [
       "\u001b[36mexampleSeq\u001b[39m: \u001b[32mIndexedSeq\u001b[39m[\u001b[32mExample\u001b[39m] = \u001b[33mVector\u001b[39m(\r\n",
       "  org.bytedeco.pytorch.Example[address=0x1df36ec7360,position=0,limit=1,capacity=1,deallocator=org.bytedeco.javacpp.Pointer$NativeDeallocator[ownerAddress=0x1df36ec7360,deallocatorAddress=0x7ffd1f83f430]],\r\n",
       "  org.bytedeco.pytorch.Example[address=0x1df36ec7440,position=0,limit=1,capacity=1,deallocator=org.bytedeco.javacpp.Pointer$NativeDeallocator[ownerAddress=0x1df36ec7440,deallocatorAddress=0x7ffd1f83f430]],\r\n",
       "  org.bytedeco.pytorch.Example[address=0x1df36ec75c0,position=0,limit=1,capacity=1,deallocator=org.bytedeco.javacpp.Pointer$NativeDeallocator[ownerAddress=0x1df36ec75c0,deallocatorAddress=0x7ffd1f83f430]],\r\n",
       "  org.bytedeco.pytorch.Example[address=0x1df36ec73e0,position=0,limit=1,capacity=1,deallocator=org.bytedeco.javacpp.Pointer$NativeDeallocator[ownerAddress=0x1df36ec73e0,deallocatorAddress=0x7ffd1f83f430]],\r\n",
       "  org.bytedeco.pytorch.Example[address=0x1df36ec7600,position=0,limit=1,capacity=1,deallocator=org.bytedeco.javacpp.Pointer$NativeDeallocator[ownerAddress=0x1df36ec7600,deallocatorAddress=0x7ffd1f83f430]],\r\n",
       "  org.bytedeco.pytorch.Example[address=0x1df36ec77c0,position=0,limit=1,capacity=1,deallocator=org.bytedeco.javacpp.Pointer$NativeDeallocator[ownerAddress=0x1df36ec77c0,deallocatorAddress=0x7ffd1f83f430]],\r\n",
       "  org.bytedeco.pytorch.Example[address=0x1df36ec7540,position=0,limit=1,capacity=1,deallocator=org.bytedeco.javacpp.Pointer$NativeDeallocator[ownerAddress=0x1df36ec7540,deallocatorAddress=0x7ffd1f83f430]],\r\n",
       "  org.bytedeco.pytorch.Example[address=0x1df36ec7320,position=0,limit=1,capacity=1,deallocator=org.bytedeco.javacpp.Pointer$NativeDeallocator[ownerAddress=0x1df36ec7320,deallocatorAddress=0x7ffd1f83f430]],\r\n",
       "  org.bytedeco.pytorch.Example[address=0x1df36ec73a0,position=0,limit=1,capacity=1,deallocator=org.bytedeco.javacpp.Pointer$NativeDeallocator[ownerAddress=0x1df36ec73a0,deallocatorAddress=0x7ffd1f83f430]],\r\n",
       "  org.bytedeco.pytorch.Example[address=0x1df36ec7800,position=0,limit=1,capacity=1,deallocator=org.bytedeco.javacpp.Pointer$NativeDeallocator[ownerAddress=0x1df36ec7800,deallocatorAddress=0x7ffd1f83f430]],\r\n",
       "  org.bytedeco.pytorch.Example[address=0x1df36ec7220,position=0,limit=1,capacity=1,deallocator=org.bytedeco.javacpp.Pointer$NativeDeallocator[ownerAddress=0x1df36ec7220,deallocatorAddress=0x7ffd1f83f430]],\r\n",
       "  org.bytedeco.pytorch.Example[address=0x1df36ec7b40,position=0,limit=1,capacity=1,deallocator=org.bytedeco.javacpp.Pointer$NativeDeallocator[ownerAddress=0x1df36ec7b40,deallocatorAddress=0x7ffd1f83f430]],\r\n",
       "  org.bytedeco.pytorch.Example[address=0x1df36ec79c0,position=0,limit=1,capacity=1,deallocator=org.bytedeco.javacpp.Pointer$NativeDeallocator[ownerAddress=0x1df...\r\n",
       "\u001b[36mexampleVector\u001b[39m: \u001b[32mExampleVector\u001b[39m = [org.bytedeco.pytorch.Example[address=0x1ce090e2020,position=0,limit=0,capacity=0,deallocator=null], org.bytedeco.pytorch.Example[address=0x1ce090e2030,position=0,limit=0,capacity=0,deallocator=null], org.bytedeco.pytorch.Example[address=0x1ce090e2040,position=0,limit=0,capacity=0,deallocator=null], org.bytedeco.pytorch.Example[address=0x1ce090e2050,position=0,limit=0,capacity=0,deallocator=null], org.bytedeco.pytorch.Example[address=0x1ce090e2060,position=0,limit=0,capacity=0,deallocator=null], org.bytedeco.pytorch.Example[address=0x1ce090e2070,position=0,limit=0,capacity=0,deallocator=null], org.bytedeco.pytorch.Example[address=0x1ce090e2080,position=0,limit=0,capacity=0,deallocator=null], org.bytedeco.pytorch.Example[address=0x1ce090e2090,position=0,limit=0,capacity=0,deallocator=null], org.bytedeco.pytorch.Example[address=0x1ce090e20a0,position=0,limit=0,capacity=0,deallocator=null], org.bytedeco.pytorch.Example[address=0x1ce090e20b0,position=0,limit=0,capacity=0,deallocator=null], org.bytedeco.pytorch.Example[address=0x1ce090e20c0,position=0,limit=0,capacity=0,deallocator=null], org.bytedeco.pytorch.Example[address=0x1ce090e20d0,position=0,limit=0,capacity=0,deallocator=null], org.bytedeco.pytorch.Example[address=0x1ce090e20e0,position=0,limit=0,capacity=0,deallocator=null], org.bytedeco.pytorch.Example[address=0x1ce090e20f0,position=0,limit=0,capacity=0,deallocator=null], org.bytedeco.pytorch.Example[address=0x1ce090e2100,position=0,limit=0,capacity=0,deallocator=null], org.bytedeco.pytorch.Example[address=0x1ce090e2110,position=0,limit=0,capacity=0,deallocator=null], org.bytedeco.pytorch.Example[address=0x1ce090e2120,position=0,limit=0,capacity=0,deallocator=null], org.bytedeco.pytorch.Example[address=0x1ce090e2130,position=0,limit=0,capacity=0,deallocator=null], org.bytedeco.pytorch.Example[address=0x1ce090e2140,position=0,limit=0,capacity=0,deallocator=null], org.bytedeco.pytorch.Example[address=0x1ce090e2150,position=0,limit=0,capacity=0,deallocator=null], org.bytedeco.pytorch.Example[address=0x1ce090e2160,position=0,limit=0,capacity=0,deallocator=null], org.bytedeco.pytorch.Example[address=0x1ce090e2170,position=0,limit=0,capacity=0,deallocator=null], org.bytedeco.pytorch.Example[address=0x1ce090e2180,position=0,limit=0,capacity=0,deallocator=null], org.bytedeco.pytorch.Example[address=0x1ce090e2190,position=0,limit=0,capacity=0,deallocator=null], org.bytedeco.pytorch.Example[address=0x1ce090e21a0,position=0,limit=0,capacity=0,deallocator=null], org.bytedeco.pytorch.Example[address=0x1ce090e21b0,position=0,limit=0,capacity=0,deallocator=null], org.bytedeco.pytorch.Example[address=0x1ce090e21c0,position=0,limit=0,capacity=0,deallocator=null], org.bytedeco.pytorch.Example[address=0x1ce090e21d0,position=0,limit=0,capacity=0,deallocator=null], org.bytedeco.pytorch.Example[address=0x1ce090e21e0,position=0,limit=0,capacity=0,deallocator=null], org.bytedeco.pytorch.Example[address=0x1ce090e21f0,position=0,limit=0,capacity=0,deallocator=null], org.bytedeco.pytorch.Example[address=0x1ce090e2200,position=0,limit=0,capacity=0,deallocator=null], org.bytedeco.pytorc..."
      ]
     },
     "execution_count": 17,
     "metadata": {},
     "output_type": "execute_result"
    }
   ],
   "source": [
    "val exampleSeq = mnistTrain.map(x => new Example(x._1.native, x._2.native))\n",
    "    //  val ex1 = new Example(mnistTrain.features.native ,mnistTrain.targets.native)\n",
    "val exampleVector = new ExampleVector(exampleSeq *)\n"
   ]
  },
  {
   "cell_type": "code",
   "execution_count": 18,
   "id": "dad4e88a-9e2e-4b48-82d3-2af04e2e78ff",
   "metadata": {},
   "outputs": [
    {
     "data": {
      "text/plain": [
       "\u001b[32mimport \u001b[39m\u001b[36mtorch.utils.data.*\r\n",
       "\u001b[39m\r\n",
       "\u001b[32mimport \u001b[39m\u001b[36mtorch.utils.data.DataLoaderOptions\r\n",
       "\u001b[39m\r\n",
       "\u001b[32mimport \u001b[39m\u001b[36mtorch.utils.data.dataloader.*\r\n",
       "\u001b[39m\r\n",
       "\u001b[32mimport \u001b[39m\u001b[36mtorch.utils.data.datareader.ChunkDataReader\r\n",
       "\u001b[39m\r\n",
       "\u001b[32mimport \u001b[39m\u001b[36mtorch.utils.data.dataset.*\r\n",
       "\u001b[39m\r\n",
       "\u001b[36mbatch_size\u001b[39m: \u001b[32mInt\u001b[39m = \u001b[32m32\u001b[39m\r\n",
       "\u001b[36mprefetch_count\u001b[39m: \u001b[32mInt\u001b[39m = \u001b[32m1\u001b[39m\r\n",
       "\u001b[36mreader\u001b[39m: \u001b[32mChunkDataReader\u001b[39m = torch.utils.data.datareader.ChunkDataReader[address=0x1c5eff99ad0,position=0,limit=1,capacity=1,deallocator=org.bytedeco.javacpp.Pointer$NativeDeallocator[ownerAddress=0x1c5eff99ad0,deallocatorAddress=0x7ffd1f8403a0]]\r\n",
       "\u001b[36mds\u001b[39m: \u001b[32mChunkMapDataset\u001b[39m = org.bytedeco.pytorch.ChunkMapDataset[address=0x1c5f27c3d10,position=0,limit=1,capacity=1,deallocator=org.bytedeco.javacpp.Pointer$NativeDeallocator[ownerAddress=0x1c5f27c3d10,deallocatorAddress=0x7ffd1f83f390]]"
      ]
     },
     "execution_count": 18,
     "metadata": {},
     "output_type": "execute_result"
    }
   ],
   "source": [
    "import torch.utils.data.*\n",
    "import torch.utils.data.DataLoaderOptions\n",
    "import torch.utils.data.dataloader.*\n",
    "import torch.utils.data.datareader.ChunkDataReader\n",
    "import torch.utils.data.dataset.*\n",
    "val batch_size = 32\n",
    "val prefetch_count = 1\n",
    "val reader = new ChunkDataReader()\n",
    "val ds = new ChunkSharedBatchDataset(\n",
    "    new ChunkDataset(\n",
    "      reader,\n",
    "      new RandomSampler(exampleSeq.size),\n",
    "      new RandomSampler(exampleSeq.size),\n",
    "      new ChunkDatasetOptions(prefetch_count, batch_size)\n",
    "    )\n",
    "  ).map(new ExampleStack)"
   ]
  },
  {
   "cell_type": "code",
   "execution_count": 20,
   "id": "dcfd2198-3c96-45cd-9fae-be2e8eff7c1b",
   "metadata": {},
   "outputs": [
    {
     "name": "stderr",
     "output_type": "stream",
     "text": [
      "-- [E006] Not Found Error: cmd21.sc:1:14 ---------------------------------------\n",
      "1 |val res21_0 = reader(exampleVector)\n",
      "  |              ^^^^^^\n",
      "  |              Not found: reader - did you mean Helper? or perhaps Predef?\n",
      "  |\n",
      "  | longer explanation available when compiling with `-explain`\n",
      "-- [E006] Not Found Error: cmd21.sc:1:21 ---------------------------------------\n",
      "1 |val res21_0 = reader(exampleVector)\n",
      "  |                     ^^^^^^^^^^^^^\n",
      "  |                     Not found: exampleVector\n",
      "  |\n",
      "  | longer explanation available when compiling with `-explain`\n",
      "-- [E006] Not Found Error: cmd21.sc:4:13 ---------------------------------------\n",
      "4 |val ds = new ChunkSharedBatchDataset(\n",
      "  |             ^^^^^^^^^^^^^^^^^^^^^^^\n",
      "  |             Not found: type ChunkSharedBatchDataset\n",
      "  |\n",
      "  | longer explanation available when compiling with `-explain`\n",
      "Compilation Failed"
     ]
    }
   ],
   "source": [
    "// reader(exampleVector)\n",
    "//   //  val ds = new ChunkSharedBatchDataset(new ChunkDataset(reader, new RandomSampler(exampleSeq.size), new RandomSampler(exampleSeq.size), new ChunkDatasetOptions(prefetch_count, batch_size))).map(new ExampleStack)\n",
    "//   //  val ds  = new ChunkSharedTensorBatchDataset(new ChunkTensorDataset(reader,new RS(exampleTensorSeq.size),new ChunkDatasetOptions(prefetch_count, batch_size))).map(new TensorExampleStack)\n",
    "// val ds = new ChunkSharedBatchDataset(\n",
    "//     new ChunkDataset(\n",
    "//       reader,\n",
    "//       new RandomSampler(exampleSeq.size),\n",
    "//       new RandomSampler(exampleSeq.size),\n",
    "//       new ChunkDatasetOptions(prefetch_count, batch_size)\n",
    "//     )\n",
    "//   ).map(new ExampleStack)\n",
    "//   //  val ds = new TensorDataset(reader)\n",
    "//   //  val ds = new StreamDataset(reader)\n"
   ]
  },
  {
   "cell_type": "code",
   "execution_count": 18,
   "id": "865d86c9-8a9c-4879-9b34-c32823a68397",
   "metadata": {},
   "outputs": [
    {
     "name": "stderr",
     "output_type": "stream",
     "text": [
      "-- [E056] Syntax Error: cmd19.sc:14:50 -----------------------------------------\n",
      "14 |def exampleVectorToExample(exVec: ExampleVector): Example = {\n",
      "   |                                                  ^^^^^^^\n",
      "   |                     Missing type parameter for torch.utils.data.Example\n",
      "-- [E007] Type Mismatch Error: cmd19.sc:15:47 ----------------------------------\n",
      "15 |    val example = new Example(exVec.get(0).data(), exVec.get(0).target())\n",
      "   |                              ^^^^^^^^^^^^^^^^^^^\n",
      "   |     Found:    org.bytedeco.pytorch.Tensor\n",
      "   |     Required: torch.Tensor²[D1]\n",
      "   |\n",
      "   |     where:    D1      is a type variable with constraint <: torch.DType\n",
      "   |               Tensor  is a class in package org.bytedeco.pytorch\n",
      "   |               Tensor² is a class in package torch\n",
      "   |\n",
      "   | longer explanation available when compiling with `-explain`\n",
      "-- [E007] Type Mismatch Error: cmd19.sc:15:70 ----------------------------------\n",
      "15 |    val example = new Example(exVec.get(0).data(), exVec.get(0).target())\n",
      "   |                                                   ^^^^^^^^^^^^^^^^^^^^^\n",
      "   |     Found:    org.bytedeco.pytorch.Tensor\n",
      "   |     Required: torch.Tensor²[D2]\n",
      "   |\n",
      "   |     where:    D2      is a type variable with constraint <: torch.DType\n",
      "   |               Tensor  is a class in package org.bytedeco.pytorch\n",
      "   |               Tensor² is a class in package torch\n",
      "   |\n",
      "   | longer explanation available when compiling with `-explain`\n",
      "Compilation Failed"
     ]
    }
   ],
   "source": [
    "// val opts = new DataLoaderOptions(32)\n",
    "//   //  opts.enforce_ordering.put(true)\n",
    "//   //  opts.drop_last.put(false)\n",
    "// val data_loader = new ChunkRandomDataLoader(ds, opts)\n",
    "\n",
    "// def dataLoader: Iterator[(torch.Tensor[Float32], torch.Tensor[Int64])] =\n",
    "//     r.shuffle(mnistTrain).grouped(8).map { batch =>\n",
    "//       val (features, targets) = batch.unzip\n",
    "//       (torch.stack(features).to(device), torch.stack(targets).to(device))\n",
    "//     }\n",
    "//   //  opts.workers.put(5)\n",
    "// opts.batch_size.put(32)\n",
    "\n",
    "// def exampleVectorToExample(exVec: ExampleVector): Example = {\n",
    "//     val example = new Example(exVec.get(0).data(), exVec.get(0).target())\n",
    "//     example\n",
    "//   }"
   ]
  },
  {
   "cell_type": "code",
   "execution_count": 17,
   "id": "75cab152-a918-40ee-bc43-bf9e3470db82",
   "metadata": {},
   "outputs": [
    {
     "name": "stderr",
     "output_type": "stream",
     "text": [
      "-- [E007] Type Mismatch Error: cmd18.sc:17:48 ----------------------------------\n",
      "17 |val data_loader = new ChunkRandomDataLoader(ds, opts)\n",
      "   |                                                ^^^^\n",
      "   |       Found:    (Helper.this.opts : torch.utils.data.DataLoaderOptions)\n",
      "   |       Required: Int\n",
      "   |\n",
      "   | longer explanation available when compiling with `-explain`\n",
      "Resolving package/object name conflict in favor of package spire.compat. The object will be inaccessible.\n",
      "Compilation Failed"
     ]
    }
   ],
   "source": [
    "reader(exampleVector)\n",
    "  //  val ds = new ChunkSharedBatchDataset(new ChunkDataset(reader, new RandomSampler(exampleSeq.size), new RandomSampler(exampleSeq.size), new ChunkDatasetOptions(prefetch_count, batch_size))).map(new ExampleStack)\n",
    "  //  val ds  = new ChunkSharedTensorBatchDataset(new ChunkTensorDataset(reader,new RS(exampleTensorSeq.size),new ChunkDatasetOptions(prefetch_count, batch_size))).map(new TensorExampleStack)\n",
    "val ds = new ChunkSharedBatchDataset(\n",
    "    new ChunkDataset(\n",
    "      reader,\n",
    "      new RandomSampler(exampleSeq.size),\n",
    "      new RandomSampler(exampleSeq.size),\n",
    "      new ChunkDatasetOptions(prefetch_count, batch_size)\n",
    "    )\n",
    "  ).map(new ExampleStack)\n",
    "// println(s\"ds.size.get {ds.size.get} data_loader option ${data_loader.options.batch_size()}\")\n",
    "val opts = new DataLoaderOptions(32)\n",
    "opts.batch_size.put(32)\n",
    "  //  opts.enforce_ordering.put(true)\n",
    "  //  opts.drop_last.put(false)\n",
    "val data_loader = new ChunkRandomDataLoader(ds, opts)\n",
    "for (epoch <- List(1, 2, 3, 4, 5, 6,7,8,9,10,11,12)) {\n",
    "    //    var it: ExampleVectorIterator = data_loader.begin\n",
    "    //    var it :TensorExampleVectorIterator = data_loader.begin\n",
    "    //    var it :TensorExampleIterator = data_loader.begin\n",
    "    var it: ExampleIterator = data_loader.begin\n",
    "    var batchIndex = 0\n",
    "    println(\"coming in for loop\")\n",
    "    while (!it.equals(data_loader.end)) {\n",
    "      Using.resource(new PointerScope()) { p =>\n",
    "        val batch = it.access\n",
    "        optimizer.zeroGrad()\n",
    "        // println(\"get batch ...\")  \n",
    "        val trainDataTensor = fromNative(batch.data())\n",
    "        val prediction = model(fromNative(batch.data()).reshape(-1, 28, 28))\n",
    "        val loss = lossFn(prediction, fromNative(batch.target()))\n",
    "        // println(\"get loass...\")  \n",
    "        loss.backward()\n",
    "        optimizer.step()\n",
    "        it = it.increment\n",
    "        // println(\"get next batch...\")  \n",
    "        batchIndex += 1\n",
    "        if batchIndex % 200 == 0 then\n",
    "          // run evaluation\n",
    "          val predictions = model(evalFeatures.reshape(-1, 28, 28))\n",
    "          val evalLoss = lossFn(predictions, evalTargets)\n",
    "          val featuresData = new Array[Float](1000)\n",
    "          val fp4 = new FloatPointer(predictions.native.data_ptr_float())\n",
    "          fp4.get(featuresData)\n",
    "          println(s\"\\n ffff size ${featuresData.size} shape ${\n",
    "            evalFeatures.shape\n",
    "              .mkString(\", \")\n",
    "          }a data ${featuresData.mkString(\" \")}\")\n",
    "          println(s\"predictions : ${predictions} \\n\")\n",
    "          println(s\"loss grad_fn: ${evalLoss.grad_fn()}\")\n",
    "          val accuracy =\n",
    "            (predictions.argmax(dim = 1).eq(evalTargets).sum / mnistEval.length).item\n",
    "          println(\n",
    "            f\"Epoch: $epoch | Batch: $batchIndex%4d | Training loss: ${loss.item}%.4f | Eval loss: ${evalLoss.item}%.4f | Eval accuracy: $accuracy%.4f\"\n",
    "          )\n",
    "        //        it = it.increment\n",
    "\n",
    "      }\n",
    "    }\n",
    "    optimizerCopy.add_parameters(model.namedParameters()) //\n",
    "    println(s\"optimizerCopy ${optimizerCopy}\")\n",
    "    println(s\"optimizer ${optimizer}\")\n",
    "    println(s\"judge optimizer ${optimizer == optimizerCopy}\")\n",
    "    println(s\"model parameters dict ${model.namedParameters()}\")\n",
    "  }\n"
   ]
  },
  {
   "cell_type": "code",
   "execution_count": null,
   "id": "89196533-3732-4e43-9de2-140ff4d3f72b",
   "metadata": {},
   "outputs": [],
   "source": []
  }
 ],
 "metadata": {
  "kernelspec": {
   "display_name": "Scala",
   "language": "scala",
   "name": "scala"
  },
  "language_info": {
   "codemirror_mode": "text/x-scala",
   "file_extension": ".sc",
   "mimetype": "text/x-scala",
   "name": "scala",
   "nbconvert_exporter": "script",
   "version": "2.13.16"
  },
  "widgets": {
   "application/vnd.jupyter.widget-state+json": {
    "state": {},
    "version_major": 2,
    "version_minor": 0
   }
  }
 },
 "nbformat": 4,
 "nbformat_minor": 5
}
