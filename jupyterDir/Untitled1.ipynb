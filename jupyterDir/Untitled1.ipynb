{
 "cells": [
  {
   "cell_type": "code",
   "execution_count": 1,
   "id": "906ba7c9-d352-4a37-b6f6-4ef6e1d527cc",
   "metadata": {},
   "outputs": [
    {
     "name": "stdout",
     "output_type": "stream",
     "text": [
      "hello world\n"
     ]
    }
   ],
   "source": [
    "println(\"hello world\")"
   ]
  },
  {
   "cell_type": "code",
   "execution_count": 2,
   "id": "a6324f2a-a280-4ac9-adf9-6ca4e3dad55f",
   "metadata": {
    "jupyter": {
     "is_executing": true
    }
   },
   "outputs": [
    {
     "name": "stdout",
     "output_type": "stream",
     "text": [
      "46\n"
     ]
    },
    {
     "data": {
      "text/plain": [
       "\u001b[36ma\u001b[39m: \u001b[32mInt\u001b[39m = \u001b[32m34\u001b[39m\r\n",
       "\u001b[36mb\u001b[39m: \u001b[32mInt\u001b[39m = \u001b[32m12\u001b[39m\r\n",
       "\u001b[36mc\u001b[39m: \u001b[32mInt\u001b[39m = \u001b[32m46\u001b[39m"
      ]
     },
     "execution_count": 2,
     "metadata": {},
     "output_type": "execute_result"
    }
   ],
   "source": [
    "val a = 34\n",
    "val b= 12\n",
    "val c = a +b\n",
    "println(c)"
   ]
  },
  {
   "cell_type": "code",
   "execution_count": 10,
   "id": "4eeba5c4-348f-46d8-94ee-30fc2cb24f52",
   "metadata": {},
   "outputs": [
    {
     "data": {
      "text/plain": [
       "\u001b[32mimport \u001b[39m\u001b[36morg.bytedeco.javacpp.{FloatPointer, PointerScope}\r\n",
       "\r\n",
       "\u001b[39m"
      ]
     },
     "execution_count": 10,
     "metadata": {},
     "output_type": "execute_result"
    }
   ],
   "source": [
    "import org.bytedeco.javacpp.{FloatPointer, PointerScope}\n"
   ]
  },
  {
   "cell_type": "code",
   "execution_count": null,
   "id": "d35fd503-d2c2-4a3d-a536-13673206277a",
   "metadata": {},
   "outputs": [
    {
     "name": "stderr",
     "output_type": "stream",
     "text": [
      "(console)\n",
      "-- Error: <splitter>:1:50 ------------------------------------------------------\n",
      "1 |coursier resolve io.github.mullerhai:storch_core_3:0.5.1-1.15.2\n",
      "  |                                                  ^\n",
      "  |                                   end of statement expected but ':' found"
     ]
    }
   ],
   "source": [
    "coursier resolve io.github.mullerhai:storch_core_3:0.5.1-1.15.2"
   ]
  },
  {
   "cell_type": "code",
   "execution_count": null,
   "id": "f9026a8e-6d8f-43f2-bcaf-078bf0a42b8e",
   "metadata": {},
   "outputs": [
    {
     "name": "stderr",
     "output_type": "stream",
     "text": [
      "\u001b[2Khttps://repo1.maven.org/maven2/sh/almond/almond-toree-spark_3/0.14.1/almond-toree-spark_3-0.14.1.pom\n",
      "\u001b[2K    0.0% [          ] 0B (0B / s)\n",
      "\u001b[2A\u001b[10000D\u001b[2Khttps://repo1.maven.org/maven2/sh/almond/almond-toree-spark_3/0.14.1/almond-toree-spark_3-0.14.1.pom.sha1\n",
      "\u001b[2K    0.0% [          ] 0B (0B / s)\n",
      "\u001b[2A\u001b[10000D\u001b[2K\u001b[1B\u001b[2K\u001b[1B\u001b[2A\u001b[10000D\u001b[2Khttps://jitpack.io/sh/almond/almond-toree-spark_3/0.14.1/almond-toree-spark_3-0.14.1.pom\n",
      "\u001b[2K    0.0% [          ] 0B (0B / s)\n",
      "\u001b[2A\u001b[10000D\u001b[2Khttps://jitpack.io/sh/almond/almond-toree-spark_3/0.14.1/almond-toree-spark_3-0.14.1.pom.sha1\n",
      "\u001b[2K    0.0% [          ] 0B (0B / s)\n",
      "\u001b[2A\u001b[10000D\u001b[2K\u001b[1B\u001b[2K\u001b[1B\u001b[2A\u001b[10000DFailed to resolve ivy dependencies:Error downloading sh.almond:almond-toree-spark_3:0.14.1\n",
      "  not found: C:\\Users\\hai71\\.ivy2\\local\\sh.almond\\almond-toree-spark_3\\0.14.1\\ivys\\ivy.xml\n",
      "  not found: https://repo1.maven.org/maven2/sh/almond/almond-toree-spark_3/0.14.1/almond-toree-spark_3-0.14.1.pom\n",
      "  download error: Caught java.net.ConnectException (Connection timed out: connect) while downloading https://jitpack.io/sh/almond/almond-toree-spark_3/0.14.1/almond-toree-spark_3-0.14.1.pom"
     ]
    }
   ],
   "source": [
    "import $ivy.`sh.almond::almond-toree-spark:0.14.1`"
   ]
  },
  {
   "cell_type": "code",
   "execution_count": 7,
   "id": "275b07f6-2fb2-4018-9f5f-577c66e2ebdd",
   "metadata": {},
   "outputs": [
    {
     "data": {
      "text/plain": [
       "\u001b[32mimport \u001b[39m\u001b[36m$ivy.$                                              \r\n",
       "\u001b[39m"
      ]
     },
     "execution_count": 7,
     "metadata": {},
     "output_type": "execute_result"
    }
   ],
   "source": [
    "import $ivy.`io.github.mullerhai::storch_core:0.5.2-1.15.2`"
   ]
  },
  {
   "cell_type": "code",
   "execution_count": 1,
   "id": "d24ecd46-3e1c-4a30-98d6-f67f05865eb3",
   "metadata": {},
   "outputs": [
    {
     "name": "stderr",
     "output_type": "stream",
     "text": [
      "\u001b[2Khttps://repo1.maven.org/maven2/org/virtuslab/scala-cli/config_3/1.9.1/config_3-1.9.1.pom\n",
      "\u001b[2K    0.0% [          ] 0B (0B / s)\n",
      "\u001b[2A\u001b[10000D\u001b[2Khttps://repo1.maven.org/maven2/org/virtuslab/scala-cli/config_3/1.9.1/config_3-1.9.1.pom\n",
      "\u001b[2K    0.0% [          ] 0B (0B / s)\n",
      "\u001b[2A\u001b[10000D\u001b[2Khttps://repo1.maven.org/maven2/org/virtuslab/scala-cli/config_3/1.9.1/config_3-1.9.1.pom\n",
      "\u001b[2K  100.0% [##########] 2.7 KiB (958B / s)\n",
      "\u001b[2A\u001b[10000D\u001b[2Khttps://repo1.maven.org/maven2/org/virtuslab/scala-cli/config_3/1.9.1/config_3-1.9.1.pom\n",
      "\u001b[2K  100.0% [##########] 2.7 KiB (943B / s)\n",
      "\u001b[10000D\u001b[2Khttps://repo1.maven.org/maven2/org/virtuslab/scala-cli/specification-level_3/1.9.1/specification-level_3-1.9.1.pom\n",
      "\u001b[2K    0.0% [          ] 0B (0B / s)\n",
      "\u001b[2A\u001b[10000D\u001b[2Khttps://repo1.maven.org/maven2/org/virtuslab/scala-cli/specification-level_3/1.9.1/specification-level_3-1.9.1.pom\n",
      "\u001b[2K    0.0% [          ] 0B (0B / s)\n",
      "\u001b[2A\u001b[10000D\u001b[2Khttps://repo1.maven.org/maven2/org/virtuslab/scala-cli/specification-level_3/1.9.1/specification-level_3-1.9.1.pom\n",
      "\u001b[2K  100.0% [##########] 2.1 KiB (3.7 KiB / s)\n",
      "\u001b[10000D"
     ]
    },
    {
     "data": {
      "text/plain": [
       "\u001b[32mimport \u001b[39m\u001b[36m$ivy.$                                      \r\n",
       "\u001b[39m"
      ]
     },
     "execution_count": 1,
     "metadata": {},
     "output_type": "execute_result"
    }
   ],
   "source": [
    "import $ivy.`org.virtuslab.scala-cli::config:1.9.1`"
   ]
  },
  {
   "cell_type": "code",
   "execution_count": null,
   "id": "93c06ab4-42e0-4972-bf72-5bf0a9e7e023",
   "metadata": {},
   "outputs": [],
   "source": [
    "// import org.bytedeco.pytorch.global.torch as torchNative\n",
    "// import torch.internal.NativeConverters.fromNative\n",
    "// import torch.{---, ::, Slice}"
   ]
  },
  {
   "cell_type": "code",
   "execution_count": 15,
   "id": "0d5dc87a-fab9-42ba-956a-2201261a3046",
   "metadata": {},
   "outputs": [
    {
     "data": {
      "text/plain": [
       "\u001b[32mimport \u001b[39m\u001b[36m$ivy.$                                              \r\n",
       "\u001b[39m"
      ]
     },
     "execution_count": 15,
     "metadata": {},
     "output_type": "execute_result"
    }
   ],
   "source": [
    "import $ivy.`io.github.mullerhai::storch_core:0.5.4-1.15.2`"
   ]
  },
  {
   "cell_type": "code",
   "execution_count": 13,
   "id": "4641ba30-d29f-485e-bdb0-27bb045ec800",
   "metadata": {},
   "outputs": [
    {
     "data": {
      "text/plain": [
       "\u001b[32mimport \u001b[39m\u001b[36morg.bytedeco.pytorch.global.torch as torchNative\r\n",
       "\u001b[39m"
      ]
     },
     "execution_count": 13,
     "metadata": {},
     "output_type": "execute_result"
    }
   ],
   "source": [
    "import org.bytedeco.pytorch.global.torch as torchNative"
   ]
  },
  {
   "cell_type": "code",
   "execution_count": null,
   "id": "41c005ad-d9dc-4bfc-b7be-bcdf9a4d9830",
   "metadata": {},
   "outputs": [],
   "source": [
    "// import torch.internal.NativeConverters.fromNative"
   ]
  },
  {
   "cell_type": "code",
   "execution_count": null,
   "id": "618ddc45-d557-48fc-a544-fe2dbf8237ba",
   "metadata": {},
   "outputs": [],
   "source": [
    "// import torch.numpy"
   ]
  },
  {
   "cell_type": "code",
   "execution_count": null,
   "id": "8c11c558-346f-4087-98e3-eebc9aefcb6c",
   "metadata": {},
   "outputs": [],
   "source": [
    "import org.bytedeco.javacpp._\n",
    "import org.bytedeco.pytorch._\n",
    "import org.bytedeco.pytorch.Module\n",
    "import org.bytedeco.pytorch.global.torch._\n"
   ]
  },
  {
   "cell_type": "code",
   "execution_count": 17,
   "id": "888c5849-c319-4f3a-9958-fbfe5cfa71c9",
   "metadata": {},
   "outputs": [
    {
     "data": {
      "text/plain": [
       "defined \u001b[32mclass\u001b[39m \u001b[36mNet\u001b[39m"
      ]
     },
     "execution_count": 17,
     "metadata": {},
     "output_type": "execute_result"
    }
   ],
   "source": [
    "  class Net  extends Module {\n",
    "    // Construct and register two Linear submodules.\n",
    "    var fc1 = register_module(\"fc1\", new LinearImpl(784, 64))\n",
    "    var fc2 = register_module(\"fc2\", new LinearImpl(64, 32))\n",
    "    var fc3 = register_module(\"fc3\", new LinearImpl(32, 10))\n",
    "\n",
    "    // Implement the Net's algorithm.\n",
    "    def forward(xs: Tensor) = {\n",
    "      var x = xs  \n",
    "      // Use one of many tensor manipulation functions.\n",
    "      x = relu(fc1.forward(x.reshape(x.size(0), 784)))\n",
    "      x = dropout(x, /*p=*/ 0.5, /*train=*/ is_training)\n",
    "      x = relu(fc2.forward(x))\n",
    "      x = log_softmax(fc3.forward(x), /*dim=*/ 1)\n",
    "      x\n",
    "    }\n",
    "\n",
    "    // Use one of many \"standard library\" modules.\n",
    "//    final private[basic] var fc1: LinearImpl = null\n",
    "//    final private[basic] var fc2: LinearImpl = null\n",
    "//    final private[basic] var fc3: LinearImpl = null\n",
    "  }"
   ]
  },
  {
   "cell_type": "code",
   "execution_count": null,
   "id": "9cd815f3-8919-41bc-9266-81905281933a",
   "metadata": {},
   "outputs": [],
   "source": [
    "    System.setProperty(\"org.bytedeco.openblas.load\", \"mkl\")\n",
    "    // Create a new Net.\n",
    "    var path = \"D:\\\\data\\\\git\\\\testNumpy\\\\src\\\\main\\\\resources\\\\MNIST\\\\raw\\\\\"\n",
    "    val net = new Net\n",
    "    // Create a multi-threaded data loader for the MNIST dataset.\n",
    "    val data_set = new MNIST(path).map(new ExampleStack)\n",
    "    val data_loader = new MNISTRandomDataLoader(data_set, new RandomSampler(data_set.size.get), new DataLoaderOptions(/*batch_size=*/ 64))\n",
    "    // Instantiate an SGD optimization algorithm to update our Net's parameters.\n",
    "    val optimizer = new SGD(net.parameters, new SGDOptions(/*lr=*/ 0.01))\n",
    "    for (epoch <- 1 to 10) {\n",
    "      var batch_index = 0\n",
    "      // Iterate the data loader to yield batches from the dataset.\n",
    "      var it = data_loader.begin\n",
    "      while (!it.equals(data_loader.end)) {\n",
    "        val batch = it.access\n",
    "        // Reset gradients.\n",
    "        optimizer.zero_grad()\n",
    "        // Execute the model on the input data.\n",
    "        val prediction = net.forward(batch.data)\n",
    "        // Compute a loss value to judge the prediction of our model.\n",
    "        val loss = nll_loss(prediction, batch.target)\n",
    "        // Compute gradients of the loss w.r.t. the parameters of our model.\n",
    "        loss.backward()\n",
    "        // Update the parameters based on the calculated gradients.\n",
    "        optimizer.step\n",
    "        // Output the loss and checkpoint every 100 batches.\n",
    "        if ( {\n",
    "          batch_index += 1; batch_index\n",
    "        } % 100 == 0) {\n",
    "          System.out.println(\"Epoch: \" + epoch + \" | Batch: \" + batch_index + \" | Loss: \" + loss.item_float)\n",
    "          // Serialize your model periodically as a checkpoint.\n",
    "          val archive = new OutputArchive\n",
    "          net.save(archive)\n",
    "          archive.save_to(\"net.pt\")\n",
    "        }\n",
    "        it = it.increment\n",
    "      }\n",
    "                //it = it.increment\n",
    "    }"
   ]
  },
  {
   "cell_type": "code",
   "execution_count": null,
   "id": "78601e36-4e0b-409d-a8bd-32dc843780de",
   "metadata": {},
   "outputs": [],
   "source": []
  }
 ],
 "metadata": {
  "kernelspec": {
   "display_name": "Scala",
   "language": "scala",
   "name": "scala"
  },
  "language_info": {
   "codemirror_mode": "text/x-scala",
   "file_extension": ".sc",
   "mimetype": "text/x-scala",
   "name": "scala",
   "nbconvert_exporter": "script",
   "version": "2.13.16"
  }
 },
 "nbformat": 4,
 "nbformat_minor": 5
}
