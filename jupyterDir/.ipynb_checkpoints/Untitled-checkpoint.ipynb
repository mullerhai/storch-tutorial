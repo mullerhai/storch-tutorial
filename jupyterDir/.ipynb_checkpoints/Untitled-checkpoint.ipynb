{
 "cells": [
  {
   "metadata": {
    "jupyter": {
     "is_executing": true
    }
   },
   "cell_type": "code",
   "source": "println(\"hello world\")",
   "id": "8fa1307386b28e51",
   "outputs": [],
   "execution_count": null
  },
  {
   "metadata": {},
   "cell_type": "code",
   "outputs": [],
   "execution_count": null,
   "source": "",
   "id": "127431fee4aadbb5"
  },
  {
   "metadata": {
    "jupyter": {
     "is_executing": true
    }
   },
   "cell_type": "code",
   "source": "",
   "id": "77f9f9b0a4135c17",
   "outputs": [],
   "execution_count": null
  },
  {
   "metadata": {},
   "cell_type": "code",
   "outputs": [],
   "execution_count": null,
   "source": "",
   "id": "e6bbb9adfc4b7e34"
  }
 ],
 "metadata": {
  "kernelspec": {
   "name": "scala",
   "language": "scala",
   "display_name": "Scala"
  }
 },
 "nbformat": 4,
 "nbformat_minor": 5
}
