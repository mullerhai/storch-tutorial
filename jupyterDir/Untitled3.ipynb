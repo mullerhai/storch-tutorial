{
 "cells": [
  {
   "cell_type": "code",
   "execution_count": 2,
   "id": "ffd71be1-e3fe-4624-b45d-88e1f2b58ce6",
   "metadata": {},
   "outputs": [
    {
     "data": {
      "text/plain": [
       "\u001b[32mimport \u001b[39m\u001b[36morg.bytedeco.javacpp._\r\n",
       "\u001b[39m\r\n",
       "\u001b[32mimport \u001b[39m\u001b[36morg.bytedeco.pytorch._\r\n",
       "\u001b[39m\r\n",
       "\u001b[32mimport \u001b[39m\u001b[36morg.bytedeco.pytorch.Module\r\n",
       "\u001b[39m\r\n",
       "\u001b[32mimport \u001b[39m\u001b[36morg.bytedeco.pytorch.global.torch._\r\n",
       "\u001b[39m"
      ]
     },
     "execution_count": 2,
     "metadata": {},
     "output_type": "execute_result"
    }
   ],
   "source": [
    "import org.bytedeco.javacpp._\n",
    "import org.bytedeco.pytorch._\n",
    "import org.bytedeco.pytorch.Module\n",
    "import org.bytedeco.pytorch.global.torch._"
   ]
  },
  {
   "cell_type": "code",
   "execution_count": 1,
   "id": "55fd7276-f99a-441d-87b5-f24f3b1d214f",
   "metadata": {},
   "outputs": [
    {
     "data": {
      "text/plain": [
       "\u001b[32mimport \u001b[39m\u001b[36m$ivy.$                                              \r\n",
       "\u001b[39m"
      ]
     },
     "execution_count": 1,
     "metadata": {},
     "output_type": "execute_result"
    }
   ],
   "source": [
    "import $ivy.`io.github.mullerhai::storch_core:0.5.4-1.15.2`"
   ]
  },
  {
   "cell_type": "code",
   "execution_count": 3,
   "id": "bde534c9-b83d-4249-811d-1ed25a8d965e",
   "metadata": {},
   "outputs": [
    {
     "data": {
      "text/plain": [
       "defined \u001b[32mclass\u001b[39m \u001b[36mNet\u001b[39m"
      ]
     },
     "execution_count": 3,
     "metadata": {},
     "output_type": "execute_result"
    }
   ],
   "source": [
    "  class Net  extends Module {\n",
    "    // Construct and register two Linear submodules.\n",
    "    var fc1 = register_module(\"fc1\", new LinearImpl(784, 64))\n",
    "    var fc2 = register_module(\"fc2\", new LinearImpl(64, 32))\n",
    "    var fc3 = register_module(\"fc3\", new LinearImpl(32, 10))\n",
    "\n",
    "    // Implement the Net's algorithm.\n",
    "    def forward(xs: Tensor) = {\n",
    "      var x = xs  \n",
    "      // Use one of many tensor manipulation functions.\n",
    "      x = relu(fc1.forward(x.reshape(x.size(0), 784)))\n",
    "      x = dropout(x, /*p=*/ 0.5, /*train=*/ is_training)\n",
    "      x = relu(fc2.forward(x))\n",
    "      x = log_softmax(fc3.forward(x), /*dim=*/ 1)\n",
    "      x\n",
    "    }\n",
    "\n",
    "  }"
   ]
  },
  {
   "cell_type": "code",
   "execution_count": 4,
   "id": "bbfa682c-d80c-4331-be42-4fd90ebbfe72",
   "metadata": {},
   "outputs": [
    {
     "name": "stdout",
     "output_type": "stream",
     "text": [
      "Epoch: 1 | Batch: 100 | Loss: 2.2628357\n",
      "Epoch: 1 | Batch: 200 | Loss: 2.2406292\n",
      "Epoch: 1 | Batch: 300 | Loss: 2.2005146\n",
      "Epoch: 1 | Batch: 400 | Loss: 2.0737753\n",
      "Epoch: 1 | Batch: 500 | Loss: 1.9713025\n",
      "Epoch: 1 | Batch: 600 | Loss: 1.8352133\n",
      "Epoch: 1 | Batch: 700 | Loss: 1.7310286\n",
      "Epoch: 1 | Batch: 800 | Loss: 1.462649\n",
      "Epoch: 1 | Batch: 900 | Loss: 1.2704645\n",
      "Epoch: 2 | Batch: 100 | Loss: 1.2308282\n",
      "Epoch: 2 | Batch: 200 | Loss: 1.2567995\n",
      "Epoch: 2 | Batch: 300 | Loss: 0.9663795\n",
      "Epoch: 2 | Batch: 400 | Loss: 0.9346358\n",
      "Epoch: 2 | Batch: 500 | Loss: 0.77269226\n",
      "Epoch: 2 | Batch: 600 | Loss: 1.0925633\n",
      "Epoch: 2 | Batch: 700 | Loss: 0.75768393\n",
      "Epoch: 2 | Batch: 800 | Loss: 0.6862199\n",
      "Epoch: 2 | Batch: 900 | Loss: 0.63620365\n",
      "Epoch: 3 | Batch: 100 | Loss: 0.72956884\n",
      "Epoch: 3 | Batch: 200 | Loss: 0.55568844\n",
      "Epoch: 3 | Batch: 300 | Loss: 0.6798467\n",
      "Epoch: 3 | Batch: 400 | Loss: 0.7654709\n",
      "Epoch: 3 | Batch: 500 | Loss: 0.6456808\n",
      "Epoch: 3 | Batch: 600 | Loss: 0.67417634\n",
      "Epoch: 3 | Batch: 700 | Loss: 0.653983\n",
      "Epoch: 3 | Batch: 800 | Loss: 0.43218264\n",
      "Epoch: 3 | Batch: 900 | Loss: 0.5953482\n",
      "Epoch: 4 | Batch: 100 | Loss: 0.49057955\n",
      "Epoch: 4 | Batch: 200 | Loss: 0.62125134\n",
      "Epoch: 4 | Batch: 300 | Loss: 0.7681971\n",
      "Epoch: 4 | Batch: 400 | Loss: 0.59013104\n",
      "Epoch: 4 | Batch: 500 | Loss: 0.5072951\n",
      "Epoch: 4 | Batch: 600 | Loss: 0.47536075\n",
      "Epoch: 4 | Batch: 700 | Loss: 0.4554546\n",
      "Epoch: 4 | Batch: 800 | Loss: 0.54110634\n",
      "Epoch: 4 | Batch: 900 | Loss: 0.45791987\n",
      "Epoch: 5 | Batch: 100 | Loss: 0.5387619\n",
      "Epoch: 5 | Batch: 200 | Loss: 0.54710877\n",
      "Epoch: 5 | Batch: 300 | Loss: 0.50184375\n",
      "Epoch: 5 | Batch: 400 | Loss: 0.66934913\n",
      "Epoch: 5 | Batch: 500 | Loss: 0.52098954\n",
      "Epoch: 5 | Batch: 600 | Loss: 0.5589229\n",
      "Epoch: 5 | Batch: 700 | Loss: 0.72943133\n",
      "Epoch: 5 | Batch: 800 | Loss: 0.3999461\n",
      "Epoch: 5 | Batch: 900 | Loss: 0.48394713\n",
      "Epoch: 6 | Batch: 100 | Loss: 0.43929696\n",
      "Epoch: 6 | Batch: 200 | Loss: 0.30671078\n",
      "Epoch: 6 | Batch: 300 | Loss: 0.54807156\n",
      "Epoch: 6 | Batch: 400 | Loss: 0.49107584\n",
      "Epoch: 6 | Batch: 500 | Loss: 0.34712398\n",
      "Epoch: 6 | Batch: 600 | Loss: 0.3564959\n",
      "Epoch: 6 | Batch: 700 | Loss: 0.4230305\n",
      "Epoch: 6 | Batch: 800 | Loss: 0.34256446\n",
      "Epoch: 6 | Batch: 900 | Loss: 0.35005835\n",
      "Epoch: 7 | Batch: 100 | Loss: 0.6512697\n",
      "Epoch: 7 | Batch: 200 | Loss: 0.39054835\n",
      "Epoch: 7 | Batch: 300 | Loss: 0.4896628\n",
      "Epoch: 7 | Batch: 400 | Loss: 0.5080723\n",
      "Epoch: 7 | Batch: 500 | Loss: 0.22075443\n",
      "Epoch: 7 | Batch: 600 | Loss: 0.45427722\n",
      "Epoch: 7 | Batch: 700 | Loss: 0.31966707\n",
      "Epoch: 7 | Batch: 800 | Loss: 0.4709597\n",
      "Epoch: 7 | Batch: 900 | Loss: 0.29447582\n",
      "Epoch: 8 | Batch: 100 | Loss: 0.39464968\n",
      "Epoch: 8 | Batch: 200 | Loss: 0.2174082\n",
      "Epoch: 8 | Batch: 300 | Loss: 0.5940321\n",
      "Epoch: 8 | Batch: 400 | Loss: 0.44949347\n",
      "Epoch: 8 | Batch: 500 | Loss: 0.3492296\n",
      "Epoch: 8 | Batch: 600 | Loss: 0.2908852\n",
      "Epoch: 8 | Batch: 700 | Loss: 0.54137516\n",
      "Epoch: 8 | Batch: 800 | Loss: 0.3137645\n",
      "Epoch: 8 | Batch: 900 | Loss: 0.48665163\n",
      "Epoch: 9 | Batch: 100 | Loss: 0.244733\n",
      "Epoch: 9 | Batch: 200 | Loss: 0.2664917\n",
      "Epoch: 9 | Batch: 300 | Loss: 0.35147822\n",
      "Epoch: 9 | Batch: 400 | Loss: 0.3774806\n",
      "Epoch: 9 | Batch: 500 | Loss: 0.30885404\n",
      "Epoch: 9 | Batch: 600 | Loss: 0.24897507\n",
      "Epoch: 9 | Batch: 700 | Loss: 0.2617821\n",
      "Epoch: 9 | Batch: 800 | Loss: 0.22914098\n",
      "Epoch: 9 | Batch: 900 | Loss: 0.26550063\n",
      "Epoch: 10 | Batch: 100 | Loss: 0.58166695\n",
      "Epoch: 10 | Batch: 200 | Loss: 0.34861836\n",
      "Epoch: 10 | Batch: 300 | Loss: 0.40599686\n",
      "Epoch: 10 | Batch: 400 | Loss: 0.24911296\n",
      "Epoch: 10 | Batch: 500 | Loss: 0.27185014\n",
      "Epoch: 10 | Batch: 600 | Loss: 0.36533993\n",
      "Epoch: 10 | Batch: 700 | Loss: 0.3624984\n",
      "Epoch: 10 | Batch: 800 | Loss: 0.34836173\n",
      "Epoch: 10 | Batch: 900 | Loss: 0.5344297\n"
     ]
    },
    {
     "data": {
      "text/plain": [
       "\u001b[36mres4_0\u001b[39m: \u001b[32mString\u001b[39m = \u001b[32mnull\u001b[39m\r\n",
       "\u001b[36mpath\u001b[39m: \u001b[32mString\u001b[39m = \u001b[32m\"D:\\\\data\\\\git\\\\testNumpy\\\\src\\\\main\\\\resources\\\\MNIST\\\\raw\\\\\"\u001b[39m\r\n",
       "\u001b[36mnet\u001b[39m: \u001b[32mNet\u001b[39m = ammonite.$sess.cmd3$Helper$Net[address=0x1ca7cd7ac70,position=0,limit=0,capacity=0,deallocator=org.bytedeco.javacpp.Pointer$NativeDeallocator[ownerAddress=0x1a27cddbaa0,deallocatorAddress=0x7ffb7c2b5f40]]\r\n",
       "\u001b[36mdata_set\u001b[39m: \u001b[32mMNISTMapDataset\u001b[39m = org.bytedeco.pytorch.MNISTMapDataset[address=0x19a423e5d50,position=0,limit=1,capacity=1,deallocator=org.bytedeco.javacpp.Pointer$NativeDeallocator[ownerAddress=0x19a423e5d50,deallocatorAddress=0x7ffb7b92f390]]\r\n",
       "\u001b[36mdata_loader\u001b[39m: \u001b[32mMNISTRandomDataLoader\u001b[39m = org.bytedeco.pytorch.MNISTRandomDataLoader[address=0x1ca7ccfb6e0,position=0,limit=1,capacity=1,deallocator=org.bytedeco.javacpp.Pointer$NativeDeallocator[ownerAddress=0x1ca7ccfb6e0,deallocatorAddress=0x7ffb7b92f390]]\r\n",
       "\u001b[36moptimizer\u001b[39m: \u001b[32mSGD\u001b[39m = org.bytedeco.pytorch.SGD[address=0x19a41b57a20,position=0,limit=1,capacity=1,deallocator=org.bytedeco.javacpp.Pointer$NativeDeallocator[ownerAddress=0x19a41b57a20,deallocatorAddress=0x7ffb7b92f390]]"
      ]
     },
     "execution_count": 4,
     "metadata": {},
     "output_type": "execute_result"
    }
   ],
   "source": [
    "    System.setProperty(\"org.bytedeco.openblas.load\", \"mkl\")\n",
    "    // Create a new Net.\n",
    "    var path = \"D:\\\\data\\\\git\\\\testNumpy\\\\src\\\\main\\\\resources\\\\MNIST\\\\raw\\\\\"\n",
    "    val net = new Net\n",
    "    // Create a multi-threaded data loader for the MNIST dataset.\n",
    "    val data_set = new MNIST(path).map(new ExampleStack)\n",
    "    val data_loader = new MNISTRandomDataLoader(data_set, new RandomSampler(data_set.size.get), new DataLoaderOptions(/*batch_size=*/ 64))\n",
    "    // Instantiate an SGD optimization algorithm to update our Net's parameters.\n",
    "    val optimizer = new SGD(net.parameters, new SGDOptions(/*lr=*/ 0.01))\n",
    "    for (epoch <- 1 to 10) {\n",
    "      var batch_index = 0\n",
    "      // Iterate the data loader to yield batches from the dataset.\n",
    "      var it = data_loader.begin\n",
    "      while (!it.equals(data_loader.end)) {\n",
    "        val batch = it.access\n",
    "        // Reset gradients.\n",
    "        optimizer.zero_grad()\n",
    "        // Execute the model on the input data.\n",
    "        val prediction = net.forward(batch.data)\n",
    "        // Compute a loss value to judge the prediction of our model.\n",
    "        val loss = nll_loss(prediction, batch.target)\n",
    "        // Compute gradients of the loss w.r.t. the parameters of our model.\n",
    "        loss.backward()\n",
    "        // Update the parameters based on the calculated gradients.\n",
    "        optimizer.step\n",
    "        // Output the loss and checkpoint every 100 batches.\n",
    "        if ( {\n",
    "          batch_index += 1; batch_index\n",
    "        } % 100 == 0) {\n",
    "          System.out.println(\"Epoch: \" + epoch + \" | Batch: \" + batch_index + \" | Loss: \" + loss.item_float)\n",
    "          // Serialize your model periodically as a checkpoint.\n",
    "          val archive = new OutputArchive\n",
    "          net.save(archive)\n",
    "          archive.save_to(\"net.pt\")\n",
    "        }\n",
    "        it = it.increment\n",
    "      }\n",
    "                //it = it.increment\n",
    "    }"
   ]
  },
  {
   "cell_type": "code",
   "execution_count": 4,
   "id": "81a497c9-e80b-489f-82e8-91171ac240c9",
   "metadata": {},
   "outputs": [
    {
     "name": "stdout",
     "output_type": "stream",
     "text": [
      "\n",
      "  unhandled exception while running ammonite on cmd5.sc\n",
      "\n",
      "  An unhandled exception was thrown in the compiler.\n",
      "  Please file a crash report here:\n",
      "  https://github.com/scala/scala3/issues/new/choose\n",
      "  For non-enriched exceptions, compile with -Xno-enrich-error-messages.\n",
      "\n",
      "\n",
      "     while compiling: cmd5.sc\n",
      "        during phase: ammonite\n",
      "                mode: Mode(ImplicitsEnabled,ReadPositions,Interactive)\n",
      "     library version: version 2.13.16\n",
      "    compiler version: version 3.6.3\n",
      "            settings: -Ycook-docs true -color never -d (memory) -deprecation true -feature true\n",
      "\n"
     ]
    },
    {
     "ename": "dotty.tools.dotc.core.TypeError$$anon$1",
     "evalue": "Toplevel definition nextafter is defined in\n  C:\\Users\\hai71\\.ivy2\\local\\io.github.mullerhai\\storch_core_3\\0.5.4-1.15.2\\jars\\storch_core_3.jar(torch/ops/PointwiseOps.tasty)\nand also in\n  C:\\Users\\hai71\\.ivy2\\local\\io.github.mullerhai\\storch_core_3\\0.5.4-1.15.2\\jars\\storch_core_3.jar(torch/ops/BLASOps.tasty)\nOne of these files should be removed from the classpath.",
     "output_type": "error",
     "traceback": [
      "\u001b[31mdotty.tools.dotc.core.TypeError$$anon$1: Toplevel definition nextafter is defined in\n  C:\\Users\\hai71\\.ivy2\\local\\io.github.mullerhai\\storch_core_3\\0.5.4-1.15.2\\jars\\storch_core_3.jar(torch/ops/PointwiseOps.tasty)\nand also in\n  C:\\Users\\hai71\\.ivy2\\local\\io.github.mullerhai\\storch_core_3\\0.5.4-1.15.2\\jars\\storch_core_3.jar(torch/ops/BLASOps.tasty)\nOne of these files should be removed from the classpath.\u001b[39m"
     ]
    }
   ],
   "source": [
    "import torch.numpy"
   ]
  },
  {
   "cell_type": "code",
   "execution_count": 4,
   "id": "76d8513f-b7a2-4890-aa99-da6e814daecf",
   "metadata": {},
   "outputs": [
    {
     "name": "stdout",
     "output_type": "stream",
     "text": [
      "\n",
      "  unhandled exception while running ammonite on cmd5.sc\n",
      "\n",
      "  An unhandled exception was thrown in the compiler.\n",
      "  Please file a crash report here:\n",
      "  https://github.com/scala/scala3/issues/new/choose\n",
      "  For non-enriched exceptions, compile with -Xno-enrich-error-messages.\n",
      "\n",
      "\n",
      "     while compiling: cmd5.sc\n",
      "        during phase: ammonite\n",
      "                mode: Mode(ImplicitsEnabled,ReadPositions,Interactive)\n",
      "     library version: version 2.13.16\n",
      "    compiler version: version 3.6.3\n",
      "            settings: -Ycook-docs true -color never -d (memory) -deprecation true -feature true\n",
      "\n"
     ]
    },
    {
     "ename": "dotty.tools.dotc.core.TypeError$$anon$1",
     "evalue": "Toplevel definition nextafter is defined in\n  C:\\Users\\hai71\\.ivy2\\local\\io.github.mullerhai\\storch_core_3\\0.5.4-1.15.2\\jars\\storch_core_3.jar(torch/ops/PointwiseOps.tasty)\nand also in\n  C:\\Users\\hai71\\.ivy2\\local\\io.github.mullerhai\\storch_core_3\\0.5.4-1.15.2\\jars\\storch_core_3.jar(torch/ops/BLASOps.tasty)\nOne of these files should be removed from the classpath.",
     "output_type": "error",
     "traceback": [
      "\u001b[31mdotty.tools.dotc.core.TypeError$$anon$1: Toplevel definition nextafter is defined in\n  C:\\Users\\hai71\\.ivy2\\local\\io.github.mullerhai\\storch_core_3\\0.5.4-1.15.2\\jars\\storch_core_3.jar(torch/ops/PointwiseOps.tasty)\nand also in\n  C:\\Users\\hai71\\.ivy2\\local\\io.github.mullerhai\\storch_core_3\\0.5.4-1.15.2\\jars\\storch_core_3.jar(torch/ops/BLASOps.tasty)\nOne of these files should be removed from the classpath.\u001b[39m"
     ]
    }
   ],
   "source": [
    "import org.bytedeco.pytorch.global.torch as torchNative\n",
    "import torch.internal.NativeConverters.fromNative\n",
    "import torch.{---, ::, Slice}"
   ]
  },
  {
   "cell_type": "code",
   "execution_count": null,
   "id": "224f1ea3-19dc-4fac-ad72-12ee7a55ab17",
   "metadata": {},
   "outputs": [],
   "source": []
  }
 ],
 "metadata": {
  "kernelspec": {
   "display_name": "Scala",
   "language": "scala",
   "name": "scala"
  },
  "language_info": {
   "codemirror_mode": "text/x-scala",
   "file_extension": ".sc",
   "mimetype": "text/x-scala",
   "name": "scala",
   "nbconvert_exporter": "script",
   "version": "2.13.16"
  }
 },
 "nbformat": 4,
 "nbformat_minor": 5
}
